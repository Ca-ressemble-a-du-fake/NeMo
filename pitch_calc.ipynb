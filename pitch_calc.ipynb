{
 "cells": [
  {
   "cell_type": "markdown",
   "id": "39170ca7",
   "metadata": {},
   "source": [
    "# Pitch Statistics per emotion"
   ]
  },
  {
   "cell_type": "code",
   "execution_count": null,
   "id": "3b324c5c",
   "metadata": {},
   "outputs": [],
   "source": [
    "# pitch mean and std deviation calculations per emotion\n"
   ]
  },
  {
   "cell_type": "code",
   "execution_count": 2,
   "id": "821334f1",
   "metadata": {},
   "outputs": [],
   "source": [
    "from omegaconf import OmegaConf\n",
    "from hydra.utils import instantiate\n",
    "import torch\n",
    "from tqdm import tqdm"
   ]
  },
  {
   "cell_type": "code",
   "execution_count": 3,
   "id": "455d4c7a",
   "metadata": {},
   "outputs": [],
   "source": [
    "# manifest_path = \"/DataEmotionalTTS/datasets_v2/openslr110/thorsten-emotional_v02/train_manifest_phonemes.json\"\n",
    "manifest_path = \"/DataEmotionalTTS/datasets_v2/openslr110/thorsten-emotional_v02/test_manifest_phonemes_tmp.json\"\n",
    "sup_path = \"/DataGermanTTS/datasets_v2/openslr110/thorsten-emotional_v02/sup_data/\"\n",
    "emo_map = {8:\"neutral\", 1:\"amused\", 2:\"angry\", 3:\"disgusted\", 4:\"drunk\", 5:\"sleepy\", 6:\"surprised\", 7:\"whisper\"}"
   ]
  },
  {
   "cell_type": "code",
   "execution_count": 4,
   "id": "11d8c6fb",
   "metadata": {},
   "outputs": [],
   "source": [
    "def get_pitch_stats(pitch_list):\n",
    "#     print(pitch_list)\n",
    "    pitch_tensor = torch.cat(pitch_list)\n",
    "    pitch_mean, pitch_std = pitch_tensor.mean().item(), pitch_tensor.std().item()\n",
    "    pitch_min, pitch_max = pitch_tensor.min().item(), pitch_tensor.max().item()\n",
    "    print(f\"PITCH_MEAN={pitch_mean}, PITCH_STD={pitch_std}\")\n",
    "    print(f\"PITCH_MIN={pitch_min}, PITCH_MAX={pitch_max}\")\n",
    "\n",
    "def preprocess_ds_for_fastpitch_align(dataloader):\n",
    "    pitch_list = {k: [] for k in range(1,1+len(emo_map))}\n",
    "    for batch in tqdm(dataloader, total=len(dataloader)):\n",
    "        audios, audio_lengths, tokens, tokens_lengths, align_prior_matrices, pitches, pitches_lengths, emotion_ids = batch\n",
    "        emotion_ext = emotion_ids.squeeze(0).item()\n",
    "        pitch = pitches.squeeze(0)\n",
    "        pitch_list[emotion_ext].append(pitch[pitch != 0])\n",
    "        \n",
    "#     print(pitch_list)\n",
    "    for emotion in range(1,len(emo_map)+1):\n",
    "        if pitch_list[emotion] != []:\n",
    "            print(\"Pitch statistics for emotionid: \", emotion, \" = \", emo_map[emotion])\n",
    "            get_pitch_stats(pitch_list[emotion])"
   ]
  },
  {
   "cell_type": "code",
   "execution_count": 5,
   "id": "075d69b2",
   "metadata": {},
   "outputs": [
    {
     "name": "stderr",
     "output_type": "stream",
     "text": [
      "[NeMo W 2022-09-30 03:31:03 nemo_logging:349] /opt/conda/lib/python3.8/site-packages/apex/pyprof/__init__.py:5: FutureWarning: pyprof will be removed by the end of June, 2022\n",
      "      warnings.warn(\"pyprof will be removed by the end of June, 2022\", FutureWarning)\n",
      "    \n",
      "[NeMo W 2022-09-30 03:31:04 experimental:27] Module <class 'nemo.collections.tts.torch.tts_tokenizers.IPATokenizer'> is experimental, not ready for production and is not fully supported. Use at your own risk.\n"
     ]
    },
    {
     "name": "stdout",
     "output_type": "stream",
     "text": [
      "[NeMo I 2022-09-30 03:31:05 tokenize_and_classify:81] Creating ClassifyFst grammars. This might take some time...\n",
      "[NeMo I 2022-09-30 03:31:21 data:188] Loading dataset from /DataEmotionalTTS/datasets_v2/openslr110/thorsten-emotional_v02/test_manifest_phonemes_tmp.json.\n"
     ]
    },
    {
     "name": "stderr",
     "output_type": "stream",
     "text": [
      "8it [00:00, 18137.53it/s]"
     ]
    },
    {
     "name": "stdout",
     "output_type": "stream",
     "text": [
      "[NeMo I 2022-09-30 03:31:21 data:227] Loaded dataset with 8 files.\n",
      "[NeMo I 2022-09-30 03:31:21 data:228] Loaded emotions: 8\n",
      "[NeMo I 2022-09-30 03:31:21 data:230] Dataset contains 0.02 hours.\n",
      "[NeMo I 2022-09-30 03:31:21 data:328] Pruned 0 files. Final dataset contains 8 files\n",
      "[NeMo I 2022-09-30 03:31:21 data:330] Pruned 0.00 hours. Final dataset contains 0.02 hours.\n"
     ]
    },
    {
     "name": "stderr",
     "output_type": "stream",
     "text": [
      "\n"
     ]
    }
   ],
   "source": [
    "cfg = OmegaConf.load(\"scripts/dataset_processing/tts/openslr_emotional/ds_conf/ds_for_fastpitch_align.yaml\")\n",
    "cfg.manifest_filepath = manifest_path\n",
    "cfg.sup_data_path = sup_path\n",
    "dataset = instantiate(cfg.dataset)"
   ]
  },
  {
   "cell_type": "code",
   "execution_count": 6,
   "id": "82e130ea",
   "metadata": {},
   "outputs": [],
   "source": [
    "dataloader = torch.utils.data.DataLoader(\n",
    "        dataset=dataset, batch_size=1, collate_fn=dataset._collate_fn, num_workers=cfg.dataloader_params.num_workers\n",
    "    )"
   ]
  },
  {
   "cell_type": "code",
   "execution_count": 7,
   "id": "93a06d9d",
   "metadata": {},
   "outputs": [
    {
     "name": "stderr",
     "output_type": "stream",
     "text": [
      "100%|█████████████████████████████████████████████| 8/8 [00:00<00:00, 18.18it/s]"
     ]
    },
    {
     "name": "stdout",
     "output_type": "stream",
     "text": [
      "Pitch statistics for emotionid:  1  =  amused\n",
      "PITCH_MEAN=180.87083435058594, PITCH_STD=57.548248291015625\n",
      "PITCH_MIN=96.87324523925781, PITCH_MAX=347.2168273925781\n",
      "Pitch statistics for emotionid:  2  =  angry\n",
      "PITCH_MEAN=228.29937744140625, PITCH_STD=63.06633377075195\n",
      "PITCH_MIN=80.52471160888672, PITCH_MAX=374.2935485839844\n",
      "Pitch statistics for emotionid:  3  =  disgusted\n",
      "PITCH_MEAN=186.79696655273438, PITCH_STD=56.79970932006836\n",
      "PITCH_MIN=82.88426971435547, PITCH_MAX=463.4788513183594\n",
      "Pitch statistics for emotionid:  4  =  drunk\n",
      "PITCH_MEAN=167.3087921142578, PITCH_STD=48.126434326171875\n",
      "PITCH_MIN=88.32151794433594, PITCH_MAX=297.0769958496094\n",
      "Pitch statistics for emotionid:  5  =  sleepy\n",
      "PITCH_MEAN=134.2330780029297, PITCH_STD=32.633056640625\n",
      "PITCH_MIN=88.83316040039062, PITCH_MAX=244.10528564453125\n",
      "Pitch statistics for emotionid:  6  =  surprised\n",
      "PITCH_MEAN=143.5443878173828, PITCH_STD=39.36917495727539\n",
      "PITCH_MIN=99.1375503540039, PITCH_MAX=254.17759704589844\n",
      "Pitch statistics for emotionid:  7  =  whisper\n",
      "PITCH_MEAN=1928.170654296875, PITCH_STD=48.93271255493164\n",
      "PITCH_MIN=1864.655029296875, PITCH_MAX=1986.977294921875\n",
      "Pitch statistics for emotionid:  8  =  neutral\n",
      "PITCH_MEAN=132.7571563720703, PITCH_STD=33.54356002807617\n",
      "PITCH_MIN=85.3129653930664, PITCH_MAX=254.17759704589844\n"
     ]
    },
    {
     "name": "stderr",
     "output_type": "stream",
     "text": [
      "\n"
     ]
    }
   ],
   "source": [
    "preprocess_ds_for_fastpitch_align(dataloader)"
   ]
  },
  {
   "cell_type": "code",
   "execution_count": null,
   "id": "f961683f",
   "metadata": {},
   "outputs": [],
   "source": []
  },
  {
   "cell_type": "markdown",
   "id": "81152574",
   "metadata": {},
   "source": [
    "### sentence_1\n",
    "\n",
    "```json\n",
    "{\"audio_filepath\": \"/DataEmotionalTTS/thorsten-emotional_v02/amused/0dab10b16c7b606c059abe21d1eb2900.wav\", \"duration\": 4.3, \"text\": \"Tragen Sie die Adressen Ihrer Stra\\u00dfe bitte in OpenStreetMap ein!\", \"normalized_text\": \"Tragen Sie die Adressen Ihrer Stra\\u00dfe bitte in OpenStreetMap ein!\", \"emotion_id\": 1, \"is_phoneme\": 0}\n",
    "{\"audio_filepath\": \"/DataEmotionalTTS/thorsten-emotional_v02/angry/0dab10b16c7b606c059abe21d1eb2900.wav\", \"duration\": 3.96, \"text\": \"Tragen Sie die Adressen Ihrer Stra\\u00dfe bitte in OpenStreetMap ein!\", \"normalized_text\": \"Tragen Sie die Adressen Ihrer Stra\\u00dfe bitte in OpenStreetMap ein!\", \"emotion_id\": 2, \"is_phoneme\": 0}\n",
    "{\"audio_filepath\": \"/DataEmotionalTTS/thorsten-emotional_v02/disgusted/0dab10b16c7b606c059abe21d1eb2900.wav\", \"duration\": 5.130023, \"text\": \"Tragen Sie die Adressen Ihrer Stra\\u00dfe bitte in OpenStreetMap ein!\", \"normalized_text\": \"Tragen Sie die Adressen Ihrer Stra\\u00dfe bitte in OpenStreetMap ein!\", \"emotion_id\": 3, \"is_phoneme\": 0}\n",
    "{\"audio_filepath\": \"/DataEmotionalTTS/thorsten-emotional_v02/drunk/0dab10b16c7b606c059abe21d1eb2900.wav\", \"duration\": 5.930023, \"text\": \"Tragen Sie die Adressen Ihrer Stra\\u00dfe bitte in OpenStreetMap ein!\", \"normalized_text\": \"Tragen Sie die Adressen Ihrer Stra\\u00dfe bitte in OpenStreetMap ein!\", \"emotion_id\": 4, \"is_phoneme\": 0}\n",
    "{\"audio_filepath\": \"/DataEmotionalTTS/thorsten-emotional_v02/sleepy/0dab10b16c7b606c059abe21d1eb2900.wav\", \"duration\": 6.430023, \"text\": \"Tragen Sie die Adressen Ihrer Stra\\u00dfe bitte in OpenStreetMap ein!\", \"normalized_text\": \"Tragen Sie die Adressen Ihrer Stra\\u00dfe bitte in OpenStreetMap ein!\", \"emotion_id\": 5, \"is_phoneme\": 0}\n",
    "{\"audio_filepath\": \"/DataEmotionalTTS/thorsten-emotional_v02/surprised/0dab10b16c7b606c059abe21d1eb2900.wav\", \"duration\": 3.950023, \"text\": \"Tragen Sie die Adressen Ihrer Stra\\u00dfe bitte in OpenStreetMap ein!\", \"normalized_text\": \"Tragen Sie die Adressen Ihrer Stra\\u00dfe bitte in OpenStreetMap ein!\", \"emotion_id\": 6, \"is_phoneme\": 0}\n",
    "{\"audio_filepath\": \"/DataEmotionalTTS/thorsten-emotional_v02/whisper/0dab10b16c7b606c059abe21d1eb2900.wav\", \"duration\": 4.810023, \"text\": \"Tragen Sie die Adressen Ihrer Stra\\u00dfe bitte in OpenStreetMap ein!\", \"normalized_text\": \"Tragen Sie die Adressen Ihrer Stra\\u00dfe bitte in OpenStreetMap ein!\", \"emotion_id\": 7, \"is_phoneme\": 0}\n",
    "{\"audio_filepath\": \"/DataEmotionalTTS/thorsten-emotional_v02/neutral/0dab10b16c7b606c059abe21d1eb2900.wav\", \"duration\": 3.981633, \"text\": \"Tragen Sie die Adressen Ihrer Stra\\u00dfe bitte in OpenStreetMap ein!\", \"normalized_text\": \"Tragen Sie die Adressen Ihrer Stra\\u00dfe bitte in OpenStreetMap ein!\", \"emotion_id\": 8, \"is_phoneme\": 0}\n",
    "```"
   ]
  },
  {
   "cell_type": "code",
   "execution_count": null,
   "id": "816a194b",
   "metadata": {},
   "outputs": [],
   "source": []
  },
  {
   "cell_type": "markdown",
   "id": "60bda96b",
   "metadata": {},
   "source": [
    "### sentence_2\n",
    "\n",
    "```json\n",
    "{\"audio_filepath\": \"/DataEmotionalTTS/thorsten-emotional_v02/amused/aff5db4056eb7a6273f41537f3b9798c.wav\", \"duration\": 3.910023, \"text\": \"Wie berechnet man die optimale konvexe H\\u00fclle beliebiger K\\u00f6rper?\", \"normalized_text\": \"Wie berechnet man die optimale konvexe H\\u00fclle beliebiger K\\u00f6rper?\", \"emotion_id\": 1, \"is_phoneme\": 0}\n",
    "{\"audio_filepath\": \"/DataEmotionalTTS/thorsten-emotional_v02/angry/aff5db4056eb7a6273f41537f3b9798c.wav\", \"duration\": 4.86, \"text\": \"Wie berechnet man die optimale konvexe H\\u00fclle beliebiger K\\u00f6rper?\", \"normalized_text\": \"Wie berechnet man die optimale konvexe H\\u00fclle beliebiger K\\u00f6rper?\", \"emotion_id\": 2, \"is_phoneme\": 0}\n",
    "{\"audio_filepath\": \"/DataEmotionalTTS/thorsten-emotional_v02/disgusted/aff5db4056eb7a6273f41537f3b9798c.wav\", \"duration\": 5.070023, \"text\": \"Wie berechnet man die optimale konvexe H\\u00fclle beliebiger K\\u00f6rper?\", \"normalized_text\": \"Wie berechnet man die optimale konvexe H\\u00fclle beliebiger K\\u00f6rper?\", \"emotion_id\": 3, \"is_phoneme\": 0}\n",
    "{\"audio_filepath\": \"/DataEmotionalTTS/thorsten-emotional_v02/drunk/aff5db4056eb7a6273f41537f3b9798c.wav\", \"duration\": 5.74, \"text\": \"Wie berechnet man die optimale konvexe H\\u00fclle beliebiger K\\u00f6rper?\", \"normalized_text\": \"Wie berechnet man die optimale konvexe H\\u00fclle beliebiger K\\u00f6rper?\", \"emotion_id\": 4, \"is_phoneme\": 0}\n",
    "{\"audio_filepath\": \"/DataEmotionalTTS/thorsten-emotional_v02/sleepy/aff5db4056eb7a6273f41537f3b9798c.wav\", \"duration\": 6.050023, \"text\": \"Wie berechnet man die optimale konvexe H\\u00fclle beliebiger K\\u00f6rper?\", \"normalized_text\": \"Wie berechnet man die optimale konvexe H\\u00fclle beliebiger K\\u00f6rper?\", \"emotion_id\": 5, \"is_phoneme\": 0}\n",
    "{\"audio_filepath\": \"/DataEmotionalTTS/thorsten-emotional_v02/surprised/aff5db4056eb7a6273f41537f3b9798c.wav\", \"duration\": 3.730023, \"text\": \"Wie berechnet man die optimale konvexe H\\u00fclle beliebiger K\\u00f6rper?\", \"normalized_text\": \"Wie berechnet man die optimale konvexe H\\u00fclle beliebiger K\\u00f6rper?\", \"emotion_id\": 6, \"is_phoneme\": 0}\n",
    "{\"audio_filepath\": \"/DataEmotionalTTS/thorsten-emotional_v02/whisper/aff5db4056eb7a6273f41537f3b9798c.wav\", \"duration\": 4.610023, \"text\": \"Wie berechnet man die optimale konvexe H\\u00fclle beliebiger K\\u00f6rper?\", \"normalized_text\": \"Wie berechnet man die optimale konvexe H\\u00fclle beliebiger K\\u00f6rper?\", \"emotion_id\": 7, \"is_phoneme\": 0}\n",
    "{\"audio_filepath\": \"/DataEmotionalTTS/thorsten-emotional_v02/neutral/aff5db4056eb7a6273f41537f3b9798c.wav\", \"duration\": 4.036599, \"text\": \"Wie berechnet man die optimale konvexe H\\u00fclle beliebiger K\\u00f6rper?\", \"normalized_text\": \"Wie berechnet man die optimale konvexe H\\u00fclle beliebiger K\\u00f6rper?\", \"emotion_id\": 8, \"is_phoneme\": 0}\n",
    "```"
   ]
  },
  {
   "cell_type": "code",
   "execution_count": null,
   "id": "5f14cd5b",
   "metadata": {},
   "outputs": [],
   "source": []
  },
  {
   "cell_type": "markdown",
   "id": "31528446",
   "metadata": {},
   "source": [
    "### sentence_3\n",
    "\n",
    "```json\n",
    "{\"audio_filepath\": \"/DataEmotionalTTS/thorsten-emotional_v02/amused/0713e7bbc2f8815f238e9ad44cf30eb8.wav\", \"duration\": 6.74, \"text\": \"Das werden sehr interessante und auch sehr spannende und sicherlich auch keine ganz einfachen Verhandlungen werden.\", \"normalized_text\": \"Das werden sehr interessante und auch sehr spannende und sicherlich auch keine ganz einfachen Verhandlungen werden.\", \"emotion_id\": 1, \"is_phoneme\": 0}\n",
    "{\"audio_filepath\": \"/DataEmotionalTTS/thorsten-emotional_v02/angry/0713e7bbc2f8815f238e9ad44cf30eb8.wav\", \"duration\": 6.72, \"text\": \"Das werden sehr interessante und auch sehr spannende und sicherlich auch keine ganz einfachen Verhandlungen werden.\", \"normalized_text\": \"Das werden sehr interessante und auch sehr spannende und sicherlich auch keine ganz einfachen Verhandlungen werden.\", \"emotion_id\": 2, \"is_phoneme\": 0}\n",
    "{\"audio_filepath\": \"/DataEmotionalTTS/thorsten-emotional_v02/disgusted/0713e7bbc2f8815f238e9ad44cf30eb8.wav\", \"duration\": 8.04, \"text\": \"Das werden sehr interessante und auch sehr spannende und sicherlich auch keine ganz einfachen Verhandlungen werden.\", \"normalized_text\": \"Das werden sehr interessante und auch sehr spannende und sicherlich auch keine ganz einfachen Verhandlungen werden.\", \"emotion_id\": 3, \"is_phoneme\": 0}\n",
    "{\"audio_filepath\": \"/DataEmotionalTTS/thorsten-emotional_v02/drunk/0713e7bbc2f8815f238e9ad44cf30eb8.wav\", \"duration\": 9.170023, \"text\": \"Das werden sehr interessante und auch sehr spannende und sicherlich auch keine ganz einfachen Verhandlungen werden.\", \"normalized_text\": \"Das werden sehr interessante und auch sehr spannende und sicherlich auch keine ganz einfachen Verhandlungen werden.\", \"emotion_id\": 4, \"is_phoneme\": 0}\n",
    "{\"audio_filepath\": \"/DataEmotionalTTS/thorsten-emotional_v02/sleepy/0713e7bbc2f8815f238e9ad44cf30eb8.wav\", \"duration\": 10.4, \"text\": \"Das werden sehr interessante und auch sehr spannende und sicherlich auch keine ganz einfachen Verhandlungen werden.\", \"normalized_text\": \"Das werden sehr interessante und auch sehr spannende und sicherlich auch keine ganz einfachen Verhandlungen werden.\", \"emotion_id\": 5, \"is_phoneme\": 0}\n",
    "{\"audio_filepath\": \"/DataEmotionalTTS/thorsten-emotional_v02/surprised/0713e7bbc2f8815f238e9ad44cf30eb8.wav\", \"duration\": 5.770023, \"text\": \"Das werden sehr interessante und auch sehr spannende und sicherlich auch keine ganz einfachen Verhandlungen werden.\", \"normalized_text\": \"Das werden sehr interessante und auch sehr spannende und sicherlich auch keine ganz einfachen Verhandlungen werden.\", \"emotion_id\": 6, \"is_phoneme\": 0}\n",
    "{\"audio_filepath\": \"/DataEmotionalTTS/thorsten-emotional_v02/whisper/0713e7bbc2f8815f238e9ad44cf30eb8.wav\", \"duration\": 7.190023, \"text\": \"Das werden sehr interessante und auch sehr spannende und sicherlich auch keine ganz einfachen Verhandlungen werden.\", \"normalized_text\": \"Das werden sehr interessante und auch sehr spannende und sicherlich auch keine ganz einfachen Verhandlungen werden.\", \"emotion_id\": 7, \"is_phoneme\": 0}\n",
    "{\"audio_filepath\": \"/DataEmotionalTTS/thorsten-emotional_v02/neutral/0713e7bbc2f8815f238e9ad44cf30eb8.wav\", \"duration\": 6.451927, \"text\": \"Das werden sehr interessante und auch sehr spannende und sicherlich auch keine ganz einfachen Verhandlungen werden.\", \"normalized_text\": \"Das werden sehr interessante und auch sehr spannende und sicherlich auch keine ganz einfachen Verhandlungen werden.\", \"emotion_id\": 8, \"is_phoneme\": 0}\n",
    "```"
   ]
  },
  {
   "cell_type": "code",
   "execution_count": null,
   "id": "c6438355",
   "metadata": {},
   "outputs": [],
   "source": []
  }
 ],
 "metadata": {
  "kernelspec": {
   "display_name": "Python 3 (ipykernel)",
   "language": "python",
   "name": "python3"
  },
  "language_info": {
   "codemirror_mode": {
    "name": "ipython",
    "version": 3
   },
   "file_extension": ".py",
   "mimetype": "text/x-python",
   "name": "python",
   "nbconvert_exporter": "python",
   "pygments_lexer": "ipython3",
   "version": "3.8.13"
  }
 },
 "nbformat": 4,
 "nbformat_minor": 5
}
