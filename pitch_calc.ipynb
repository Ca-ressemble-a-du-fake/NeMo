{
 "cells": [
  {
   "cell_type": "markdown",
   "id": "3b6e25f3",
   "metadata": {},
   "source": [
    "# Pitch Statistics per emotion"
   ]
  },
  {
   "cell_type": "code",
   "execution_count": 1,
   "id": "0b5d792d",
   "metadata": {},
   "outputs": [],
   "source": [
    "# pitch mean and std deviation calculations per emotion\n"
   ]
  },
  {
   "cell_type": "code",
   "execution_count": 2,
   "id": "f9332fd2",
   "metadata": {},
   "outputs": [],
   "source": [
    "from omegaconf import OmegaConf\n",
    "from hydra.utils import instantiate\n",
    "import torch\n",
    "from tqdm import tqdm"
   ]
  },
  {
   "cell_type": "code",
   "execution_count": 3,
   "id": "7088247b",
   "metadata": {},
   "outputs": [],
   "source": [
    "manifest_path = \"/DataEmotionalTTS/datasets_v2/openslr110/thorsten-emotional_v02/train_manifest_phonemes.json\"\n",
    "sup_path = \"/DataGermanTTS/datasets_v2/openslr110/thorsten-emotional_v02/sup_data/\"\n",
    "emo_map = {8:\"neutral\", 1:\"amused\", 2:\"angry\", 3:\"disgusted\", 4:\"drunk\", 5:\"sleepy\", 6:\"surprised\", 7:\"whisper\"}"
   ]
  },
  {
   "cell_type": "code",
   "execution_count": 4,
   "id": "4f2cfa8a",
   "metadata": {},
   "outputs": [],
   "source": [
    "def get_pitch_stats(pitch_list):\n",
    "    pitch_tensor = torch.cat(pitch_list)\n",
    "    pitch_mean, pitch_std = pitch_tensor.mean().item(), pitch_tensor.std().item()\n",
    "    pitch_min, pitch_max = pitch_tensor.min().item(), pitch_tensor.max().item()\n",
    "    print(f\"PITCH_MEAN={pitch_mean}, PITCH_STD={pitch_std}\")\n",
    "    print(f\"PITCH_MIN={pitch_min}, PITCH_MAX={pitch_max}\")\n",
    "\n",
    "def preprocess_ds_for_fastpitch_align(dataloader):\n",
    "    pitch_list = {k: [] for k in range(1,1+len(emo_map))}\n",
    "    for batch in tqdm(dataloader, total=len(dataloader)):\n",
    "        audios, audio_lengths, tokens, tokens_lengths, align_prior_matrices, pitches, pitches_lengths, emotion_ids = batch\n",
    "        emotion_ext = emotion_ids.squeeze(0).item()\n",
    "        pitch = pitches.squeeze(0)\n",
    "        pitch_list[emotion_ext].append(pitch[pitch != 0])\n",
    "        \n",
    "    for emotion in range(1,len(emo_map)+1):\n",
    "        print(\"Pitch statistics for emotionid: \", emotion, \" = \", emo_map[emotion])\n",
    "        get_pitch_stats(pitch_list[emotion])"
   ]
  },
  {
   "cell_type": "code",
   "execution_count": 5,
   "id": "648c136c",
   "metadata": {},
   "outputs": [
    {
     "name": "stderr",
     "output_type": "stream",
     "text": [
      "[NeMo W 2022-09-24 00:26:54 nemo_logging:349] /opt/conda/lib/python3.8/site-packages/apex/pyprof/__init__.py:5: FutureWarning: pyprof will be removed by the end of June, 2022\n",
      "      warnings.warn(\"pyprof will be removed by the end of June, 2022\", FutureWarning)\n",
      "    \n",
      "[NeMo W 2022-09-24 00:26:55 experimental:27] Module <class 'nemo.collections.tts.torch.tts_tokenizers.IPATokenizer'> is experimental, not ready for production and is not fully supported. Use at your own risk.\n"
     ]
    },
    {
     "name": "stdout",
     "output_type": "stream",
     "text": [
      "[NeMo I 2022-09-24 00:26:55 tokenize_and_classify:81] Creating ClassifyFst grammars. This might take some time...\n",
      "[NeMo I 2022-09-24 00:27:12 data:188] Loading dataset from /DataEmotionalTTS/datasets_v2/openslr110/thorsten-emotional_v02/train_manifest_phonemes.json.\n"
     ]
    },
    {
     "name": "stderr",
     "output_type": "stream",
     "text": [
      "0it [00:00, ?it/s][NeMo W 2022-09-24 00:27:12 tts_tokenizers:144] Text: [viː ʃɛtsən ziː diː ʃɑ̃sən aɪn zoː aɪnən pɾoːtsɛs tsuː ɡəvɪnən ] contains unknown char: [̃]. Symbol will be skipped.\n",
      "[NeMo W 2022-09-24 00:27:12 tts_tokenizers:144] Text: [viː ʃɛtsən ziː diː ʃɑ̃sən aɪn zoː aɪnən pɾoːtsɛs tsuː ɡəvɪnən ] contains unknown char: [̃]. Symbol will be skipped.\n",
      "[NeMo W 2022-09-24 00:27:12 tts_tokenizers:144] Text: [viː ʃɛtsən ziː diː ʃɑ̃sən aɪn zoː aɪnən pɾoːtsɛs tsuː ɡəvɪnən ] contains unknown char: [̃]. Symbol will be skipped.\n",
      "[NeMo W 2022-09-24 00:27:12 tts_tokenizers:144] Text: [viː ʃɛtsən ziː diː ʃɑ̃sən aɪn zoː aɪnən pɾoːtsɛs tsuː ɡəvɪnən ] contains unknown char: [̃]. Symbol will be skipped.\n",
      "2310it [00:00, 23094.96it/s][NeMo W 2022-09-24 00:27:12 tts_tokenizers:144] Text: [viː ʃɛtsən ziː diː ʃɑ̃sən aɪn zoː aɪnən pɾoːtsɛs tsuː ɡəvɪnən ] contains unknown char: [̃]. Symbol will be skipped.\n",
      "3358it [00:00, 22794.58it/s]"
     ]
    },
    {
     "name": "stdout",
     "output_type": "stream",
     "text": [
      "[NeMo I 2022-09-24 00:27:12 data:227] Loaded dataset with 3358 files.\n",
      "[NeMo I 2022-09-24 00:27:12 data:229] Dataset contains 4.15 hours.\n",
      "[NeMo I 2022-09-24 00:27:12 data:327] Pruned 0 files. Final dataset contains 3358 files\n",
      "[NeMo I 2022-09-24 00:27:12 data:329] Pruned 0.00 hours. Final dataset contains 4.15 hours.\n"
     ]
    },
    {
     "name": "stderr",
     "output_type": "stream",
     "text": [
      "\n"
     ]
    }
   ],
   "source": [
    "cfg = OmegaConf.load(\"scripts/dataset_processing/tts/openslr_emotional/ds_conf/ds_for_fastpitch_align.yaml\")\n",
    "cfg.manifest_filepath = manifest_path\n",
    "cfg.sup_data_path = sup_path\n",
    "dataset = instantiate(cfg.dataset)"
   ]
  },
  {
   "cell_type": "code",
   "execution_count": 6,
   "id": "82500040",
   "metadata": {},
   "outputs": [],
   "source": [
    "dataloader = torch.utils.data.DataLoader(\n",
    "        dataset=dataset, batch_size=1, collate_fn=dataset._collate_fn, num_workers=cfg.dataloader_params.num_workers\n",
    "    )"
   ]
  },
  {
   "cell_type": "code",
   "execution_count": 7,
   "id": "700084d6",
   "metadata": {},
   "outputs": [
    {
     "name": "stderr",
     "output_type": "stream",
     "text": [
      "100%|███████████████████████████████████████████████████████████████████████████████████████████| 3358/3358 [21:49<00:00,  2.56it/s]"
     ]
    },
    {
     "name": "stdout",
     "output_type": "stream",
     "text": [
      "Pitch statistics for emotionid:  1  =  amused\n",
      "PITCH_MEAN=178.7041778564453, PITCH_STD=63.29555892944336\n",
      "PITCH_MIN=70.91536712646484, PITCH_MAX=482.6029968261719\n",
      "Pitch statistics for emotionid:  2  =  angry\n",
      "PITCH_MEAN=224.8560028076172, PITCH_STD=62.71169662475586\n",
      "PITCH_MIN=65.4063949584961, PITCH_MAX=466.16375732421875\n",
      "Pitch statistics for emotionid:  3  =  disgusted\n",
      "PITCH_MEAN=174.06405639648438, PITCH_STD=46.19647216796875\n",
      "PITCH_MIN=65.4063949584961, PITCH_MAX=560.8067016601562\n",
      "Pitch statistics for emotionid:  4  =  drunk\n",
      "PITCH_MEAN=166.42800903320312, PITCH_STD=63.60173034667969\n",
      "PITCH_MIN=65.4063949584961, PITCH_MAX=1680.521240234375\n",
      "Pitch statistics for emotionid:  5  =  sleepy\n",
      "PITCH_MEAN=135.488037109375, PITCH_STD=40.35115432739258\n",
      "PITCH_MIN=65.4063949584961, PITCH_MAX=2093.004638671875\n",
      "Pitch statistics for emotionid:  6  =  surprised\n",
      "PITCH_MEAN=140.9545135498047, PITCH_STD=35.95205307006836\n",
      "PITCH_MIN=65.4063949584961, PITCH_MAX=349.2282409667969\n",
      "Pitch statistics for emotionid:  7  =  whisper\n",
      "PITCH_MEAN=958.2921752929688, PITCH_STD=757.2545166015625\n",
      "PITCH_MIN=65.4063949584961, PITCH_MAX=2093.004638671875\n",
      "Pitch statistics for emotionid:  8  =  neutral\n",
      "PITCH_MEAN=132.7225341796875, PITCH_STD=35.86360168457031\n",
      "PITCH_MIN=65.4063949584961, PITCH_MAX=1028.52392578125\n"
     ]
    },
    {
     "name": "stderr",
     "output_type": "stream",
     "text": [
      "\n"
     ]
    }
   ],
   "source": [
    "preprocess_ds_for_fastpitch_align(dataloader)"
   ]
  },
  {
   "cell_type": "code",
   "execution_count": null,
   "id": "587f4f02",
   "metadata": {},
   "outputs": [],
   "source": []
  }
 ],
 "metadata": {
  "kernelspec": {
   "display_name": "Python 3 (ipykernel)",
   "language": "python",
   "name": "python3"
  },
  "language_info": {
   "codemirror_mode": {
    "name": "ipython",
    "version": 3
   },
   "file_extension": ".py",
   "mimetype": "text/x-python",
   "name": "python",
   "nbconvert_exporter": "python",
   "pygments_lexer": "ipython3",
   "version": "3.8.13"
  }
 },
 "nbformat": 4,
 "nbformat_minor": 5
}
