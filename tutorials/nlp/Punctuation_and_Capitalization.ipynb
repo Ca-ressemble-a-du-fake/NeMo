{
    "cells": [
        {
            "cell_type": "code",
            "execution_count": 1,
            "metadata": {},
            "outputs": [],
            "source": [
                "BRANCH = 'r1.12.0'"
            ]
        },
        {
            "cell_type": "code",
            "execution_count": null,
            "metadata": {
                "colab": {},
                "colab_type": "code",
                "id": "o_0K1lsW1dj9"
            },
            "outputs": [],
            "source": [
                "\"\"\"\n",
                "You can run either this notebook locally (if you have all the dependencies and a GPU) or on Google Colab.\n",
                "\n",
                "Instructions for setting up Colab are as follows:\n",
                "1. Open a new Python 3 notebook.\n",
                "2. Import this notebook from GitHub (File -> Upload Notebook -> \"GITHUB\" tab -> copy/paste GitHub URL)\n",
                "3. Connect to an instance with a GPU (Runtime -> Change runtime type -> select \"GPU\" for hardware accelerator)\n",
                "4. Run this cell to set up dependencies.\n",
                "\"\"\"\n",
                "# If you're using Google Colab and not running locally, run this cell\n",
                "\n",
                "# install NeMo\n",
                "!python -m pip install git+https://github.com/NVIDIA/NeMo.git@$BRANCH#egg=nemo_toolkit[nlp]\n"
            ]
        },
        {
            "cell_type": "code",
            "execution_count": 2,
            "metadata": {
                "colab": {},
                "colab_type": "code",
                "id": "uglDB-pVh__t",
                "pycharm": {
                    "name": "#%%\n"
                }
            },
            "outputs": [
                {
                    "name": "stdout",
                    "output_type": "stream",
                    "text": [
                        "Looking in indexes: https://pypi.org/simple, https://pypi.ngc.nvidia.com\n",
                        "Requirement already satisfied: ipywidgets in /opt/conda/lib/python3.8/site-packages (8.0.2)\n",
                        "Requirement already satisfied: ipykernel>=4.5.1 in /opt/conda/lib/python3.8/site-packages (from ipywidgets) (6.15.0)\n",
                        "Requirement already satisfied: traitlets>=4.3.1 in /opt/conda/lib/python3.8/site-packages (from ipywidgets) (5.3.0)\n",
                        "Requirement already satisfied: ipython>=6.1.0 in /opt/conda/lib/python3.8/site-packages (from ipywidgets) (8.4.0)\n",
                        "Requirement already satisfied: widgetsnbextension~=4.0 in /opt/conda/lib/python3.8/site-packages (from ipywidgets) (4.0.3)\n",
                        "Requirement already satisfied: jupyterlab-widgets~=3.0 in /opt/conda/lib/python3.8/site-packages (from ipywidgets) (3.0.3)\n",
                        "Requirement already satisfied: pyzmq>=17 in /opt/conda/lib/python3.8/site-packages (from ipykernel>=4.5.1->ipywidgets) (23.2.0)\n",
                        "Requirement already satisfied: packaging in /opt/conda/lib/python3.8/site-packages (from ipykernel>=4.5.1->ipywidgets) (21.3)\n",
                        "Requirement already satisfied: jupyter-client>=6.1.12 in /opt/conda/lib/python3.8/site-packages (from ipykernel>=4.5.1->ipywidgets) (7.3.4)\n",
                        "Requirement already satisfied: psutil in /opt/conda/lib/python3.8/site-packages (from ipykernel>=4.5.1->ipywidgets) (5.9.1)\n",
                        "Requirement already satisfied: debugpy>=1.0 in /opt/conda/lib/python3.8/site-packages (from ipykernel>=4.5.1->ipywidgets) (1.6.0)\n",
                        "Requirement already satisfied: matplotlib-inline>=0.1 in /opt/conda/lib/python3.8/site-packages (from ipykernel>=4.5.1->ipywidgets) (0.1.3)\n",
                        "Requirement already satisfied: nest-asyncio in /opt/conda/lib/python3.8/site-packages (from ipykernel>=4.5.1->ipywidgets) (1.5.5)\n",
                        "Requirement already satisfied: tornado>=6.1 in /opt/conda/lib/python3.8/site-packages (from ipykernel>=4.5.1->ipywidgets) (6.2)\n",
                        "Requirement already satisfied: setuptools>=18.5 in /opt/conda/lib/python3.8/site-packages (from ipython>=6.1.0->ipywidgets) (59.5.0)\n",
                        "Requirement already satisfied: decorator in /opt/conda/lib/python3.8/site-packages (from ipython>=6.1.0->ipywidgets) (5.1.1)\n",
                        "Requirement already satisfied: pickleshare in /opt/conda/lib/python3.8/site-packages (from ipython>=6.1.0->ipywidgets) (0.7.5)\n",
                        "Requirement already satisfied: backcall in /opt/conda/lib/python3.8/site-packages (from ipython>=6.1.0->ipywidgets) (0.2.0)\n",
                        "Requirement already satisfied: pygments>=2.4.0 in /opt/conda/lib/python3.8/site-packages (from ipython>=6.1.0->ipywidgets) (2.12.0)\n",
                        "Requirement already satisfied: prompt-toolkit!=3.0.0,!=3.0.1,<3.1.0,>=2.0.0 in /opt/conda/lib/python3.8/site-packages (from ipython>=6.1.0->ipywidgets) (3.0.30)\n",
                        "Requirement already satisfied: jedi>=0.16 in /opt/conda/lib/python3.8/site-packages (from ipython>=6.1.0->ipywidgets) (0.18.1)\n",
                        "Requirement already satisfied: pexpect>4.3 in /opt/conda/lib/python3.8/site-packages (from ipython>=6.1.0->ipywidgets) (4.8.0)\n",
                        "Requirement already satisfied: stack-data in /opt/conda/lib/python3.8/site-packages (from ipython>=6.1.0->ipywidgets) (0.3.0)\n",
                        "Requirement already satisfied: parso<0.9.0,>=0.8.0 in /opt/conda/lib/python3.8/site-packages (from jedi>=0.16->ipython>=6.1.0->ipywidgets) (0.8.3)\n",
                        "Requirement already satisfied: python-dateutil>=2.8.2 in /opt/conda/lib/python3.8/site-packages (from jupyter-client>=6.1.12->ipykernel>=4.5.1->ipywidgets) (2.8.2)\n",
                        "Requirement already satisfied: jupyter-core>=4.9.2 in /opt/conda/lib/python3.8/site-packages (from jupyter-client>=6.1.12->ipykernel>=4.5.1->ipywidgets) (4.10.0)\n",
                        "Requirement already satisfied: entrypoints in /opt/conda/lib/python3.8/site-packages (from jupyter-client>=6.1.12->ipykernel>=4.5.1->ipywidgets) (0.4)\n",
                        "Requirement already satisfied: ptyprocess>=0.5 in /opt/conda/lib/python3.8/site-packages (from pexpect>4.3->ipython>=6.1.0->ipywidgets) (0.7.0)\n",
                        "Requirement already satisfied: wcwidth in /opt/conda/lib/python3.8/site-packages (from prompt-toolkit!=3.0.0,!=3.0.1,<3.1.0,>=2.0.0->ipython>=6.1.0->ipywidgets) (0.2.5)\n",
                        "Requirement already satisfied: six>=1.5 in /opt/conda/lib/python3.8/site-packages (from python-dateutil>=2.8.2->jupyter-client>=6.1.12->ipykernel>=4.5.1->ipywidgets) (1.16.0)\n",
                        "Requirement already satisfied: pyparsing!=3.0.5,>=2.0.2 in /opt/conda/lib/python3.8/site-packages (from packaging->ipykernel>=4.5.1->ipywidgets) (3.0.9)\n",
                        "Requirement already satisfied: executing in /opt/conda/lib/python3.8/site-packages (from stack-data->ipython>=6.1.0->ipywidgets) (0.8.3)\n",
                        "Requirement already satisfied: pure-eval in /opt/conda/lib/python3.8/site-packages (from stack-data->ipython>=6.1.0->ipywidgets) (0.2.2)\n",
                        "Requirement already satisfied: asttokens in /opt/conda/lib/python3.8/site-packages (from stack-data->ipython>=6.1.0->ipywidgets) (2.0.5)\n",
                        "\u001b[33mWARNING: Running pip as the 'root' user can result in broken permissions and conflicting behaviour with the system package manager. It is recommended to use a virtual environment instead: https://pip.pypa.io/warnings/venv\u001b[0m\n",
                        "Enabling notebook extension jupyter-js-widgets/extension...\n",
                        "      - Validating: \u001b[32mOK\u001b[0m\n"
                    ]
                }
            ],
            "source": [
                "# If you're not using Colab, you might need to upgrade jupyter notebook to avoid the following error:\n",
                "# 'ImportError: IProgress not found. Please update jupyter and ipywidgets.'\n",
                "\n",
                "! pip install ipywidgets\n",
                "! jupyter nbextension enable --py widgetsnbextension\n",
                "\n",
                "# Please restart the kernel after running this cell"
            ]
        },
        {
            "cell_type": "code",
            "execution_count": 3,
            "metadata": {
                "colab": {},
                "colab_type": "code",
                "id": "dzqD2WDFOIN-"
            },
            "outputs": [
                {
                    "name": "stderr",
                    "output_type": "stream",
                    "text": [
                        "[NeMo W 2022-09-28 18:55:53 optimizers:77] Could not import distributed_fused_adam optimizer from Apex\n",
                        "[NeMo W 2022-09-28 18:55:54 experimental:27] Module <class 'nemo.collections.nlp.data.language_modeling.megatron.megatron_batch_samplers.MegatronPretrainingRandomBatchSampler'> is experimental, not ready for production and is not fully supported. Use at your own risk.\n",
                        "[NeMo W 2022-09-28 18:55:54 experimental:27] Module <class 'nemo.collections.nlp.models.text_normalization_as_tagging.thutmose_tagger.ThutmoseTaggerModel'> is experimental, not ready for production and is not fully supported. Use at your own risk.\n"
                    ]
                }
            ],
            "source": [
                "from nemo.utils.exp_manager import exp_manager\n",
                "from nemo.collections import nlp as nemo_nlp\n",
                "\n",
                "import os\n",
                "import wget \n",
                "import torch\n",
                "import pytorch_lightning as pl\n",
                "from omegaconf import OmegaConf"
            ]
        },
        {
            "cell_type": "markdown",
            "metadata": {
                "colab_type": "text",
                "id": "daYw_Xll2ZR9"
            },
            "source": [
                "# Task Description\n",
                "Automatic Speech Recognition (ASR) systems typically generate text with no punctuation and capitalization of the words. \n",
                "This tutorial explains how to implement a model in NeMo that will predict punctuation and capitalization for each word in a sentence to make ASR output more readable and to boost performance of the named entity recognition, machine translation or text-to-speech models. \n",
                "We'll show how to train a model for this task using a pre-trained BERT model. \n",
                "For every word in our training dataset we’re going to predict:\n",
                "\n",
                "- punctuation mark that should follow the word and\n",
                "- whether the word should be capitalized"
            ]
        },
        {
            "cell_type": "markdown",
            "metadata": {
                "colab_type": "text",
                "id": "ZnuziSwJ1yEB"
            },
            "source": [
                "# Dataset\n",
                "This model can work with any dataset as long as it follows the format specified below. \n",
                "The training and evaluation data is divided into *2 files: text.txt and labels.txt*. \n",
                "Each line of the **text.txt** file contains text sequences, where words are separated with spaces: [WORD] [SPACE] [WORD] [SPACE] [WORD], for example:"
            ]
        },
        {
            "cell_type": "markdown",
            "metadata": {
                "colab_type": "text",
                "id": "TXFORGBv2Jqu"
            },
            "source": [
                "\n",
                "\n",
                "```\n",
                "when is the next flight to new york\n",
                "the next flight is ...\n",
                "...\n",
                "```\n",
                "\n"
            ]
        },
        {
            "cell_type": "markdown",
            "metadata": {
                "colab_type": "text",
                "id": "Y7ci55rM2QH8"
            },
            "source": [
                "The **labels.txt** file contains corresponding labels for each word in text.txt, the labels are separated with spaces. Each label in labels.txt file consists of 2 symbols:\n",
                "\n",
                "- the first symbol of the label indicates what punctuation mark should follow the word (where O means no punctuation needed);\n",
                "- the second symbol determines if a word needs to be capitalized or not (where U indicates that the word should be upper cased, and O - no capitalization needed.)\n",
                "\n",
                "In this tutorial, we are considering only commas, periods, and question marks the rest punctuation marks were removed. To use more punctuation marks, update the dataset to include desired labels, no changes to the model needed. \n",
                "\n",
                "Each line of the **labels.txt** should follow the format: \n",
                "[LABEL] [SPACE] [LABEL] [SPACE] [LABEL] (for labels.txt). \n",
                "For example, labels for the above text.txt file should be:"
            ]
        },
        {
            "cell_type": "markdown",
            "metadata": {
                "colab_type": "text",
                "id": "-94C1-864EW1"
            },
            "source": [
                "\n",
                "\n",
                "```\n",
                "OU OO OO OO OO OO OU ?U\n",
                "OU OO OO OO ...\n",
                "...\n",
                "```\n",
                "\n"
            ]
        },
        {
            "cell_type": "markdown",
            "metadata": {
                "colab_type": "text",
                "id": "VsEmwIPO4L4V"
            },
            "source": [
                "The complete list of all possible labels for this task used in this tutorial is: `OO, ,O, .O, ?O, OU, ,U, .U, ?U.`"
            ]
        },
        {
            "cell_type": "markdown",
            "metadata": {
                "colab_type": "text",
                "id": "SL58EWkd2ZVb"
            },
            "source": [
                "## Download and preprocess the data¶"
            ]
        },
        {
            "cell_type": "markdown",
            "metadata": {
                "colab_type": "text",
                "id": "THi6s1Qx2G1k"
            },
            "source": [
                "In this notebook we are going to use a subset of English examples from the [Tatoeba collection of sentences](https://tatoeba.org/eng) this script will download and preprocess the Tatoeba data [NeMo/examples/nlp/token_classification/get_tatoeba_data.py](https://github.com/NVIDIA/NeMo/blob/stable/examples/nlp/token_classification/data/get_tatoeba_data.py). Note, for further experiments with the model, set NUM_SAMPLES=-1 and consider including other datasets to improve model performance. \n"
            ]
        },
        {
            "cell_type": "code",
            "execution_count": 4,
            "metadata": {
                "colab": {},
                "colab_type": "code",
                "id": "n8HZrDmr12_-"
            },
            "outputs": [],
            "source": [
                "DATA_DIR = 'data'\n",
                "WORK_DIR = 'work'\n",
                "MODEL_CONFIG = \"punctuation_capitalization_config.yaml\"\n",
                "\n",
                "# model parameters\n",
                "TOKENS_IN_BATCH = 1024\n",
                "MAX_SEQ_LENGTH = 64\n",
                "LEARNING_RATE = 0.00002\n",
                "NUM_SAMPLES = 10000"
            ]
        },
        {
            "cell_type": "code",
            "execution_count": 5,
            "metadata": {
                "colab": {},
                "colab_type": "code",
                "id": "UOeeeCGqI-9c"
            },
            "outputs": [
                {
                    "name": "stdout",
                    "output_type": "stream",
                    "text": [
                        "Downloading get_tatoeba_data.py...\n"
                    ]
                }
            ],
            "source": [
                "## download get_tatoeba_data.py script to download and preprocess the Tatoeba data\n",
                "os.makedirs(WORK_DIR, exist_ok=True)\n",
                "if not os.path.exists(WORK_DIR + '/get_tatoeba_data.py'):\n",
                "    print('Downloading get_tatoeba_data.py...')\n",
                "    wget.download(f'https://raw.githubusercontent.com/NVIDIA/NeMo/{BRANCH}/examples/nlp/token_classification/data/get_tatoeba_data.py', WORK_DIR)\n",
                "else:\n",
                "    print ('get_tatoeba_data.py is already exists')"
            ]
        },
        {
            "cell_type": "code",
            "execution_count": 6,
            "metadata": {
                "colab": {},
                "colab_type": "code",
                "id": "H0ulD2TL13DR"
            },
            "outputs": [
                {
                    "name": "stdout",
                    "output_type": "stream",
                    "text": [
                        "[NeMo I 2022-09-28 18:56:09 get_tatoeba_data:214] Downloading tatoeba dataset\n",
                        "[NeMo I 2022-09-28 18:56:09 get_tatoeba_data:38] Downloading https://downloads.tatoeba.org/exports/sentences.csv to data/sentences.csv\n",
                        "--2022-09-28 18:56:09--  https://downloads.tatoeba.org/exports/sentences.csv\n",
                        "Resolving downloads.tatoeba.org (downloads.tatoeba.org)... 94.130.77.194\n",
                        "Connecting to downloads.tatoeba.org (downloads.tatoeba.org)|94.130.77.194|:443... connected.\n",
                        "HTTP request sent, awaiting response... 200 OK\n",
                        "Length: 588527574 (561M) [application/octet-stream]\n",
                        "Saving to: ‘data/sentences.csv’\n",
                        "\n",
                        "data/sentences.csv  100%[===================>] 561.26M  14.0MB/s    in 50s     \n",
                        "\n",
                        "2022-09-28 18:56:59 (11.3 MB/s) - ‘data/sentences.csv’ saved [588527574/588527574]\n",
                        "\n",
                        "[NeMo I 2022-09-28 18:56:59 get_tatoeba_data:218] Processing English sentences...\n",
                        "[NeMo I 2022-09-28 18:56:59 get_tatoeba_data:227] Splitting the tatoeba dataset into train and dev sets and creating labels and text files\n",
                        "[NeMo I 2022-09-28 18:56:59 get_tatoeba_data:232] Creating text and label files for training\n",
                        "data/text_train.txt and data/labels_train.txt created from data/train.txt.\n",
                        "data/text_dev.txt and data/labels_dev.txt created from data/dev.txt.\n",
                        "[NeMo I 2022-09-28 18:56:59 get_tatoeba_data:237] Cleaning up data\n",
                        "[NeMo I 2022-09-28 18:56:59 get_tatoeba_data:242] Processing of the tatoeba is complete\n"
                    ]
                }
            ],
            "source": [
                "# download and preprocess the data\n",
                "# --clean_dir flag deletes raw Tataoeba data, remove the flag to avoid multiple data downloads if you want to experiment with the dataset size\n",
                "! python $WORK_DIR/get_tatoeba_data.py --data_dir $DATA_DIR --num_sample $NUM_SAMPLES --clean_dir"
            ]
        },
        {
            "cell_type": "markdown",
            "metadata": {
                "colab_type": "text",
                "id": "pctMm2vsPlPT"
            },
            "source": [
                "after execution of the above cell, your data folder will contain the following 4 files needed for training (raw Tatoeba data could be present if `--clean_dir` was not used):\n",
                "- labels_dev.txt\n",
                "- labels_train.txt\n",
                "- text_dev.txt\n",
                "- text_train.txt\n"
            ]
        },
        {
            "cell_type": "code",
            "execution_count": 7,
            "metadata": {
                "colab": {},
                "colab_type": "code",
                "id": "KKwxXXezPvXF"
            },
            "outputs": [
                {
                    "name": "stdout",
                    "output_type": "stream",
                    "text": [
                        "total 648\n",
                        "-rw-r--r-- 1 root root  46941 Sep 28 18:56 labels_dev.txt\n",
                        "-rw-r--r-- 1 root root 193605 Sep 28 18:56 labels_train.txt\n",
                        "-rw-r--r-- 1 root root  80515 Sep 28 18:56 text_dev.txt\n",
                        "-rw-r--r-- 1 root root 332061 Sep 28 18:56 text_train.txt\n"
                    ]
                }
            ],
            "source": [
                "! ls -l $DATA_DIR"
            ]
        },
        {
            "cell_type": "code",
            "execution_count": 8,
            "metadata": {
                "colab": {},
                "colab_type": "code",
                "id": "6UDPgadLN6SG"
            },
            "outputs": [
                {
                    "name": "stdout",
                    "output_type": "stream",
                    "text": [
                        "Text:\n",
                        "let's try something\n",
                        "i have to go to sleep\n",
                        "i will be back soon\n",
                        "i'm at a loss for words\n",
                        "this is never going to end\n",
                        "\n",
                        "Labels:\n",
                        "OU OO .O\n",
                        "OU OO OO OO OO .O\n",
                        "OU OO OO OO .O\n",
                        "OU OO OO OO OO .O\n",
                        "OU OO OO OO OO .O\n"
                    ]
                }
            ],
            "source": [
                "# let's take a look at the data \n",
                "print('Text:')\n",
                "! head -n 5 $DATA_DIR/text_train.txt\n",
                "\n",
                "print('\\nLabels:')\n",
                "! head -n 5 $DATA_DIR/labels_train.txt"
            ]
        },
        {
            "cell_type": "markdown",
            "metadata": {},
            "source": [
                "As you see, `get_tatoeba_data.py` script provides not only downloads Tatoeba but also creates labels. If you wish to preprocess your own data, use [examples/nlp/token_classification/data/prepare_data_for_punctuation_capitalization.py](https://github.com/NVIDIA/NeMo/blob/main/examples/nlp/token_classification/data/prepare_data_for_punctuation_capitalization.py) script:"
            ]
        },
        {
            "cell_type": "code",
            "execution_count": null,
            "metadata": {},
            "outputs": [],
            "source": [
                "cwd = os.getcwd()\n",
                "NEMO_ROOT = \"~/NeMo\"\n",
                "!python $NEMO_ROOT/examples/nlp/token_classification/data/prepare_data_for_punctuation_capitalization.py \\\n",
                "    --source_file $DATA_DIR/text_train.txt \\\n",
                "    --output_dir $DATA_DIR/my_train_preprocessed"
            ]
        },
        {
            "cell_type": "code",
            "execution_count": null,
            "metadata": {},
            "outputs": [],
            "source": [
                "!ls $DATA_DIR/my_train_preprocessed -l"
            ]
        },
        {
            "cell_type": "markdown",
            "metadata": {},
            "source": [
                "# Tarred dataset\n",
                "\n",
                "If your dataset is too large to be stored in memory, you can use tarred dataset. A tarred dataset is a collection of tarred files which contain batches ready for passing into a model.\n",
                "\n",
                "All tar files will contain identical number of batches, so if number of batches in the dataset is not evenly divisible by parameter `--num_batches_per_tar_file` value, then up to `--num_batches_per_tar_file - 1` batches may be lost."
            ]
        },
        {
            "cell_type": "code",
            "execution_count": null,
            "metadata": {},
            "outputs": [],
            "source": [
                "# Number of lines in text and labels files\n",
                "!wc -l $DATA_DIR/text_train.txt\n",
                "!wc -l $DATA_DIR/labels_train.txt"
            ]
        },
        {
            "cell_type": "code",
            "execution_count": null,
            "metadata": {},
            "outputs": [],
            "source": [
                "NEMO_ROOT = \"~/NeMo\"\n",
                "!python $NEMO_ROOT/examples/nlp/token_classification/data/create_punctuation_capitalization_tarred_dataset.py \\\n",
                "    --text $DATA_DIR/text_train.txt \\\n",
                "    --labels $DATA_DIR/labels_train.txt \\\n",
                "    --output_dir $DATA_DIR/train_tarred \\\n",
                "    --num_batches_per_tarfile 5 \\\n",
                "    --tokens_in_batch 1024 \\\n",
                "    --lines_per_dataset_fragment 4000 \\\n",
                "    --tokenizer_name bert-base-uncased \\\n",
                "    --n_jobs 2"
            ]
        },
        {
            "cell_type": "code",
            "execution_count": null,
            "metadata": {},
            "outputs": [],
            "source": [
                "!ls $DATA_DIR/train_tarred -l"
            ]
        },
        {
            "cell_type": "code",
            "execution_count": null,
            "metadata": {},
            "outputs": [],
            "source": [
                "!ls $DATA_DIR/train_tarred/*.tar | wc -l  # number of tar files"
            ]
        },
        {
            "cell_type": "code",
            "execution_count": null,
            "metadata": {},
            "outputs": [],
            "source": [
                "!ls $DATA_DIR/train_tarred/ | grep -v '.tar'  # all not tar files"
            ]
        },
        {
            "cell_type": "markdown",
            "metadata": {},
            "source": [
                "If you wish to use tarred dataset, then you need to \n",
                "- pass metadata JSON file in config parameter `model.train_ds.tar_metadata_file`,\n",
                "- set `model.train_ds.use_tarred_dataset=true`."
            ]
        },
        {
            "cell_type": "markdown",
            "metadata": {
                "colab_type": "text",
                "id": "daludzzL2Jba"
            },
            "source": [
                "# Model Configuration"
            ]
        },
        {
            "cell_type": "markdown",
            "metadata": {
                "colab_type": "text",
                "id": "_whKCxfTMo6Y"
            },
            "source": [
                "In the Punctuation and Capitalization Model, we are jointly training two token-level classifiers on top of the pretrained [BERT](https://arxiv.org/pdf/1810.04805.pdf) model: \n",
                "- one classifier to predict punctuation and\n",
                "- the other one - capitalization.\n",
                "\n",
                "The model is defined in a config file which declares multiple important sections. They are:\n",
                "- **model**: All arguments that are related to the Model - language model, token classifiers, optimizer and schedulers, dataset and any other related information\n",
                "\n",
                "- **trainer**: Any argument to be passed to PyTorch Lightning\n",
                "\n",
                "See [docs](https://docs.nvidia.com/deeplearning/nemo/user-guide/docs/en/main/nlp/punctuation_and_capitalization.html#training-punctuation-and-capitalization-model) for full config description."
            ]
        },
        {
            "cell_type": "code",
            "execution_count": 9,
            "metadata": {
                "colab": {},
                "colab_type": "code",
                "id": "T1gA8PsJ13MJ"
            },
            "outputs": [
                {
                    "name": "stdout",
                    "output_type": "stream",
                    "text": [
                        "Downloading config file...\n"
                    ]
                }
            ],
            "source": [
                "# download the model's configuration file \n",
                "config_dir = WORK_DIR + '/configs/'\n",
                "os.makedirs(config_dir, exist_ok=True)\n",
                "if not os.path.exists(config_dir + MODEL_CONFIG):\n",
                "    print('Downloading config file...')\n",
                "    wget.download(f'https://raw.githubusercontent.com/NVIDIA/NeMo/{BRANCH}/examples/nlp/token_classification/conf/' + MODEL_CONFIG, config_dir)\n",
                "else:\n",
                "    print ('config file is already exists')"
            ]
        },
        {
            "cell_type": "code",
            "execution_count": 10,
            "metadata": {
                "colab": {},
                "colab_type": "code",
                "id": "mX3KmWMvSUQw"
            },
            "outputs": [
                {
                    "name": "stdout",
                    "output_type": "stream",
                    "text": [
                        "work/configs/punctuation_capitalization_config.yaml\n",
                        "pretrained_model: null\n",
                        "trainer:\n",
                        "  devices: 1\n",
                        "  num_nodes: 1\n",
                        "  max_epochs: 3\n",
                        "  max_steps: -1\n",
                        "  accumulate_grad_batches: 1\n",
                        "  gradient_clip_val: 0.0\n",
                        "  precision: 16\n",
                        "  accelerator: gpu\n",
                        "  strategy: ddp\n",
                        "  enable_checkpointing: false\n",
                        "  logger: false\n",
                        "  log_every_n_steps: 1\n",
                        "  val_check_interval: 1.0\n",
                        "  resume_from_checkpoint: null\n",
                        "exp_manager:\n",
                        "  exp_dir: null\n",
                        "  name: Punctuation_and_Capitalization\n",
                        "  create_tensorboard_logger: true\n",
                        "  create_checkpoint_callback: true\n",
                        "model:\n",
                        "  class_labels:\n",
                        "    punct_labels_file: punct_label_ids.csv\n",
                        "    capit_labels_file: capit_label_ids.csv\n",
                        "  common_dataset_parameters:\n",
                        "    pad_label: O\n",
                        "    ignore_extra_tokens: false\n",
                        "    ignore_start_end: true\n",
                        "    punct_label_ids: null\n",
                        "    capit_label_ids: null\n",
                        "    label_vocab_dir: null\n",
                        "  train_ds:\n",
                        "    use_tarred_dataset: false\n",
                        "    ds_item: ???\n",
                        "    text_file: text_train.txt\n",
                        "    labels_file: labels_train.txt\n",
                        "    shuffle: true\n",
                        "    num_samples: -1\n",
                        "    tokens_in_batch: 15000\n",
                        "    max_seq_length: 512\n",
                        "    n_jobs: 0\n",
                        "    tar_metadata_file: null\n",
                        "    tar_shuffle_n: 1\n",
                        "  validation_ds:\n",
                        "    use_tarred_dataset: false\n",
                        "    ds_item: ???\n",
                        "    text_file: text_dev.txt\n",
                        "    labels_file: labels_dev.txt\n",
                        "    shuffle: false\n",
                        "    num_samples: -1\n",
                        "    tokens_in_batch: 15000\n",
                        "    max_seq_length: 512\n",
                        "    n_jobs: 0\n",
                        "    tar_metadata_file: null\n",
                        "  test_ds:\n",
                        "    use_tarred_dataset: false\n",
                        "    ds_item: ???\n",
                        "    text_file: text_dev.txt\n",
                        "    labels_file: labels_dev.txt\n",
                        "    shuffle: false\n",
                        "    num_samples: -1\n",
                        "    tokens_in_batch: 15000\n",
                        "    max_seq_length: 512\n",
                        "    n_jobs: 0\n",
                        "    tar_metadata_file: null\n",
                        "  tokenizer:\n",
                        "    tokenizer_name: ${model.language_model.pretrained_model_name}\n",
                        "    vocab_file: null\n",
                        "    tokenizer_model: null\n",
                        "    special_tokens: null\n",
                        "  language_model:\n",
                        "    pretrained_model_name: bert-base-uncased\n",
                        "    lm_checkpoint: null\n",
                        "    config_file: null\n",
                        "    config: null\n",
                        "  punct_head:\n",
                        "    num_fc_layers: 1\n",
                        "    fc_dropout: 0.1\n",
                        "    activation: relu\n",
                        "    use_transformer_init: true\n",
                        "  capit_head:\n",
                        "    num_fc_layers: 1\n",
                        "    fc_dropout: 0.1\n",
                        "    activation: relu\n",
                        "    use_transformer_init: true\n",
                        "  optim:\n",
                        "    name: adam\n",
                        "    lr: 0.0001\n",
                        "    weight_decay: 0.0\n",
                        "    sched:\n",
                        "      name: WarmupAnnealing\n",
                        "      warmup_steps: null\n",
                        "      warmup_ratio: 0.1\n",
                        "      last_epoch: -1\n",
                        "      monitor: val_loss\n",
                        "      reduce_on_plateau: false\n",
                        "hydra:\n",
                        "  run:\n",
                        "    dir: .\n",
                        "  job_logging:\n",
                        "    root:\n",
                        "      handlers: null\n",
                        "\n"
                    ]
                }
            ],
            "source": [
                "# this line will print the entire config of the model\n",
                "config_path = f'{WORK_DIR}/configs/{MODEL_CONFIG}'\n",
                "print(config_path)\n",
                "config = OmegaConf.load(config_path)\n",
                "print(OmegaConf.to_yaml(config))"
            ]
        },
        {
            "cell_type": "markdown",
            "metadata": {
                "colab_type": "text",
                "id": "ZCgWzNBkaQLZ"
            },
            "source": [
                "# Setting up Data within the config\n",
                "\n",
                "Among other things, the config file contains dictionaries called `common_dataset_parameters`, `train_ds` and `validation_ds`. These are configurations used to setup the Dataset and DataLoaders of the corresponding config.\n",
                "\n",
                "Specify paths directories with train and dev datasets in parameters `train_ds.ds_item` and `validation_ds.ds_item`.\n",
                "\n",
                "I you want to use multiple datasets for evaluation, specify paths to the directory(ies) with evaluation file(s) in the following way:\n",
                "\n",
                "`model.validation_ds.ds_item=[PATH_TO_DEV1,PATH_TO_DEV2]` (Note no space between the paths and square brackets).\n",
                "\n",
                "Also notice that some configs, including `model.train_ds.ds_item`, have `???` in place of values, this values are required to be specified by the user.\n",
                "\n",
                "Let's now add the data directory path to the config."
            ]
        },
        {
            "cell_type": "code",
            "execution_count": 11,
            "metadata": {
                "colab": {},
                "colab_type": "code",
                "id": "LQHCJN-ZaoLp"
            },
            "outputs": [],
            "source": [
                "# in this tutorial train and dev data is located in the same folder\n",
                "config.model.train_ds.ds_item = DATA_DIR\n",
                "config.model.validation_ds.ds_item=DATA_DIR\n",
                "del config.model.test_ds  # We do not have test data, only train and dev"
            ]
        },
        {
            "cell_type": "markdown",
            "metadata": {
                "colab_type": "text",
                "id": "nB96-3sTc3yk"
            },
            "source": [
                "# Building the PyTorch Lightning Trainer\n",
                "\n",
                "NeMo models are primarily PyTorch Lightning modules - and therefore are entirely compatible with the PyTorch Lightning ecosystem!\n",
                "\n",
                "Let's first instantiate a Trainer object!"
            ]
        },
        {
            "cell_type": "code",
            "execution_count": 12,
            "metadata": {
                "colab": {},
                "colab_type": "code",
                "id": "1tG4FzZ4Ui60"
            },
            "outputs": [
                {
                    "name": "stdout",
                    "output_type": "stream",
                    "text": [
                        "Trainer config - \n",
                        "\n",
                        "devices: 1\n",
                        "num_nodes: 1\n",
                        "max_epochs: 3\n",
                        "max_steps: -1\n",
                        "accumulate_grad_batches: 1\n",
                        "gradient_clip_val: 0.0\n",
                        "precision: 16\n",
                        "accelerator: gpu\n",
                        "strategy: ddp\n",
                        "enable_checkpointing: false\n",
                        "logger: false\n",
                        "log_every_n_steps: 1\n",
                        "val_check_interval: 1.0\n",
                        "resume_from_checkpoint: null\n",
                        "\n"
                    ]
                }
            ],
            "source": [
                "print(\"Trainer config - \\n\")\n",
                "print(OmegaConf.to_yaml(config.trainer))"
            ]
        },
        {
            "cell_type": "code",
            "execution_count": 13,
            "metadata": {
                "colab": {},
                "colab_type": "code",
                "id": "knF6QeQQdMrH"
            },
            "outputs": [
                {
                    "name": "stderr",
                    "output_type": "stream",
                    "text": [
                        "Using 16bit native Automatic Mixed Precision (AMP)\n",
                        "GPU available: True (cuda), used: True\n",
                        "TPU available: False, using: 0 TPU cores\n",
                        "IPU available: False, using: 0 IPUs\n",
                        "HPU available: False, using: 0 HPUs\n",
                        "`Trainer(val_check_interval=1.0)` was configured so validation will run at the end of the training epoch..\n"
                    ]
                }
            ],
            "source": [
                "# lets modify some trainer configs\n",
                "# checks if we have GPU available and uses it\n",
                "accelerator = 'gpu' if torch.cuda.is_available() else 'cpu'\n",
                "config.trainer.devices = 1\n",
                "config.trainer.accelerator = accelerator\n",
                "config.trainer.precision = 16 if torch.cuda.is_available() else 32\n",
                "\n",
                "# For mixed precision training, use precision=16 and amp_level=O1\n",
                "\n",
                "# Reduces maximum number of epochs to 1 for a quick training\n",
                "config.trainer.max_epochs = 1\n",
                "\n",
                "# Remove distributed training flags\n",
                "config.trainer.strategy = None\n",
                "\n",
                "trainer = pl.Trainer(**config.trainer)"
            ]
        },
        {
            "cell_type": "markdown",
            "metadata": {
                "colab_type": "text",
                "id": "8IlEMdVxdr6p"
            },
            "source": [
                "# Setting up a NeMo Experiment¶\n",
                "\n",
                "NeMo has an experiment manager that handles logging and checkpointing for us, so let's use it!"
            ]
        },
        {
            "cell_type": "code",
            "execution_count": 14,
            "metadata": {
                "colab": {},
                "colab_type": "code",
                "id": "8uztqGAmdrYt"
            },
            "outputs": [
                {
                    "name": "stdout",
                    "output_type": "stream",
                    "text": [
                        "[NeMo I 2022-09-28 18:57:57 exp_manager:291] Experiments will be logged at /NeMo/tutorials/nlp/nemo_experiments/Punctuation_and_Capitalization/2022-09-28_18-57-57\n",
                        "[NeMo I 2022-09-28 18:57:57 exp_manager:669] TensorboardLogger has been set up\n"
                    ]
                },
                {
                    "name": "stderr",
                    "output_type": "stream",
                    "text": [
                        "[NeMo W 2022-09-28 18:57:57 nemo_logging:349] /opt/conda/lib/python3.8/site-packages/pytorch_lightning/trainer/trainer.py:2274: LightningDeprecationWarning: `Trainer.weights_save_path` has been deprecated in v1.6 and will be removed in v1.8.\n",
                        "      rank_zero_deprecation(\"`Trainer.weights_save_path` has been deprecated in v1.6 and will be removed in v1.8.\")\n",
                        "    \n",
                        "[NeMo W 2022-09-28 18:57:57 exp_manager:919] The checkpoint callback was told to monitor a validation value and trainer's max_steps was set to -1. Please ensure that max_steps will run for at least 1 epochs to ensure that checkpointing will not error out.\n"
                    ]
                },
                {
                    "data": {
                        "text/plain": [
                            "'/NeMo/tutorials/nlp/nemo_experiments/Punctuation_and_Capitalization/2022-09-28_18-57-57'"
                        ]
                    },
                    "execution_count": 14,
                    "metadata": {},
                    "output_type": "execute_result"
                }
            ],
            "source": [
                "exp_dir = exp_manager(trainer, config.get(\"exp_manager\", None))\n",
                "\n",
                "# the exp_dir provides a path to the current experiment for easy access\n",
                "exp_dir = str(exp_dir)\n",
                "exp_dir"
            ]
        },
        {
            "cell_type": "markdown",
            "metadata": {
                "colab_type": "text",
                "id": "6FI_nQsJo_11"
            },
            "source": [
                "# Model Training"
            ]
        },
        {
            "cell_type": "markdown",
            "metadata": {
                "colab_type": "text",
                "id": "8tjLhUvL_o7_"
            },
            "source": [
                "Before initializing the model, we might want to modify some of the model configs. For example, we might want to modify the pretrained BERT model."
            ]
        },
        {
            "cell_type": "code",
            "execution_count": 15,
            "metadata": {
                "colab": {},
                "colab_type": "code",
                "id": "Xeuc2i7Y_nP5"
            },
            "outputs": [
                {
                    "name": "stdout",
                    "output_type": "stream",
                    "text": [
                        "['bert-base-uncased', 'bert-large-uncased', 'bert-base-cased', 'bert-large-cased', 'bert-base-multilingual-uncased', 'bert-base-multilingual-cased', 'bert-base-chinese', 'bert-base-german-cased', 'bert-large-uncased-whole-word-masking', 'bert-large-cased-whole-word-masking', 'bert-large-uncased-whole-word-masking-finetuned-squad', 'bert-large-cased-whole-word-masking-finetuned-squad', 'bert-base-cased-finetuned-mrpc', 'bert-base-german-dbmdz-cased', 'bert-base-german-dbmdz-uncased', 'cl-tohoku/bert-base-japanese', 'cl-tohoku/bert-base-japanese-whole-word-masking', 'cl-tohoku/bert-base-japanese-char', 'cl-tohoku/bert-base-japanese-char-whole-word-masking', 'TurkuNLP/bert-base-finnish-cased-v1', 'TurkuNLP/bert-base-finnish-uncased-v1', 'wietsedv/bert-base-dutch-cased', 'distilbert-base-uncased', 'distilbert-base-uncased-distilled-squad', 'distilbert-base-cased', 'distilbert-base-cased-distilled-squad', 'distilbert-base-german-cased', 'distilbert-base-multilingual-cased', 'distilbert-base-uncased-finetuned-sst-2-english', 'camembert-base', 'Musixmatch/umberto-commoncrawl-cased-v1', 'Musixmatch/umberto-wikipedia-uncased-v1', 'roberta-base', 'roberta-large', 'roberta-large-mnli', 'distilroberta-base', 'roberta-base-openai-detector', 'roberta-large-openai-detector', 'albert-base-v1', 'albert-large-v1', 'albert-xlarge-v1', 'albert-xxlarge-v1', 'albert-base-v2', 'albert-large-v2', 'albert-xlarge-v2', 'albert-xxlarge-v2', 'gpt2', 'gpt2-medium', 'gpt2-large', 'gpt2-xl', 'distilgpt2']\n"
                    ]
                }
            ],
            "source": [
                "# complete list of supported BERT-like models\n",
                "print(nemo_nlp.modules.get_pretrained_lm_models_list())\n",
                "\n",
                "PRETRAINED_BERT_MODEL = \"biomegatron-bert-345m-uncased\""
            ]
        },
        {
            "cell_type": "code",
            "execution_count": 16,
            "metadata": {
                "colab": {},
                "colab_type": "code",
                "id": "RK2xglXyAUOO"
            },
            "outputs": [],
            "source": [
                "# add the specified above model parameters to the config\n",
                "config.model.language_model.pretrained_model_name = PRETRAINED_BERT_MODEL\n",
                "config.model.train_ds.tokens_in_batch = TOKENS_IN_BATCH\n",
                "config.model.validation_ds.tokens_in_batch = TOKENS_IN_BATCH\n",
                "config.model.optim.lr = LEARNING_RATE\n",
                "config.model.train_ds.num_samples = NUM_SAMPLES\n",
                "config.model.validation_ds.num_samples = NUM_SAMPLES\n"
            ]
        },
        {
            "cell_type": "markdown",
            "metadata": {
                "colab_type": "text",
                "id": "gYKcziSsiAAd"
            },
            "source": [
                "Now, we are ready to initialize our model. During the model initialization call, the dataset and data loaders we'll be prepared for training and evaluation.\n",
                "Also, the pretrained BERT model will be downloaded, note it can take up to a few minutes depending on the size of the chosen BERT model."
            ]
        },
        {
            "cell_type": "code",
            "execution_count": 17,
            "metadata": {
                "colab": {},
                "colab_type": "code",
                "id": "Yk2hJssviAAe",
                "pycharm": {
                    "name": "#%%\n"
                },
                "scrolled": false
            },
            "outputs": [
                {
                    "name": "stderr",
                    "output_type": "stream",
                    "text": [
                        "[NeMo W 2022-09-28 18:58:20 lm_utils:80] biomegatron-bert-345m-uncased is not in get_pretrained_lm_models_list(include_external=False), will be using AutoModel from HuggingFace.\n"
                    ]
                },
                {
                    "name": "stdout",
                    "output_type": "stream",
                    "text": [
                        "[NeMo I 2022-09-28 18:58:20 cloud:56] Found existing object /root/.cache/torch/NeMo/NeMo_1.12.0/BioMegatron345mUncased/8b5a30458454d34ea3ad6fb53835f214/BioMegatron345mUncased.nemo.\n",
                        "[NeMo I 2022-09-28 18:58:20 cloud:62] Re-using file from: /root/.cache/torch/NeMo/NeMo_1.12.0/BioMegatron345mUncased/8b5a30458454d34ea3ad6fb53835f214/BioMegatron345mUncased.nemo\n",
                        "[NeMo I 2022-09-28 18:58:20 common:910] Instantiating model from pre-trained checkpoint\n",
                        "[NeMo I 2022-09-28 18:58:22 megatron_init:204] Rank 0 has data parallel group: [0]\n",
                        "[NeMo I 2022-09-28 18:58:22 megatron_init:207] All data parallel group ranks: [[0]]\n",
                        "[NeMo I 2022-09-28 18:58:22 megatron_init:208] Ranks 0 has data parallel rank: 0\n",
                        "[NeMo I 2022-09-28 18:58:22 megatron_init:216] Rank 0 has model parallel group: [0]\n",
                        "[NeMo I 2022-09-28 18:58:22 megatron_init:217] All model parallel group ranks: [[0]]\n",
                        "[NeMo I 2022-09-28 18:58:22 megatron_init:227] Rank 0 has tensor model parallel group: [0]\n",
                        "[NeMo I 2022-09-28 18:58:22 megatron_init:231] All tensor model parallel group ranks: [[0]]\n",
                        "[NeMo I 2022-09-28 18:58:22 megatron_init:232] Rank 0 has tensor model parallel rank: 0\n",
                        "[NeMo I 2022-09-28 18:58:22 megatron_init:246] Rank 0 has pipeline model parallel group: [0]\n",
                        "[NeMo I 2022-09-28 18:58:22 megatron_init:258] Rank 0 has embedding group: [0]\n",
                        "[NeMo I 2022-09-28 18:58:22 megatron_init:264] All pipeline model parallel group ranks: [[0]]\n",
                        "[NeMo I 2022-09-28 18:58:22 megatron_init:265] Rank 0 has pipeline model parallel rank 0\n",
                        "[NeMo I 2022-09-28 18:58:22 megatron_init:266] All embedding group ranks: [[0]]\n",
                        "[NeMo I 2022-09-28 18:58:22 megatron_init:267] Rank 0 has embedding rank: 0\n"
                    ]
                },
                {
                    "name": "stderr",
                    "output_type": "stream",
                    "text": [
                        "[NeMo W 2022-09-28 18:58:22 modelPT:217] You tried to register an artifact under config key=tokenizer.vocab_file but an artifact for it has already been registered.\n"
                    ]
                },
                {
                    "name": "stdout",
                    "output_type": "stream",
                    "text": [
                        "[NeMo I 2022-09-28 18:58:22 tokenizer_utils:204] Getting Megatron tokenizer for pretrained model name: megatron-bert-345m-uncased, custom vocab file: /tmp/tmpxal6fgg_/e10447bf5e1c4338a20d04292c98fafb_vocab.txt, and merges file: None\n",
                        "[NeMo I 2022-09-28 18:58:22 tokenizer_utils:130] Getting HuggingFace AutoTokenizer with pretrained_model_name: bert-large-uncased, vocab_file: /tmp/tmpxal6fgg_/e10447bf5e1c4338a20d04292c98fafb_vocab.txt, merges_files: None, special_tokens_dict: {}, and use_fast: False\n"
                    ]
                },
                {
                    "name": "stderr",
                    "output_type": "stream",
                    "text": [
                        "Using eos_token, but it is not set yet.\n",
                        "Using bos_token, but it is not set yet.\n"
                    ]
                },
                {
                    "name": "stdout",
                    "output_type": "stream",
                    "text": [
                        "[NeMo I 2022-09-28 18:58:22 megatron_base_model:185] Padded vocab_size: 30592, original vocab_size: 30522, dummy tokens: 70.\n",
                        "[NeMo I 2022-09-28 18:58:24 save_restore_connector:243] Model MegatronBertModel was successfully restored from /root/.cache/torch/NeMo/NeMo_1.12.0/BioMegatron345mUncased/8b5a30458454d34ea3ad6fb53835f214/BioMegatron345mUncased.nemo.\n",
                        "[NeMo I 2022-09-28 18:58:24 punctuation_capitalization_dataset:1119] Processing data/text_train.txt\n",
                        "[NeMo I 2022-09-28 18:58:24 punctuation_capitalization_dataset:662] Start initial tokenization.\n",
                        "[NeMo I 2022-09-28 18:58:24 punctuation_capitalization_dataset:667] Running tokenization with 0 jobs.\n"
                    ]
                },
                {
                    "name": "stderr",
                    "output_type": "stream",
                    "text": [
                        "Tokenization:  88%|████████▊ | 7.00k/8.00k [00:03<00:00, 1.99kquery/s]"
                    ]
                },
                {
                    "name": "stdout",
                    "output_type": "stream",
                    "text": [
                        "[NeMo I 2022-09-28 18:58:28 punctuation_capitalization_dataset:595] Finished processing data split number 0\n"
                    ]
                },
                {
                    "name": "stderr",
                    "output_type": "stream",
                    "text": [
                        "Tokenization: 100%|██████████| 8.00k/8.00k [00:04<00:00, 1.98kquery/s]\n"
                    ]
                },
                {
                    "name": "stdout",
                    "output_type": "stream",
                    "text": [
                        "[NeMo I 2022-09-28 18:58:28 punctuation_capitalization_dataset:725] Finished initial tokenization.\n",
                        "[NeMo I 2022-09-28 18:58:28 data_preprocessing:404] Some stats of the lengths of the sequences:\n",
                        "[NeMo I 2022-09-28 18:58:28 data_preprocessing:406] Min: 4 |                  Max: 35 |                  Mean: 10.625875 |                  Median: 10.0\n",
                        "[NeMo I 2022-09-28 18:58:28 data_preprocessing:412] 75 percentile: 12.00\n",
                        "[NeMo I 2022-09-28 18:58:28 data_preprocessing:413] 99 percentile: 24.00\n",
                        "[NeMo I 2022-09-28 18:58:28 punctuation_capitalization_dataset:727] Finished clipping and padding.\n",
                        "[NeMo I 2022-09-28 18:58:28 punctuation_capitalization_dataset:729] *** Example ***\n",
                        "[NeMo I 2022-09-28 18:58:28 punctuation_capitalization_dataset:730] i: 0\n",
                        "[NeMo I 2022-09-28 18:58:28 punctuation_capitalization_dataset:731] subtokens: 101 2292 1005 1055 3046 2242 102\n",
                        "[NeMo I 2022-09-28 18:58:28 punctuation_capitalization_dataset:732] subtokens_mask: False True False False True True False\n",
                        "[NeMo I 2022-09-28 18:58:28 punctuation_capitalization_dataset:733] punct_labels: 0 0 0 0 0 2 0\n",
                        "[NeMo I 2022-09-28 18:58:28 punctuation_capitalization_dataset:734] capit_labels: 0 1 1 1 0 0 0\n",
                        "[NeMo I 2022-09-28 18:58:28 punctuation_capitalization_dataset:729] *** Example ***\n",
                        "[NeMo I 2022-09-28 18:58:28 punctuation_capitalization_dataset:730] i: 1\n",
                        "[NeMo I 2022-09-28 18:58:28 punctuation_capitalization_dataset:731] subtokens: 101 1045 2031 2000 2175 2000 3637 102\n",
                        "[NeMo I 2022-09-28 18:58:28 punctuation_capitalization_dataset:732] subtokens_mask: False True True True True True True False\n",
                        "[NeMo I 2022-09-28 18:58:28 punctuation_capitalization_dataset:733] punct_labels: 0 0 0 0 0 0 2 0\n",
                        "[NeMo I 2022-09-28 18:58:28 punctuation_capitalization_dataset:734] capit_labels: 0 1 0 0 0 0 0 0\n",
                        "[NeMo I 2022-09-28 18:58:28 punctuation_capitalization_dataset:729] *** Example ***\n",
                        "[NeMo I 2022-09-28 18:58:28 punctuation_capitalization_dataset:730] i: 2\n",
                        "[NeMo I 2022-09-28 18:58:28 punctuation_capitalization_dataset:731] subtokens: 101 1045 2097 2022 2067 2574 102\n",
                        "[NeMo I 2022-09-28 18:58:28 punctuation_capitalization_dataset:732] subtokens_mask: False True True True True True False\n",
                        "[NeMo I 2022-09-28 18:58:28 punctuation_capitalization_dataset:733] punct_labels: 0 0 0 0 0 2 0\n",
                        "[NeMo I 2022-09-28 18:58:28 punctuation_capitalization_dataset:734] capit_labels: 0 1 0 0 0 0 0\n",
                        "[NeMo I 2022-09-28 18:58:28 punctuation_capitalization_dataset:729] *** Example ***\n",
                        "[NeMo I 2022-09-28 18:58:28 punctuation_capitalization_dataset:730] i: 3\n",
                        "[NeMo I 2022-09-28 18:58:28 punctuation_capitalization_dataset:731] subtokens: 101 1045 1005 1049 2012 1037 3279 2005 2616 102\n",
                        "[NeMo I 2022-09-28 18:58:28 punctuation_capitalization_dataset:732] subtokens_mask: False True False False True True True True True False\n",
                        "[NeMo I 2022-09-28 18:58:28 punctuation_capitalization_dataset:733] punct_labels: 0 0 0 0 0 0 0 0 2 0\n",
                        "[NeMo I 2022-09-28 18:58:28 punctuation_capitalization_dataset:734] capit_labels: 0 1 1 1 0 0 0 0 0 0\n",
                        "[NeMo I 2022-09-28 18:58:28 punctuation_capitalization_dataset:729] *** Example ***\n",
                        "[NeMo I 2022-09-28 18:58:28 punctuation_capitalization_dataset:730] i: 4\n",
                        "[NeMo I 2022-09-28 18:58:28 punctuation_capitalization_dataset:731] subtokens: 101 2023 2003 2196 2183 2000 2203 102\n",
                        "[NeMo I 2022-09-28 18:58:28 punctuation_capitalization_dataset:732] subtokens_mask: False True True True True True True False\n",
                        "[NeMo I 2022-09-28 18:58:28 punctuation_capitalization_dataset:733] punct_labels: 0 0 0 0 0 0 2 0\n",
                        "[NeMo I 2022-09-28 18:58:28 punctuation_capitalization_dataset:734] capit_labels: 0 1 0 0 0 0 0 0\n",
                        "[NeMo I 2022-09-28 18:58:28 punctuation_capitalization_dataset:1173] Features saved to data/cached.__text_train.txt__labels_train.txt__.BertTokenizer.max_seq_length512.vocab30522.num_samples10000.punctuation_capitalization.pkl\n"
                    ]
                },
                {
                    "name": "stderr",
                    "output_type": "stream",
                    "text": [
                        "Batch mark up: 100%|██████████| 8000/8000 [00:00<00:00, 1143446.31query/s]\n",
                        "Batch building: 100%|██████████| 114/114 [00:00<00:00, 745.84batch/s]"
                    ]
                },
                {
                    "name": "stdout",
                    "output_type": "stream",
                    "text": [
                        "[NeMo I 2022-09-28 18:58:28 punctuation_capitalization_dataset:1119] Processing data/text_dev.txt\n",
                        "[NeMo I 2022-09-28 18:58:28 punctuation_capitalization_dataset:662] Start initial tokenization.\n",
                        "[NeMo I 2022-09-28 18:58:28 punctuation_capitalization_dataset:667] Running tokenization with 0 jobs.\n"
                    ]
                },
                {
                    "name": "stderr",
                    "output_type": "stream",
                    "text": [
                        "\n",
                        "Tokenization:  50%|█████     | 1.00k/2.00k [00:00<00:00, 1.66kquery/s]"
                    ]
                },
                {
                    "name": "stdout",
                    "output_type": "stream",
                    "text": [
                        "[NeMo I 2022-09-28 18:58:29 punctuation_capitalization_dataset:595] Finished processing data split number 0\n"
                    ]
                },
                {
                    "name": "stderr",
                    "output_type": "stream",
                    "text": [
                        "Tokenization: 100%|██████████| 2.00k/2.00k [00:01<00:00, 1.98kquery/s]\n"
                    ]
                },
                {
                    "name": "stdout",
                    "output_type": "stream",
                    "text": [
                        "[NeMo I 2022-09-28 18:58:29 punctuation_capitalization_dataset:725] Finished initial tokenization.\n",
                        "[NeMo I 2022-09-28 18:58:29 data_preprocessing:404] Some stats of the lengths of the sequences:\n",
                        "[NeMo I 2022-09-28 18:58:29 data_preprocessing:406] Min: 4 |                  Max: 32 |                  Mean: 10.2735 |                  Median: 10.0\n",
                        "[NeMo I 2022-09-28 18:58:29 data_preprocessing:412] 75 percentile: 12.00\n",
                        "[NeMo I 2022-09-28 18:58:29 data_preprocessing:413] 99 percentile: 22.00\n",
                        "[NeMo I 2022-09-28 18:58:29 punctuation_capitalization_dataset:727] Finished clipping and padding.\n",
                        "[NeMo I 2022-09-28 18:58:29 punctuation_capitalization_dataset:729] *** Example ***\n",
                        "[NeMo I 2022-09-28 18:58:29 punctuation_capitalization_dataset:730] i: 0\n",
                        "[NeMo I 2022-09-28 18:58:29 punctuation_capitalization_dataset:731] subtokens: 101 2057 2342 2070 5337 7899 1999 3906 102\n",
                        "[NeMo I 2022-09-28 18:58:29 punctuation_capitalization_dataset:732] subtokens_mask: False True True True True True True True False\n",
                        "[NeMo I 2022-09-28 18:58:29 punctuation_capitalization_dataset:733] punct_labels: 0 0 0 0 0 0 0 2 0\n",
                        "[NeMo I 2022-09-28 18:58:29 punctuation_capitalization_dataset:734] capit_labels: 0 1 0 0 0 0 0 0 0\n",
                        "[NeMo I 2022-09-28 18:58:29 punctuation_capitalization_dataset:729] *** Example ***\n",
                        "[NeMo I 2022-09-28 18:58:29 punctuation_capitalization_dataset:730] i: 1\n",
                        "[NeMo I 2022-09-28 18:58:29 punctuation_capitalization_dataset:731] subtokens: 101 2057 2018 2053 4522 2021 2000 2954 102\n",
                        "[NeMo I 2022-09-28 18:58:29 punctuation_capitalization_dataset:732] subtokens_mask: False True True True True True True True False\n",
                        "[NeMo I 2022-09-28 18:58:29 punctuation_capitalization_dataset:733] punct_labels: 0 0 0 0 0 0 0 2 0\n",
                        "[NeMo I 2022-09-28 18:58:29 punctuation_capitalization_dataset:734] capit_labels: 0 1 0 0 0 0 0 0 0\n",
                        "[NeMo I 2022-09-28 18:58:29 punctuation_capitalization_dataset:729] *** Example ***\n",
                        "[NeMo I 2022-09-28 18:58:29 punctuation_capitalization_dataset:730] i: 2\n",
                        "[NeMo I 2022-09-28 18:58:29 punctuation_capitalization_dataset:731] subtokens: 101 2057 2031 1996 4522 1997 2331 1998 12339 102\n",
                        "[NeMo I 2022-09-28 18:58:29 punctuation_capitalization_dataset:732] subtokens_mask: False True True True True True True True True False\n",
                        "[NeMo I 2022-09-28 18:58:29 punctuation_capitalization_dataset:733] punct_labels: 0 0 0 0 0 0 0 0 2 0\n",
                        "[NeMo I 2022-09-28 18:58:29 punctuation_capitalization_dataset:734] capit_labels: 0 1 0 0 0 0 0 0 0 0\n",
                        "[NeMo I 2022-09-28 18:58:29 punctuation_capitalization_dataset:729] *** Example ***\n",
                        "[NeMo I 2022-09-28 18:58:29 punctuation_capitalization_dataset:730] i: 3\n",
                        "[NeMo I 2022-09-28 18:58:29 punctuation_capitalization_dataset:731] subtokens: 101 2498 6963 2256 2126 102\n",
                        "[NeMo I 2022-09-28 18:58:29 punctuation_capitalization_dataset:732] subtokens_mask: False True True True True False\n",
                        "[NeMo I 2022-09-28 18:58:29 punctuation_capitalization_dataset:733] punct_labels: 0 0 0 0 2 0\n",
                        "[NeMo I 2022-09-28 18:58:29 punctuation_capitalization_dataset:734] capit_labels: 0 1 0 0 0 0\n",
                        "[NeMo I 2022-09-28 18:58:29 punctuation_capitalization_dataset:729] *** Example ***\n",
                        "[NeMo I 2022-09-28 18:58:29 punctuation_capitalization_dataset:730] i: 4\n",
                        "[NeMo I 2022-09-28 18:58:29 punctuation_capitalization_dataset:731] subtokens: 101 2057 2018 2019 24655 3820 2008 2057 2052 2490 2169 2060 102\n",
                        "[NeMo I 2022-09-28 18:58:29 punctuation_capitalization_dataset:732] subtokens_mask: False True True True True True True True True True True True False\n",
                        "[NeMo I 2022-09-28 18:58:29 punctuation_capitalization_dataset:733] punct_labels: 0 0 0 0 0 0 0 0 0 0 0 2 0\n",
                        "[NeMo I 2022-09-28 18:58:29 punctuation_capitalization_dataset:734] capit_labels: 0 1 0 0 0 0 0 0 0 0 0 0 0\n",
                        "[NeMo I 2022-09-28 18:58:29 punctuation_capitalization_dataset:1173] Features saved to data/cached.__text_dev.txt__labels_dev.txt__.BertTokenizer.max_seq_length512.vocab30522.num_samples10000.punctuation_capitalization.pkl\n"
                    ]
                },
                {
                    "name": "stderr",
                    "output_type": "stream",
                    "text": [
                        "Batch mark up: 100%|██████████| 2000/2000 [00:00<00:00, 1138828.13query/s]\n",
                        "Batch building: 100%|██████████| 28/28 [00:00<00:00, 706.38batch/s]\n",
                        "[NeMo W 2022-09-28 18:58:29 nemo_logging:349] /opt/conda/lib/python3.8/site-packages/torchmetrics/utilities/prints.py:36: UserWarning: Torchmetrics v0.9 introduced a new argument class property called `full_state_update` that has\n",
                        "                    not been set for this class (GlobalAverageLossMetric). The property determines if `update` by\n",
                        "                    default needs access to the full metric state. If this is not the case, significant speedups can be\n",
                        "                    achieved and we recommend setting this to `False`.\n",
                        "                    We provide an checking function\n",
                        "                    `from torchmetrics.utilities import check_forward_full_state_property`\n",
                        "                    that can be used to check if the `full_state_update=True` (old and potential slower behaviour,\n",
                        "                    default for now) or if `full_state_update=False` can be used safely.\n",
                        "                    \n",
                        "      warnings.warn(*args, **kwargs)\n",
                        "    \n",
                        "[NeMo W 2022-09-28 18:58:29 nemo_logging:349] /opt/conda/lib/python3.8/site-packages/torchmetrics/utilities/prints.py:36: UserWarning: Torchmetrics v0.9 introduced a new argument class property called `full_state_update` that has\n",
                        "                    not been set for this class (ClassificationReport). The property determines if `update` by\n",
                        "                    default needs access to the full metric state. If this is not the case, significant speedups can be\n",
                        "                    achieved and we recommend setting this to `False`.\n",
                        "                    We provide an checking function\n",
                        "                    `from torchmetrics.utilities import check_forward_full_state_property`\n",
                        "                    that can be used to check if the `full_state_update=True` (old and potential slower behaviour,\n",
                        "                    default for now) or if `full_state_update=False` can be used safely.\n",
                        "                    \n",
                        "      warnings.warn(*args, **kwargs)\n",
                        "    \n",
                        "[NeMo W 2022-09-28 18:58:29 lm_utils:80] biomegatron-bert-345m-uncased is not in get_pretrained_lm_models_list(include_external=False), will be using AutoModel from HuggingFace.\n"
                    ]
                },
                {
                    "name": "stdout",
                    "output_type": "stream",
                    "text": [
                        "[NeMo I 2022-09-28 18:58:29 cloud:56] Found existing object /root/.cache/torch/NeMo/NeMo_1.12.0/BioMegatron345mUncased/8b5a30458454d34ea3ad6fb53835f214/BioMegatron345mUncased.nemo.\n",
                        "[NeMo I 2022-09-28 18:58:29 cloud:62] Re-using file from: /root/.cache/torch/NeMo/NeMo_1.12.0/BioMegatron345mUncased/8b5a30458454d34ea3ad6fb53835f214/BioMegatron345mUncased.nemo\n",
                        "[NeMo I 2022-09-28 18:58:29 common:910] Instantiating model from pre-trained checkpoint\n",
                        "[NeMo I 2022-09-28 18:58:31 megatron_init:204] Rank 0 has data parallel group: [0]\n",
                        "[NeMo I 2022-09-28 18:58:31 megatron_init:207] All data parallel group ranks: [[0]]\n",
                        "[NeMo I 2022-09-28 18:58:31 megatron_init:208] Ranks 0 has data parallel rank: 0\n",
                        "[NeMo I 2022-09-28 18:58:31 megatron_init:216] Rank 0 has model parallel group: [0]\n",
                        "[NeMo I 2022-09-28 18:58:31 megatron_init:217] All model parallel group ranks: [[0]]\n",
                        "[NeMo I 2022-09-28 18:58:31 megatron_init:227] Rank 0 has tensor model parallel group: [0]\n",
                        "[NeMo I 2022-09-28 18:58:31 megatron_init:231] All tensor model parallel group ranks: [[0]]\n",
                        "[NeMo I 2022-09-28 18:58:31 megatron_init:232] Rank 0 has tensor model parallel rank: 0\n",
                        "[NeMo I 2022-09-28 18:58:31 megatron_init:246] Rank 0 has pipeline model parallel group: [0]\n",
                        "[NeMo I 2022-09-28 18:58:31 megatron_init:258] Rank 0 has embedding group: [0]\n",
                        "[NeMo I 2022-09-28 18:58:31 megatron_init:264] All pipeline model parallel group ranks: [[0]]\n",
                        "[NeMo I 2022-09-28 18:58:31 megatron_init:265] Rank 0 has pipeline model parallel rank 0\n",
                        "[NeMo I 2022-09-28 18:58:31 megatron_init:266] All embedding group ranks: [[0]]\n",
                        "[NeMo I 2022-09-28 18:58:31 megatron_init:267] Rank 0 has embedding rank: 0\n"
                    ]
                },
                {
                    "name": "stderr",
                    "output_type": "stream",
                    "text": [
                        "[NeMo W 2022-09-28 18:58:31 modelPT:217] You tried to register an artifact under config key=tokenizer.vocab_file but an artifact for it has already been registered.\n"
                    ]
                },
                {
                    "name": "stdout",
                    "output_type": "stream",
                    "text": [
                        "[NeMo I 2022-09-28 18:58:31 tokenizer_utils:204] Getting Megatron tokenizer for pretrained model name: megatron-bert-345m-uncased, custom vocab file: /tmp/tmpxc4zsave/e10447bf5e1c4338a20d04292c98fafb_vocab.txt, and merges file: None\n",
                        "[NeMo I 2022-09-28 18:58:31 tokenizer_utils:130] Getting HuggingFace AutoTokenizer with pretrained_model_name: bert-large-uncased, vocab_file: /tmp/tmpxc4zsave/e10447bf5e1c4338a20d04292c98fafb_vocab.txt, merges_files: None, special_tokens_dict: {}, and use_fast: False\n"
                    ]
                },
                {
                    "name": "stderr",
                    "output_type": "stream",
                    "text": [
                        "Using eos_token, but it is not set yet.\n",
                        "Using bos_token, but it is not set yet.\n"
                    ]
                },
                {
                    "name": "stdout",
                    "output_type": "stream",
                    "text": [
                        "[NeMo I 2022-09-28 18:58:31 megatron_base_model:185] Padded vocab_size: 30592, original vocab_size: 30522, dummy tokens: 70.\n",
                        "[NeMo I 2022-09-28 18:58:32 save_restore_connector:243] Model MegatronBertModel was successfully restored from /root/.cache/torch/NeMo/NeMo_1.12.0/BioMegatron345mUncased/8b5a30458454d34ea3ad6fb53835f214/BioMegatron345mUncased.nemo.\n"
                    ]
                }
            ],
            "source": [
                "# initialize the model\n",
                "# during this stage, the dataset and data loaders we'll be prepared for training and evaluation\n",
                "model = nemo_nlp.models.PunctuationCapitalizationModel(cfg=config.model, trainer=trainer)"
            ]
        },
        {
            "cell_type": "markdown",
            "metadata": {
                "colab_type": "text",
                "id": "kQ592Tx4pzyB"
            },
            "source": [
                "## Monitoring training progress\n",
                "Optionally, you can create a Tensorboard visualization to monitor training progress."
            ]
        },
        {
            "cell_type": "code",
            "execution_count": 18,
            "metadata": {
                "colab": {},
                "colab_type": "code",
                "id": "mTJr16_pp0aS"
            },
            "outputs": [
                {
                    "name": "stdout",
                    "output_type": "stream",
                    "text": [
                        "To use tensorboard, please use this notebook in a Google Colab environment.\n"
                    ]
                }
            ],
            "source": [
                "try:\n",
                "  from google import colab\n",
                "  COLAB_ENV = True\n",
                "except (ImportError, ModuleNotFoundError):\n",
                "  COLAB_ENV = False\n",
                "\n",
                "# Load the TensorBoard notebook extension\n",
                "if COLAB_ENV:\n",
                "  %load_ext tensorboard\n",
                "  %tensorboard --logdir {exp_dir}\n",
                "else:\n",
                "  print(\"To use tensorboard, please use this notebook in a Google Colab environment.\")"
            ]
        },
        {
            "cell_type": "code",
            "execution_count": 19,
            "metadata": {
                "colab": {},
                "colab_type": "code",
                "id": "hUvnSpyjp0Dh"
            },
            "outputs": [
                {
                    "name": "stderr",
                    "output_type": "stream",
                    "text": [
                        "LOCAL_RANK: 0 - CUDA_VISIBLE_DEVICES: [0,1,2,3,4]\n"
                    ]
                },
                {
                    "name": "stdout",
                    "output_type": "stream",
                    "text": [
                        "[NeMo I 2022-09-28 18:58:49 modelPT:597] Optimizer config = Adam (\n",
                        "    Parameter Group 0\n",
                        "        amsgrad: False\n",
                        "        betas: (0.9, 0.999)\n",
                        "        capturable: False\n",
                        "        eps: 1e-08\n",
                        "        foreach: None\n",
                        "        lr: 2e-05\n",
                        "        maximize: False\n",
                        "        weight_decay: 0.0\n",
                        "    )\n",
                        "[NeMo I 2022-09-28 18:58:49 lr_scheduler:910] Scheduler \"<nemo.core.optim.lr_scheduler.WarmupAnnealing object at 0x7f7010d526d0>\" \n",
                        "    will be used during training (effective maximum steps = 114) - \n",
                        "    Parameters : \n",
                        "    (warmup_steps: null\n",
                        "    warmup_ratio: 0.1\n",
                        "    last_epoch: -1\n",
                        "    max_steps: 114\n",
                        "    )\n"
                    ]
                },
                {
                    "name": "stderr",
                    "output_type": "stream",
                    "text": [
                        "\n",
                        "  | Name             | Type              | Params\n",
                        "-------------------------------------------------------\n",
                        "0 | metrics          | ModuleDict        | 0     \n",
                        "1 | bert_model       | MegatronBertModel | 334 M \n",
                        "2 | punct_classifier | TokenClassifier   | 4.1 K \n",
                        "3 | capit_classifier | TokenClassifier   | 2.0 K \n",
                        "4 | loss             | CrossEntropyLoss  | 0     \n",
                        "5 | agg_loss         | AggregatorLoss    | 0     \n",
                        "-------------------------------------------------------\n",
                        "334 M     Trainable params\n",
                        "0         Non-trainable params\n",
                        "334 M     Total params\n",
                        "668.340   Total estimated model params size (MB)\n"
                    ]
                },
                {
                    "data": {
                        "application/json": {
                            "ascii": false,
                            "bar_format": null,
                            "colour": null,
                            "elapsed": 0.01608443260192871,
                            "initial": 0,
                            "n": 0,
                            "ncols": null,
                            "nrows": null,
                            "postfix": null,
                            "prefix": "Sanity Checking",
                            "rate": null,
                            "total": null,
                            "unit": "it",
                            "unit_divisor": 1000,
                            "unit_scale": false
                        },
                        "application/vnd.jupyter.widget-view+json": {
                            "model_id": "02d6c1255d3e47669db0095c90e9b456",
                            "version_major": 2,
                            "version_minor": 0
                        },
                        "text/plain": [
                            "Sanity Checking: 0it [00:00, ?it/s]"
                        ]
                    },
                    "metadata": {},
                    "output_type": "display_data"
                },
                {
                    "name": "stdout",
                    "output_type": "stream",
                    "text": [
                        "[NeMo I 2022-09-28 18:58:52 punctuation_capitalization_model:333] Punctuation report: \n",
                        "    label                                                precision    recall       f1           support   \n",
                        "    O (label_id: 0)                                         77.75      32.26      45.60        964\n",
                        "    , (label_id: 1)                                          1.01      15.38       1.89         26\n",
                        "    . (label_id: 2)                                         10.30      15.45      12.36        110\n",
                        "    ? (label_id: 3)                                          0.00       0.00       0.00         19\n",
                        "    -------------------\n",
                        "    micro avg                                               29.67      29.67      29.67       1119\n",
                        "    macro avg                                               22.27      15.78      14.96       1119\n",
                        "    weighted avg                                            68.02      29.67      40.54       1119\n",
                        "    \n",
                        "[NeMo I 2022-09-28 18:58:52 punctuation_capitalization_model:334] Capitalization report: \n",
                        "    label                                                precision    recall       f1           support   \n",
                        "    O (label_id: 0)                                         85.42      73.85      79.22        960\n",
                        "    U (label_id: 1)                                         13.15      23.90      16.96        159\n",
                        "    -------------------\n",
                        "    micro avg                                               66.76      66.76      66.76       1119\n",
                        "    macro avg                                               49.29      48.88      48.09       1119\n",
                        "    weighted avg                                            75.15      66.76      70.37       1119\n",
                        "    \n"
                    ]
                },
                {
                    "data": {
                        "application/json": {
                            "ascii": false,
                            "bar_format": null,
                            "colour": null,
                            "elapsed": 0.015390396118164062,
                            "initial": 0,
                            "n": 0,
                            "ncols": null,
                            "nrows": null,
                            "postfix": null,
                            "prefix": "Training",
                            "rate": null,
                            "total": null,
                            "unit": "it",
                            "unit_divisor": 1000,
                            "unit_scale": false
                        },
                        "application/vnd.jupyter.widget-view+json": {
                            "model_id": "dbd4b40f14f34fbf83f0eddf44c5780a",
                            "version_major": 2,
                            "version_minor": 0
                        },
                        "text/plain": [
                            "Training: 0it [00:00, ?it/s]"
                        ]
                    },
                    "metadata": {},
                    "output_type": "display_data"
                },
                {
                    "name": "stderr",
                    "output_type": "stream",
                    "text": [
                        "[NeMo W 2022-09-28 18:58:54 nemo_logging:349] /opt/conda/lib/python3.8/site-packages/torch/optim/lr_scheduler.py:135: UserWarning: Detected call of `lr_scheduler.step()` before `optimizer.step()`. In PyTorch 1.1.0 and later, you should call them in the opposite order: `optimizer.step()` before `lr_scheduler.step()`.  Failure to do this will result in PyTorch skipping the first value of the learning rate schedule. See more details at https://pytorch.org/docs/stable/optim.html#how-to-adjust-learning-rate\n",
                        "      warnings.warn(\"Detected call of `lr_scheduler.step()` before `optimizer.step()`. \"\n",
                        "    \n"
                    ]
                },
                {
                    "data": {
                        "application/json": {
                            "ascii": false,
                            "bar_format": null,
                            "colour": null,
                            "elapsed": 0.015508413314819336,
                            "initial": 0,
                            "n": 0,
                            "ncols": null,
                            "nrows": null,
                            "postfix": null,
                            "prefix": "Validation",
                            "rate": null,
                            "total": null,
                            "unit": "it",
                            "unit_divisor": 1000,
                            "unit_scale": false
                        },
                        "application/vnd.jupyter.widget-view+json": {
                            "model_id": "4d391c3dee6a441c99bfd8b3967395b9",
                            "version_major": 2,
                            "version_minor": 0
                        },
                        "text/plain": [
                            "Validation: 0it [00:00, ?it/s]"
                        ]
                    },
                    "metadata": {},
                    "output_type": "display_data"
                },
                {
                    "name": "stdout",
                    "output_type": "stream",
                    "text": [
                        "[NeMo I 2022-09-28 18:59:05 punctuation_capitalization_model:333] Punctuation report: \n",
                        "    label                                                precision    recall       f1           support   \n",
                        "    O (label_id: 0)                                         97.44      99.96      98.69      13311\n",
                        "    , (label_id: 1)                                         72.00       5.81      10.75        310\n",
                        "    . (label_id: 2)                                         92.36      96.17      94.23       1646\n",
                        "    ? (label_id: 3)                                         97.23      64.74      77.73        380\n",
                        "    -------------------\n",
                        "    micro avg                                               96.84      96.84      96.84      15647\n",
                        "    macro avg                                               89.76      66.67      70.35      15647\n",
                        "    weighted avg                                            96.40      96.84      95.97      15647\n",
                        "    \n",
                        "[NeMo I 2022-09-28 18:59:05 punctuation_capitalization_model:334] Capitalization report: \n",
                        "    label                                                precision    recall       f1           support   \n",
                        "    O (label_id: 0)                                         98.63      99.64      99.13      13263\n",
                        "    U (label_id: 1)                                         97.87      92.32      95.01       2384\n",
                        "    -------------------\n",
                        "    micro avg                                               98.52      98.52      98.52      15647\n",
                        "    macro avg                                               98.25      95.98      97.07      15647\n",
                        "    weighted avg                                            98.52      98.52      98.51      15647\n",
                        "    \n",
                        "[NeMo I 2022-09-28 18:59:05 punctuation_capitalization_dataset:1819] Shuffling training dataset\n"
                    ]
                },
                {
                    "name": "stderr",
                    "output_type": "stream",
                    "text": [
                        "Batch mark up: 100%|██████████| 8000/8000 [00:00<00:00, 1130273.59query/s]\n",
                        "Batch building: 100%|██████████| 114/114 [00:00<00:00, 749.64batch/s]\n",
                        "Epoch 0, global step 114: 'val_loss' reached 0.13744 (best 0.13744), saving model to '/NeMo/tutorials/nlp/nemo_experiments/Punctuation_and_Capitalization/2022-09-28_18-57-57/checkpoints/Punctuation_and_Capitalization--val_loss=0.1374-epoch=0.ckpt' as top 3\n",
                        "`Trainer.fit` stopped: `max_epochs=1` reached.\n"
                    ]
                }
            ],
            "source": [
                "# start the training\n",
                "trainer.fit(model)"
            ]
        },
        {
            "cell_type": "code",
            "execution_count": 21,
            "metadata": {},
            "outputs": [],
            "source": [
                "model.save_to('trained.nemo')"
            ]
        },
        {
            "cell_type": "code",
            "execution_count": 30,
            "metadata": {},
            "outputs": [],
            "source": [
                "path2file = 'new.nemo'"
            ]
        },
        {
            "cell_type": "code",
            "execution_count": 25,
            "metadata": {},
            "outputs": [],
            "source": [
                "import tempfile\n",
                "import tarfile"
            ]
        },
        {
            "cell_type": "code",
            "execution_count": 31,
            "metadata": {},
            "outputs": [
                {
                    "name": "stderr",
                    "output_type": "stream",
                    "text": [
                        "[NeMo W 2022-09-28 19:11:48 lm_utils:80] biomegatron-bert-345m-uncased is not in get_pretrained_lm_models_list(include_external=False), will be using AutoModel from HuggingFace.\n"
                    ]
                },
                {
                    "name": "stdout",
                    "output_type": "stream",
                    "text": [
                        "/tmp/tmpxrxdw2y8\n",
                        "[NeMo I 2022-09-28 19:11:48 cloud:56] Found existing object /root/.cache/torch/NeMo/NeMo_1.12.0/BioMegatron345mUncased/8b5a30458454d34ea3ad6fb53835f214/BioMegatron345mUncased.nemo.\n",
                        "[NeMo I 2022-09-28 19:11:48 cloud:62] Re-using file from: /root/.cache/torch/NeMo/NeMo_1.12.0/BioMegatron345mUncased/8b5a30458454d34ea3ad6fb53835f214/BioMegatron345mUncased.nemo\n",
                        "[NeMo I 2022-09-28 19:11:48 common:910] Instantiating model from pre-trained checkpoint\n",
                        "[NeMo I 2022-09-28 19:11:49 megatron_init:204] Rank 0 has data parallel group: [0]\n",
                        "[NeMo I 2022-09-28 19:11:49 megatron_init:207] All data parallel group ranks: [[0]]\n",
                        "[NeMo I 2022-09-28 19:11:49 megatron_init:208] Ranks 0 has data parallel rank: 0\n",
                        "[NeMo I 2022-09-28 19:11:49 megatron_init:216] Rank 0 has model parallel group: [0]\n",
                        "[NeMo I 2022-09-28 19:11:49 megatron_init:217] All model parallel group ranks: [[0]]\n",
                        "[NeMo I 2022-09-28 19:11:49 megatron_init:227] Rank 0 has tensor model parallel group: [0]\n",
                        "[NeMo I 2022-09-28 19:11:49 megatron_init:231] All tensor model parallel group ranks: [[0]]\n",
                        "[NeMo I 2022-09-28 19:11:49 megatron_init:232] Rank 0 has tensor model parallel rank: 0\n",
                        "[NeMo I 2022-09-28 19:11:49 megatron_init:246] Rank 0 has pipeline model parallel group: [0]\n",
                        "[NeMo I 2022-09-28 19:11:49 megatron_init:258] Rank 0 has embedding group: [0]\n",
                        "[NeMo I 2022-09-28 19:11:49 megatron_init:264] All pipeline model parallel group ranks: [[0]]\n",
                        "[NeMo I 2022-09-28 19:11:49 megatron_init:265] Rank 0 has pipeline model parallel rank 0\n",
                        "[NeMo I 2022-09-28 19:11:49 megatron_init:266] All embedding group ranks: [[0]]\n",
                        "[NeMo I 2022-09-28 19:11:49 megatron_init:267] Rank 0 has embedding rank: 0\n"
                    ]
                },
                {
                    "name": "stderr",
                    "output_type": "stream",
                    "text": [
                        "[NeMo W 2022-09-28 19:11:49 modelPT:217] You tried to register an artifact under config key=tokenizer.vocab_file but an artifact for it has already been registered.\n"
                    ]
                },
                {
                    "name": "stdout",
                    "output_type": "stream",
                    "text": [
                        "[NeMo I 2022-09-28 19:11:49 tokenizer_utils:204] Getting Megatron tokenizer for pretrained model name: megatron-bert-345m-uncased, custom vocab file: /tmp/tmpr351xi4t/e10447bf5e1c4338a20d04292c98fafb_vocab.txt, and merges file: None\n",
                        "[NeMo I 2022-09-28 19:11:49 tokenizer_utils:130] Getting HuggingFace AutoTokenizer with pretrained_model_name: bert-large-uncased, vocab_file: /tmp/tmpr351xi4t/e10447bf5e1c4338a20d04292c98fafb_vocab.txt, merges_files: None, special_tokens_dict: {}, and use_fast: False\n"
                    ]
                },
                {
                    "name": "stderr",
                    "output_type": "stream",
                    "text": [
                        "Using eos_token, but it is not set yet.\n",
                        "Using bos_token, but it is not set yet.\n"
                    ]
                },
                {
                    "name": "stdout",
                    "output_type": "stream",
                    "text": [
                        "[NeMo I 2022-09-28 19:11:50 megatron_base_model:185] Padded vocab_size: 30592, original vocab_size: 30522, dummy tokens: 70.\n",
                        "[NeMo I 2022-09-28 19:11:51 save_restore_connector:243] Model MegatronBertModel was successfully restored from /root/.cache/torch/NeMo/NeMo_1.12.0/BioMegatron345mUncased/8b5a30458454d34ea3ad6fb53835f214/BioMegatron345mUncased.nemo.\n",
                        "[NeMo I 2022-09-28 19:11:51 punctuation_capitalization_dataset:1190] Features restored from data/cached.__text_train.txt__labels_train.txt__.BertTokenizer.max_seq_length512.vocab30522.num_samples10000.punctuation_capitalization.pkl\n"
                    ]
                },
                {
                    "name": "stderr",
                    "output_type": "stream",
                    "text": [
                        "Batch mark up: 100%|██████████| 8000/8000 [00:00<00:00, 1104054.75query/s]\n",
                        "Batch building: 100%|██████████| 114/114 [00:00<00:00, 719.34batch/s]"
                    ]
                },
                {
                    "name": "stdout",
                    "output_type": "stream",
                    "text": [
                        "[NeMo I 2022-09-28 19:11:51 punctuation_capitalization_dataset:1190] Features restored from data/cached.__text_dev.txt__labels_dev.txt__.BertTokenizer.max_seq_length512.vocab30522.num_samples10000.punctuation_capitalization.pkl\n"
                    ]
                },
                {
                    "name": "stderr",
                    "output_type": "stream",
                    "text": [
                        "\n",
                        "Batch mark up: 100%|██████████| 2000/2000 [00:00<00:00, 1099280.30query/s]\n",
                        "Batch building: 100%|██████████| 28/28 [00:00<00:00, 712.85batch/s]\n",
                        "[NeMo W 2022-09-28 19:11:51 nemo_logging:349] /opt/conda/lib/python3.8/site-packages/torchmetrics/utilities/prints.py:36: UserWarning: Torchmetrics v0.9 introduced a new argument class property called `full_state_update` that has\n",
                        "                    not been set for this class (GlobalAverageLossMetric). The property determines if `update` by\n",
                        "                    default needs access to the full metric state. If this is not the case, significant speedups can be\n",
                        "                    achieved and we recommend setting this to `False`.\n",
                        "                    We provide an checking function\n",
                        "                    `from torchmetrics.utilities import check_forward_full_state_property`\n",
                        "                    that can be used to check if the `full_state_update=True` (old and potential slower behaviour,\n",
                        "                    default for now) or if `full_state_update=False` can be used safely.\n",
                        "                    \n",
                        "      warnings.warn(*args, **kwargs)\n",
                        "    \n",
                        "[NeMo W 2022-09-28 19:11:51 nemo_logging:349] /opt/conda/lib/python3.8/site-packages/torchmetrics/utilities/prints.py:36: UserWarning: Torchmetrics v0.9 introduced a new argument class property called `full_state_update` that has\n",
                        "                    not been set for this class (ClassificationReport). The property determines if `update` by\n",
                        "                    default needs access to the full metric state. If this is not the case, significant speedups can be\n",
                        "                    achieved and we recommend setting this to `False`.\n",
                        "                    We provide an checking function\n",
                        "                    `from torchmetrics.utilities import check_forward_full_state_property`\n",
                        "                    that can be used to check if the `full_state_update=True` (old and potential slower behaviour,\n",
                        "                    default for now) or if `full_state_update=False` can be used safely.\n",
                        "                    \n",
                        "      warnings.warn(*args, **kwargs)\n",
                        "    \n",
                        "[NeMo W 2022-09-28 19:11:51 lm_utils:80] biomegatron-bert-345m-uncased is not in get_pretrained_lm_models_list(include_external=False), will be using AutoModel from HuggingFace.\n"
                    ]
                },
                {
                    "name": "stdout",
                    "output_type": "stream",
                    "text": [
                        "[NeMo I 2022-09-28 19:11:51 cloud:56] Found existing object /root/.cache/torch/NeMo/NeMo_1.12.0/BioMegatron345mUncased/8b5a30458454d34ea3ad6fb53835f214/BioMegatron345mUncased.nemo.\n",
                        "[NeMo I 2022-09-28 19:11:51 cloud:62] Re-using file from: /root/.cache/torch/NeMo/NeMo_1.12.0/BioMegatron345mUncased/8b5a30458454d34ea3ad6fb53835f214/BioMegatron345mUncased.nemo\n",
                        "[NeMo I 2022-09-28 19:11:51 common:910] Instantiating model from pre-trained checkpoint\n",
                        "[NeMo I 2022-09-28 19:11:52 megatron_init:204] Rank 0 has data parallel group: [0]\n",
                        "[NeMo I 2022-09-28 19:11:52 megatron_init:207] All data parallel group ranks: [[0]]\n",
                        "[NeMo I 2022-09-28 19:11:52 megatron_init:208] Ranks 0 has data parallel rank: 0\n",
                        "[NeMo I 2022-09-28 19:11:52 megatron_init:216] Rank 0 has model parallel group: [0]\n",
                        "[NeMo I 2022-09-28 19:11:52 megatron_init:217] All model parallel group ranks: [[0]]\n",
                        "[NeMo I 2022-09-28 19:11:52 megatron_init:227] Rank 0 has tensor model parallel group: [0]\n",
                        "[NeMo I 2022-09-28 19:11:52 megatron_init:231] All tensor model parallel group ranks: [[0]]\n",
                        "[NeMo I 2022-09-28 19:11:52 megatron_init:232] Rank 0 has tensor model parallel rank: 0\n",
                        "[NeMo I 2022-09-28 19:11:52 megatron_init:246] Rank 0 has pipeline model parallel group: [0]\n",
                        "[NeMo I 2022-09-28 19:11:52 megatron_init:258] Rank 0 has embedding group: [0]\n",
                        "[NeMo I 2022-09-28 19:11:52 megatron_init:264] All pipeline model parallel group ranks: [[0]]\n",
                        "[NeMo I 2022-09-28 19:11:52 megatron_init:265] Rank 0 has pipeline model parallel rank 0\n",
                        "[NeMo I 2022-09-28 19:11:52 megatron_init:266] All embedding group ranks: [[0]]\n",
                        "[NeMo I 2022-09-28 19:11:52 megatron_init:267] Rank 0 has embedding rank: 0\n"
                    ]
                },
                {
                    "name": "stderr",
                    "output_type": "stream",
                    "text": [
                        "[NeMo W 2022-09-28 19:11:52 modelPT:217] You tried to register an artifact under config key=tokenizer.vocab_file but an artifact for it has already been registered.\n"
                    ]
                },
                {
                    "name": "stdout",
                    "output_type": "stream",
                    "text": [
                        "[NeMo I 2022-09-28 19:11:52 tokenizer_utils:204] Getting Megatron tokenizer for pretrained model name: megatron-bert-345m-uncased, custom vocab file: /tmp/tmpj4850u44/e10447bf5e1c4338a20d04292c98fafb_vocab.txt, and merges file: None\n",
                        "[NeMo I 2022-09-28 19:11:52 tokenizer_utils:130] Getting HuggingFace AutoTokenizer with pretrained_model_name: bert-large-uncased, vocab_file: /tmp/tmpj4850u44/e10447bf5e1c4338a20d04292c98fafb_vocab.txt, merges_files: None, special_tokens_dict: {}, and use_fast: False\n"
                    ]
                },
                {
                    "name": "stderr",
                    "output_type": "stream",
                    "text": [
                        "Using eos_token, but it is not set yet.\n",
                        "Using bos_token, but it is not set yet.\n"
                    ]
                },
                {
                    "name": "stdout",
                    "output_type": "stream",
                    "text": [
                        "[NeMo I 2022-09-28 19:11:53 megatron_base_model:185] Padded vocab_size: 30592, original vocab_size: 30522, dummy tokens: 70.\n",
                        "[NeMo I 2022-09-28 19:11:53 save_restore_connector:243] Model MegatronBertModel was successfully restored from /root/.cache/torch/NeMo/NeMo_1.12.0/BioMegatron345mUncased/8b5a30458454d34ea3ad6fb53835f214/BioMegatron345mUncased.nemo.\n"
                    ]
                }
            ],
            "source": [
                "\n",
                "with tempfile.TemporaryDirectory() as tmpdir:\n",
                "        tar_header = \"r:\"\n",
                "        try:\n",
                "            tar_test = tarfile.open(path2file, tar_header)\n",
                "            tar_test.close()\n",
                "        except tarfile.ReadError:\n",
                "          \n",
                "            tar_header = \"r:gz\"\n",
                "        tar = tarfile.open(path2file, tar_header)\n",
                "        tar.extractall(path=tmpdir)\n",
                "        tar.close()\n",
                "        nemo_nlp.models.PunctuationCapitalizationModel._set_model_restore_state(is_being_restored=True, folder=tmpdir)\n",
                "        config = nemo_nlp.models.PunctuationCapitalizationModel.restore_from(path2file,trainer=trainer,return_config=True)\n",
                "        from nemo.utils.app_state import AppState\n",
                "        print(AppState().nemo_file_folder)\n",
                "        x = nemo_nlp.models.PunctuationCapitalizationModel.from_config_dict(config,trainer=trainer)"
            ]
        },
        {
            "cell_type": "markdown",
            "metadata": {},
            "source": [
                "# Training using tarred dataset"
            ]
        },
        {
            "cell_type": "code",
            "execution_count": null,
            "metadata": {},
            "outputs": [],
            "source": [
                "config = OmegaConf.load(config_path)\n",
                "config.model.train_ds.ds_item = f'{DATA_DIR}/train_tarred'\n",
                "config.model.train_ds.use_tarred_dataset = True\n",
                "# Only metadata file name is required if `use_tarred_dataset=true`.\n",
                "config.model.train_ds.tar_metadata_file = 'metadata.punctuation_capitalization.tokens1024.max_seq_length512.bert-base-uncased.json'\n",
                "config.model.validation_ds.ds_item = DATA_DIR\n",
                "del config.model.test_ds  # We do not have test data, only train and dev\n",
                "\n",
                "# Trainer\n",
                "accelerator = 'gpu' if torch.cuda.is_available() else 'cpu'\n",
                "config.trainer.devices = 1\n",
                "config.trainer.accelerator = accelerator\n",
                "config.trainer.precision = 16 if torch.cuda.is_available() else 32\n",
                "config.trainer.max_epochs = 1\n",
                "config.trainer.strategy = None\n",
                "\n",
                "# Exp manager\n",
                "config.exp_manager.explicit_log_dir = 'tarred_experiment'\n",
                "\n",
                "config.model.language_model.pretrained_model_name = PRETRAINED_BERT_MODEL\n",
                "config.model.validation_ds.tokens_in_batch = TOKENS_IN_BATCH\n",
                "config.model.optim.lr = LEARNING_RATE\n",
                "config.model.validation_ds.num_samples = NUM_SAMPLES"
            ]
        },
        {
            "cell_type": "code",
            "execution_count": null,
            "metadata": {},
            "outputs": [],
            "source": [
                "trainer = pl.Trainer(**config.trainer)\n",
                "exp_dir = exp_manager(trainer, config.get(\"exp_manager\", None))\n",
                "model = nemo_nlp.models.PunctuationCapitalizationModel(cfg=config.model, trainer=trainer)\n",
                "trainer.fit(model)"
            ]
        },
        {
            "cell_type": "markdown",
            "metadata": {
                "colab_type": "text",
                "id": "VPdzJVAgSFaJ"
            },
            "source": [
                "# Inference using a pretrained model\n",
                "\n",
                "To see how the model performs, let’s run inference on a few examples."
            ]
        },
        {
            "cell_type": "code",
            "execution_count": null,
            "metadata": {
                "colab": {},
                "colab_type": "code",
                "id": "DQhsamclRtxJ"
            },
            "outputs": [],
            "source": [
                "print(f\"Available_models: {nemo_nlp.models.PunctuationCapitalizationModel.get_available_model_names()}\\n\")\n",
                "\n",
                "pretrained_model = nemo_nlp.models.PunctuationCapitalizationModel.from_pretrained(\"punctuation_en_distilbert\")\n",
                "# define the list of queiries for inference\n",
                "queries = [\n",
                "        'we bought four shirts and one mug from the nvidia gear store in santa clara',\n",
                "        'what can i do for you today',\n",
                "        'how are you',\n",
                "        'how is the weather in',\n",
                "    ]\n",
                "inference_results = pretrained_model.add_punctuation_capitalization(queries)\n",
                "print()\n",
                "\n",
                "for query, result in zip(queries, inference_results):\n",
                "    print(f'Query   : {query}')\n",
                "    print(f'Combined: {result.strip()}\\n')"
            ]
        },
        {
            "cell_type": "markdown",
            "metadata": {},
            "source": [
                "Inference for large amounts of text can be performed by a script [examples/nlp/token_classification/punctuate_capitalize_infer.py](https://github.com/NVIDIA/NeMo/blob/stable/examples/nlp/token_classification/punctuate_capitalize_infer.py)\n",
                "\n",
                "```\n",
                "python punctuate_capitalize_infer.py \\\n",
                "    --input_manifest <PATH/TO/INPUT/MANIFEST> \\\n",
                "    --output_manifest <PATH/TO/OUTPUT/MANIFEST> \\\n",
                "    --pretrained_name punctuation_en_bert \\\n",
                "    --max_seq_length 64 \\\n",
                "    --margin 16 \\\n",
                "    --step 8\n",
                "```\n",
                "\n",
                "`<PATH/TO/INPUT/MANIFEST>` is a path to NeMo [ASR manifest](https://docs.nvidia.com/deeplearning/nemo/user-guide/docs/en/stable/asr/datasets.html) which contains text in which you need to restore punctuation and capitalization. If manifest contains `'pred_text'` key, then `'pred_text'` elements will be processed. Otherwise, punctuation and capitalization will be restored in `'text'` elements.\n",
                "\n",
                "`<PATH/TO/OUTPUT/MANIFEST>` is a path to NeMo ASR manifest into which result will be saved. The text with restored\n",
                "punctuation and capitalization is saved into `'pred_text'` elements if `'pred_text'` key is present in\n",
                "input manifest. Otherwise result will be saved into `'text'` elements.\n",
                "\n",
                "Alternatively you can pass text for restoring punctuation and capitalization as plain text. See help for parameters `--input_text` and `--output_text` of the script\n",
                "[punctuate_capitalize_infer.py](https://github.com/NVIDIA/NeMo/blob/stable/examples/nlp/token_classification/punctuate_capitalize_infer.py).\n",
                "\n",
                "The script `examples/nlp/token_classification/punctuate_capitalize_infer.py` can restore punctuation and capitalization in a text of arbitrary length. Long sequences are split into segments\n",
                "`--max_seq_length - 2` tokens each. Each segment starts and ends with `[CLS]` and `[SEP]`\n",
                "tokens correspondingly. Every segment is offset to the previous one by `--step` tokens. For example, if\n",
                "every character is a token, `--max_seq_length=5`, `--step=2`, then text `\"hello\"` will be split into\n",
                "segments `[['[CLS]', 'h', 'e', 'l', '[SEP]'], ['[CLS]', 'l', 'l', 'o', '[SEP]']]`.\n",
                "\n",
                "If segments overlap, then predicted probabilities for a token present in several segments are multiplied before selecting the best candidate.\n",
                "\n",
                "Splitting leads to pour performance of a model near edges of segments. Use parameter `--margin` to discard `--margin`\n",
                "probabilities predicted for `--margin` tokens near segment edges. For example, if every character is a token, `--max_seq_length=5`, `--step=1`, `--margin=1`, then text `\"hello\"` will be split into segments `[['[CLS]', 'h', 'e', 'l', '[SEP]'], ['[CLS]', 'e', 'l', 'l', '[SEP]'], ['[CLS]', 'l', 'l', 'o', '[SEP]']]`. Before calculating actual predictions, probabilities for tokens marked by asterisk are removed: `[['[CLS]', 'h', 'e', 'l'*, '[SEP]'*], ['[CLS]'*, 'e'*, 'l', 'l'*, '[SEP]'*], ['[CLS]'*, 'l'*, 'l', 'o', '[SEP]']]`.\n",
                "\n",
                "You may use parameters `max_seq_length`, `step`, and `margin` in `add_punctuation_capitalization` method.\n",
                "\n",
                "The text in the following example is from IWSLT 2019 test dataset."
            ]
        },
        {
            "cell_type": "code",
            "execution_count": null,
            "metadata": {},
            "outputs": [],
            "source": [
                "inference_results = pretrained_model.add_punctuation_capitalization(\n",
                "    [\n",
                "        \"each of these songs represents a scene a movement in some cases a sonic revolution that completely altered the \"\n",
                "        \"course of popular music they're all also calling cards almost for those cities songs totally linked with their \"\n",
                "        \"city's identity and might be why you probably consider them to be music cities now the magical mythical thing \"\n",
                "        \"the thing we kind of all love about stories like these is that those cities weren't doing anything in particular \"\n",
                "        \"to make those moments happen there's no formula for capturing lightning in a bottle a formula didn't give us \"\n",
                "        \"grunge music or introduce tupock to dr dray and there's definitely no blueprint for how to open your record \"\n",
                "        \"business in a south memphis neighborhood that turns out is home to booker t jones william bell and albert king \"\n",
                "        \"so this is just something that happens and right when the stars perfectly align great music just happens and \"\n",
                "        \"in the meantime new york and nashville can churn out the hits that come through our radios define our \"\n",
                "        \"generations and soundtrack our weddings and our funerals and everything in between i don't know about you but \"\n",
                "        \"the very idea of that is just deadly boring to me there are musicians all around you making powerful important \"\n",
                "        \"music and thanks to the internet and it's limitless possibilities for creators to create music and fans to \"\n",
                "        \"discover that music those zyite guy songs don't have to be handed down to us from some conference room full of \"\n",
                "        \"songwriters in a corporate high rise but also and more importantly we can't decide that it's just something that \"\n",
                "        \"happens because music is about so much more than hits those big iconic moments that change everything it's more \"\n",
                "        \"than just entertainment for so many of us music is truly a way to navigate life a means of self expression sure \"\n",
                "        \"but it also helps us find ourrselfel worse and figure out who we are it connects us with other people as almost \"\n",
                "        \"nothing else can across language barriers across social and cultural and economic divides music makes us smarter \"\n",
                "        \"and healthier and happier music is necessary what if you lived in a city that believed that that said we're not \"\n",
                "        \"waiting for that hit song to define us we're a music city because music is necessary by seeing music as \"\n",
                "        \"necessary a city can build two things 1st an ecosystem to support the development of professional musicians \"\n",
                "        \"and music business and 2nd a receptive and engaged audience to sustain them and those are the two critical \"\n",
                "        \"elements of a music city a city whose leaders recognize the importance of music for our development as \"\n",
                "        \"individuals our connection as a community and our viability as a vibrant place to live see smart cities music \"\n",
                "        \"cities know that thriving night lifef a creative class culture is what attracts young talented people to cities \"\n",
                "        \"it's what brings that lightning and no we can't predict the next egg that will hatch but we can create a city \"\n",
                "        \"that acts like an incubator to do that 1st we got to know what we've got that means identifying and quantifying \"\n",
                "        \"our assets we need to know them backward and forward from who and what and where they are to what their impact \"\n",
                "        \"is on the economy let's count our recording studios and our record labels our historic landmarks and our \"\n",
                "        \"hardcore punk clubs we should count monthly free jazz nights and weekly folk jams music schools artist \"\n",
                "        \"development instrument shops every lay than every luther music museums open once a open year round and music \"\n",
                "        \"festivals open just one weekend year now ideally through this process we'll create an actual asset map \"\n",
                "        \"dropping a pin for each one allowing us to see exactly what we've got and where organic momentum is already \"\n",
                "        \"happening because it's not enough to paint in broad strokes here when it comes to specific support for music \"\n",
                "        \"locally and a broad understanding of a music brand nationally you've got to have the receipts next we'll need \"\n",
                "        \"to identify our challenges now it's important to knowe that for the most part this won't be just the opposite \"\n",
                "        \"of step one we won't gain a whole lot by simply thinking about what's missing from our map instead we need to \"\n",
                "        \"approach this more holistically there are lots of music venues on our map awesome but are they struggling do \"\n",
                "        \"we have a venue ladder which just means can an artist starting out at a coffee house open mike see a clear path \"\n",
                "        \"for how they'll grow from that 25 seat room to a hundred seat room and so on or are we expecting them to go from \"\n",
                "        \"a coffee house to a colossum maybe our challenges lie in city infrastructure public transportation affordable \"\n",
                "        \"housing maybe like in london where the number of music venues went from 400 in 2010 to 100 in 2015 we need to \"\n",
                "        \"think about protections against gentrification the mayor of london in december of last year actually added \"\n",
                "        \"something called the agent of change principle to the city's comprehensive plan the name says it all if a real \"\n",
                "        \"estate developer wants to build condos next to an existing music venue the developer is the agent of change they \"\n",
                "        \"have to take the necessary steps for noise mitigation next and this is a very big one we need leadership and we \"\n",
                "        \"need a strategy now we know there's a lot of magic in this mix a lot of right people right place right time and \"\n",
                "        \"that will never stop being an important element of the way music is made the way some of the best most enduring \"\n",
                "        \"music is made but there cannot be a leadership vacuum in 2018 surriving music cities don't often happen and \"\n",
                "        \"don't have to happen accidentally we need elected officials who recognize the power of music and elevate the \"\n",
                "        \"voices of creatives and they're ready to put a strategy in place in music cities from berlin to paris to bogata \"\n",
                "        \"music advisory councils ensure that musicians have a seat at the table they're volunteer councils and they work \"\n",
                "        \"directly with a designated advocate inside of city hall or even the chamber of commerce the strongest strategies \"\n",
                "        \"will build music community supports like this one inward while also exporting music outward they go hand in hand \"\n",
                "        \"when we look inward we create that place that musicians want to live and when we look outward we build \"\n",
                "        \"opportunities for them to advance their career while also driving attention back to our city and leveraging music \"\n",
                "        \"as a talent attraction tool and here's something else that will help with that we've got to figure out who we are \"\n",
                "        \"now when i say austin you probably think live music capital and why because in 1991 leadership in austin saw \"\n",
                "        \"something percolating with an existing asset and they chose to own it by recognizing that momentum naming it and \"\n",
                "        \"claiming it they inevitably caused more live music venues to open existing spaces to add live music to their \"\n",
                "        \"repertoire and they created a swell of civic buy in around the idea which meant that it wasn't just a slogan in \"\n",
                "        \"some tourism pamphlet was something that locals really started to believe and take pride in now generally \"\n",
                "        \"speaking what austin created is just an assets based narrative and when we think back to step one we know that \"\n",
                "        \"every city will not tick every box many cities won't have recording studios like memphis or a songwriter and \"\n",
                "        \"publishing scene like nashville and that's not a deal breaker we simply have to find the momentum happening in \"\n",
                "        \"our city what are our unique assets in comparison to no other place so if all of that sounds like something \"\n",
                "        \"you'd like to happen where you live here are three things you can do to move the needle 1st you can use your \"\n",
                "        \"feet your ears and your dollars show up be that receptive and engaged audience that is so necessary for a music \"\n",
                "        \"city to thrive pay a cover charge buy a record discover new music and please take your friends two you can use \"\n",
                "        \"your voice buy in to the assets based narrative talk about and celebrate what your city has and three you can \"\n",
                "        \"use your vote seek out leadership that doesn't just pay lip service to your city's music but recognizes its \"\n",
                "        \"power and is prepared to put a strategy in place to elevate it grow it and build collaboration no there really \"\n",
                "        \"is no telling what city could be defined by a certain scene or a certain song in the next decade but as much \"\n",
                "        \"as we absolutely cannot predict that what we absolutely can predict is what happens when we treat music as \"\n",
                "        \"necessary and we work to build a music city and that is a place where i want to live thank you\"\n",
                "    ],\n",
                "    max_seq_length=128,\n",
                "    step=8,\n",
                "    margin=16,\n",
                "    batch_size=32,\n",
                ")\n",
                "print(inference_results[0])"
            ]
        },
        {
            "cell_type": "markdown",
            "metadata": {
                "colab_type": "text",
                "id": "ref1qSonGNhP"
            },
            "source": [
                "## Training Script\n",
                "\n",
                "If you have NeMo installed locally, you can also train the model with [nlp/token_classification/punctuation_capitalization_train_evaluate.py](https://github.com/NVIDIA/NeMo/blob/main/examples/nlp/token_classification/punctuation_capitalization_train_evaluate.py).\n",
                "\n",
                "To run training script, use:\n",
                "\n",
                "`python punctuation_capitalization_train_evaluate.py model.train_ds.ds_item=PATH_TO_TRAIN_DATA_DIR`\n",
                "\n",
                "Set NUM_SAMPLES=-1 and consider including other datasets to improve the performance of the model.\n",
                "\n",
                "# Finetuning model with your data\n",
                "\n",
                "When we were training the model from scratch, the datasets were prepared for training during the model initialization. When we are using a pretrained Punctuation and Capitalization model, before training, we need to setup training and evaluation data."
            ]
        },
        {
            "cell_type": "code",
            "execution_count": null,
            "metadata": {
                "colab": {},
                "colab_type": "code",
                "id": "4X1BahRlkaNf"
            },
            "outputs": [],
            "source": [
                "# let's reload our pretrained model\n",
                "pretrained_model = nemo_nlp.models.PunctuationCapitalizationModel.from_pretrained('punctuation_en_distilbert')\n",
                "\n",
                "# setup train and validation Pytorch DataLoaders\n",
                "pretrained_model.update_config_after_restoring_from_checkpoint(\n",
                "    train_ds={\n",
                "        'ds_item': DATA_DIR,\n",
                "        'text_file': 'text_train.txt',\n",
                "        'labels_file': 'labels_train.txt',\n",
                "        'tokens_in_batch': 1024,\n",
                "    },\n",
                "    validation_ds={\n",
                "        'ds_item': DATA_DIR,\n",
                "        'text_file': 'text_dev.txt',\n",
                "        'labels_file': 'labels_dev.txt',\n",
                "        'tokens_in_batch': 1024,\n",
                "    },\n",
                ")\n",
                "\n",
                "# and now we can create a PyTorch Lightning trainer and call `fit` again\n",
                "# for this tutorial we are setting fast_dev_run to True, and the trainer will run 1 training batch and 1 validation batch\n",
                "# for actual model training, disable the flag\n",
                "fast_dev_run = True\n",
                "trainer = pl.Trainer(devices=1, accelerator='gpu', fast_dev_run=fast_dev_run)\n",
                "pretrained_model.set_trainer(trainer)\n",
                "pretrained_model.setup_training_data()\n",
                "pretrained_model.setup_validation_data()\n",
                "trainer.fit(pretrained_model)"
            ]
        }
    ],
    "metadata": {
        "accelerator": "GPU",
        "colab": {
            "collapsed_sections": [
                "daYw_Xll2ZR9"
            ],
            "name": "Punctuation_and_Capitalization.ipynb",
            "private_outputs": true,
            "provenance": []
        },
        "kernelspec": {
            "display_name": "Python 3.8.13 ('base')",
            "language": "python",
            "name": "python3"
        },
        "language_info": {
            "codemirror_mode": {
                "name": "ipython",
                "version": 3
            },
            "file_extension": ".py",
            "mimetype": "text/x-python",
            "name": "python",
            "nbconvert_exporter": "python",
            "pygments_lexer": "ipython3",
            "version": "3.8.13"
        },
        "pycharm": {
            "stem_cell": {
                "cell_type": "raw",
                "metadata": {
                    "collapsed": false
                },
                "source": []
            }
        },
        "vscode": {
            "interpreter": {
                "hash": "d4d1e4263499bec80672ea0156c357c1ee493ec2b1c70f0acce89fc37c4a6abe"
            }
        }
    },
    "nbformat": 4,
    "nbformat_minor": 1
}
