{
 "cells": [
  {
   "cell_type": "markdown",
   "id": "906d3e26-d726-4604-9438-1e4f034aaa6f",
   "metadata": {},
   "source": [
    "# FastPitch SpeakerAdaptation\n",
    "\n",
    "This notebook is designed to provide a guide on how to run FastPitch Speaker Adaptation Pipeline. It contains the following sections:\n",
    "1. **Pre-train Multi-Speaker FastPitch**: pre-train a multi-speaker FastPitch\n",
    "2. **Fine-tune HiFiGAN**: fine-tune a vocoder for the pre-trained multi-speaker FastPitch\n",
    "3. **Fine-tune FastPitch**: fine-tune pre-trained multi-speaker FastPitch for a new speaker\n",
    "4. **Inference**: generate speech from adpated FastPitch\n",
    "5. **Evaluation**: evaluate objective metrics including Pitch/Duration MSE, SECS, and CFSD"
   ]
  },
  {
   "cell_type": "markdown",
   "id": "59991c00-0112-4428-895c-1517d683a3d1",
   "metadata": {},
   "source": [
    "# License\n",
    "\n",
    "> Copyright 2022 NVIDIA. All Rights Reserved.\n",
    "> \n",
    "> Licensed under the Apache License, Version 2.0 (the \"License\");\n",
    "> you may not use this file except in compliance with the License.\n",
    "> You may obtain a copy of the License at\n",
    "> \n",
    ">     http://www.apache.org/licenses/LICENSE-2.0\n",
    "> \n",
    "> Unless required by applicable law or agreed to in writing, software\n",
    "> distributed under the License is distributed on an \"AS IS\" BASIS,\n",
    "> WITHOUT WARRANTIES OR CONDITIONS OF ANY KIND, either express or implied.\n",
    "> See the License for the specific language governing permissions and\n",
    "> limitations under the License."
   ]
  },
  {
   "cell_type": "code",
   "execution_count": 2,
   "id": "c29969a9-c9f0-4e44-a430-c7c0019949d8",
   "metadata": {},
   "outputs": [],
   "source": [
    "\"\"\"\n",
    "You can either run this notebook locally (if you have all the dependencies and a GPU) or on Google Colab.\n",
    "Instructions for setting up Colab are as follows:\n",
    "1. Open a new Python 3 notebook.\n",
    "2. Import this notebook from GitHub (File -> Upload Notebook -> \"GITHUB\" tab -> copy/paste GitHub URL)\n",
    "3. Connect to an instance with a GPU (Runtime -> Change runtime type -> select \"GPU\" for hardware accelerator)\n",
    "4. Run this cell to set up dependencies# .\n",
    "\"\"\"\n",
    "BRANCH = 'main'\n",
    "# # If you're using Colab and not running locally, uncomment and run this cell.\n",
    "# !apt-get install sox libsndfile1 ffmpeg\n",
    "# !pip install wget unidecode pynini==2.1.4 scipy==1.7.3\n",
    "# !python -m pip install git+https://github.com/NVIDIA/NeMo.git@$BRANCH#egg=nemo_toolkit[all]"
   ]
  },
  {
   "cell_type": "code",
   "execution_count": 235,
   "id": "d288b5ba-a403-439c-b7d1-bf50c8912388",
   "metadata": {},
   "outputs": [],
   "source": [
    "codedir = 'NeMoTTS'\n",
    "datadir = 'NeMoTTS_dataset'\n",
    "normdir = 'NeMoTTS_normalize_files'\n",
    "suppdir = \"NeMoTTS_sup_data\"\n",
    "confdir = \"NeMoTTS_conf\"\n",
    "logsdir = \"NeMoTTS_logs\"\n",
    "melsdir = \"NeMoTTS_mels\"\n",
    "gensdir = \"NeMoTTS_gens\"\n",
    "evaldir = \"NeMoTTS_eval\""
   ]
  },
  {
   "cell_type": "code",
   "execution_count": null,
   "id": "da320580-6d76-46e9-98fc-ac38e15df98b",
   "metadata": {},
   "outputs": [],
   "source": [
    "!wandb login #paste_wandb_apikey_here"
   ]
  },
  {
   "cell_type": "code",
   "execution_count": 49,
   "id": "9bf9a7fb-a871-49a3-9aad-56a48d7339f3",
   "metadata": {},
   "outputs": [],
   "source": [
    "import os\n",
    "import json\n",
    "import nemo\n",
    "import torch\n",
    "import numpy as np\n",
    "\n",
    "from pathlib import Path\n",
    "from tqdm.notebook import tqdm"
   ]
  },
  {
   "cell_type": "markdown",
   "id": "652178e3-d54f-436b-a0d9-97e5bf893b0d",
   "metadata": {},
   "source": [
    "# 1. Pre-train Multi-Speaker FastPitch"
   ]
  },
  {
   "cell_type": "markdown",
   "id": "f831375c-f820-4c87-90b6-7043f3419226",
   "metadata": {},
   "source": [
    "## a. Dataset Preparation"
   ]
  },
  {
   "cell_type": "code",
   "execution_count": 31,
   "id": "b2e934d2-d8c2-45e2-8668-4dbdbc708b8a",
   "metadata": {},
   "outputs": [
    {
     "name": "stdout",
     "output_type": "stream",
     "text": [
      "--2022-09-03 15:48:02--  https://raw.githubusercontent.com/nvidia/NeMo/main/scripts/dataset_processing/tts/libritts/get_data.py\n",
      "Resolving raw.githubusercontent.com (raw.githubusercontent.com)... 185.199.111.133, 185.199.108.133, 185.199.110.133, ...\n",
      "Connecting to raw.githubusercontent.com (raw.githubusercontent.com)|185.199.111.133|:443... connected.\n",
      "HTTP request sent, awaiting response... 200 OK\n",
      "Length: 4945 (4.8K) [text/plain]\n",
      "Saving to: ‘get_data.py’\n",
      "\n",
      "get_data.py         100%[===================>]   4.83K  --.-KB/s    in 0s      \n",
      "\n",
      "2022-09-03 15:48:02 (52.6 MB/s) - ‘get_data.py’ saved [4945/4945]\n",
      "\n"
     ]
    }
   ],
   "source": [
    "!mkdir {codedir} && cd {codedir} && wget https://raw.githubusercontent.com/nvidia/NeMo/$BRANCH/scripts/dataset_processing/tts/libritts/get_data.py"
   ]
  },
  {
   "cell_type": "code",
   "execution_count": 45,
   "id": "c855294e-656e-4eba-84d8-da60904e679d",
   "metadata": {},
   "outputs": [
    {
     "name": "stdout",
     "output_type": "stream",
     "text": [
      "100%|██████████████████████████████████████| 5736/5736 [00:08<00:00, 646.02it/s]\n",
      "WARNING:root:Dataset Total Speaker Size 40 smaller than target size 100\n"
     ]
    }
   ],
   "source": [
    "!(mkdir {datadir} && \\\n",
    "  cd {codedir} && \\\n",
    "  python get_data.py \\\n",
    "        --data-root ../{datadir}/ \\\n",
    "        --data-sets 'dev_clean' \\\n",
    "        --val-size 512 \\\n",
    "        --spk-size 100)"
   ]
  },
  {
   "cell_type": "code",
   "execution_count": 151,
   "id": "a7cd2c18-72ad-4d90-84a5-fc8fc27e1285",
   "metadata": {},
   "outputs": [
    {
     "name": "stdout",
     "output_type": "stream",
     "text": [
      "pitch_stats.json  train_manifest_hifigan.json  val_manifest_hifigan.json\n",
      "speaker.json\t  train_manifest.json\t       val_manifest.json\n"
     ]
    }
   ],
   "source": [
    "!ls {datadir}/LibriTTS/dev-clean-manifest"
   ]
  },
  {
   "cell_type": "markdown",
   "id": "ec0308cb-57bb-4c58-b5c6-b7d1e44f298e",
   "metadata": {},
   "source": [
    "## b. Preprocessing"
   ]
  },
  {
   "cell_type": "code",
   "execution_count": 21,
   "id": "52be20c2-83dd-4ada-8ff8-d7990bdabe95",
   "metadata": {},
   "outputs": [
    {
     "name": "stderr",
     "output_type": "stream",
     "text": [
      "[NeMo W 2022-09-03 15:37:25 optimizers:55] Apex was not found. Using the lamb or fused_adam optimizer will error out.\n",
      "[NeMo W 2022-09-03 15:37:26 experimental:27] Module <class 'nemo.collections.tts.torch.tts_tokenizers.IPATokenizer'> is experimental, not ready for production and is not fully supported. Use at your own risk.\n",
      "[NeMo W 2022-09-03 15:37:26 experimental:27] Module <class 'nemo.collections.tts.torch.g2ps.IPAG2P'> is experimental, not ready for production and is not fully supported. Use at your own risk.\n"
     ]
    }
   ],
   "source": [
    "from nemo.collections.tts.torch.g2ps import EnglishG2p\n",
    "from nemo.collections.tts.torch.data import TTSDataset\n",
    "from nemo_text_processing.text_normalization.normalize import Normalizer\n",
    "from nemo.collections.tts.torch.tts_tokenizers import EnglishPhonemesTokenizer, EnglishCharsTokenizer"
   ]
  },
  {
   "cell_type": "code",
   "execution_count": 39,
   "id": "4fc65142-fbd8-47de-bc23-e9a1bfc02373",
   "metadata": {},
   "outputs": [
    {
     "name": "stdout",
     "output_type": "stream",
     "text": [
      "--2022-09-03 15:52:30--  https://raw.githubusercontent.com/nvidia/NeMo/main/scripts/tts_dataset_files/cmudict-0.7b_nv22.08\n",
      "Resolving raw.githubusercontent.com (raw.githubusercontent.com)... 185.199.111.133, 185.199.108.133, 185.199.110.133, ...\n",
      "Connecting to raw.githubusercontent.com (raw.githubusercontent.com)|185.199.111.133|:443... connected.\n",
      "HTTP request sent, awaiting response... 200 OK\n",
      "Length: 3741500 (3.6M) [text/plain]\n",
      "Saving to: ‘cmudict-0.7b_nv22.08’\n",
      "\n",
      "cmudict-0.7b_nv22.0 100%[===================>]   3.57M  --.-KB/s    in 0.05s   \n",
      "\n",
      "2022-09-03 15:52:30 (78.8 MB/s) - ‘cmudict-0.7b_nv22.08’ saved [3741500/3741500]\n",
      "\n",
      "--2022-09-03 15:52:30--  https://raw.githubusercontent.com/nvidia/NeMo/main/scripts/tts_dataset_files/heteronyms-052722\n",
      "Resolving raw.githubusercontent.com (raw.githubusercontent.com)... 185.199.111.133, 185.199.108.133, 185.199.110.133, ...\n",
      "Connecting to raw.githubusercontent.com (raw.githubusercontent.com)|185.199.111.133|:443... connected.\n",
      "HTTP request sent, awaiting response... 200 OK\n",
      "Length: 1606 (1.6K) [text/plain]\n",
      "Saving to: ‘heteronyms-052722’\n",
      "\n",
      "heteronyms-052722   100%[===================>]   1.57K  --.-KB/s    in 0s      \n",
      "\n",
      "2022-09-03 15:52:31 (28.1 MB/s) - ‘heteronyms-052722’ saved [1606/1606]\n",
      "\n",
      "--2022-09-03 15:52:31--  https://raw.githubusercontent.com/nvidia/NeMo/main/nemo_text_processing/text_normalization/en/data/whitelist/lj_speech.tsv\n",
      "Resolving raw.githubusercontent.com (raw.githubusercontent.com)... 185.199.111.133, 185.199.108.133, 185.199.110.133, ...\n",
      "Connecting to raw.githubusercontent.com (raw.githubusercontent.com)|185.199.111.133|:443... connected.\n",
      "HTTP request sent, awaiting response... 200 OK\n",
      "Length: 263 [text/plain]\n",
      "Saving to: ‘lj_speech.tsv’\n",
      "\n",
      "lj_speech.tsv       100%[===================>]     263  --.-KB/s    in 0s      \n",
      "\n",
      "2022-09-03 15:52:31 (13.0 MB/s) - ‘lj_speech.tsv’ saved [263/263]\n",
      "\n"
     ]
    }
   ],
   "source": [
    "# additional files\n",
    "!mkdir -p {normdir} && cd {normdir} \\\n",
    "&& wget https://raw.githubusercontent.com/nvidia/NeMo/$BRANCH/scripts/tts_dataset_files/cmudict-0.7b_nv22.08 \\\n",
    "&& wget https://raw.githubusercontent.com/nvidia/NeMo/$BRANCH/scripts/tts_dataset_files/heteronyms-052722 \\\n",
    "&& wget https://raw.githubusercontent.com/nvidia/NeMo/$BRANCH/nemo_text_processing/text_normalization/en/data/whitelist/lj_speech.tsv"
   ]
  },
  {
   "cell_type": "code",
   "execution_count": 41,
   "id": "5f79de66-ae87-412c-8ab9-7d5d7fdf77c1",
   "metadata": {},
   "outputs": [
    {
     "name": "stdout",
     "output_type": "stream",
     "text": [
      "[NeMo I 2022-09-03 15:53:30 tokenize_and_classify:87] Creating ClassifyFst grammars.\n"
     ]
    },
    {
     "name": "stderr",
     "output_type": "stream",
     "text": [
      "[NeMo W 2022-09-03 15:53:55 g2ps:86] apply_to_oov_word=None, This means that some of words will remain unchanged if they are not handled by any of the rules in self.parse_one_word(). This may be intended if phonemes and chars are both valid inputs, otherwise, you may see unexpected deletions in your input.\n"
     ]
    }
   ],
   "source": [
    "# Text normalizer\n",
    "text_normalizer = Normalizer(\n",
    "    lang=\"en\", \n",
    "    input_case=\"cased\", \n",
    "    whitelist=f\"{normdir}/lj_speech.tsv\"\n",
    ")\n",
    "\n",
    "text_normalizer_call_kwargs = {\n",
    "    \"punct_pre_process\": True,\n",
    "    \"punct_post_process\": True\n",
    "}\n",
    "\n",
    "# Text tokenizer\n",
    "# Grapheme-to-phoneme module\n",
    "g2p = EnglishG2p(\n",
    "    phoneme_dict=f\"{normdir}/cmudict-0.7b_nv22.08\",\n",
    "    heteronyms=f\"{normdir}/heteronyms-052722\"\n",
    ")\n",
    "\n",
    "# Text tokenizer\n",
    "text_tokenizer = EnglishPhonemesTokenizer(\n",
    "    punct=True,\n",
    "    stresses=True,\n",
    "    chars=True,\n",
    "    apostrophe=True,\n",
    "    pad_with_space=True,\n",
    "    g2p=g2p,\n",
    ")"
   ]
  },
  {
   "cell_type": "code",
   "execution_count": 51,
   "id": "07f4e76b-f3b4-457d-a6d8-d0a4dc3fde05",
   "metadata": {},
   "outputs": [],
   "source": [
    "def pre_calculate_supplementary_data(manifest_dir, sup_data_path, sup_data_types, text_tokenizer, text_normalizer, text_normalizer_call_kwargs, \n",
    "                                     batch_size=32, sample_rate=22050):\n",
    "    # init train and val dataloaders\n",
    "    stages = [\"train\", \"val\"]\n",
    "    stage2dl = {}\n",
    "    for stage in stages:\n",
    "        ds = TTSDataset(\n",
    "            manifest_filepath=os.path.join(manifest_dir, f\"{stage}_manifest.json\"),\n",
    "            sample_rate=sample_rate,\n",
    "            sup_data_path=sup_data_path,\n",
    "            sup_data_types=sup_data_types,\n",
    "            n_fft=1024,\n",
    "            win_length=1024,\n",
    "            hop_length=256,\n",
    "            window=\"hann\",\n",
    "            n_mels=80,\n",
    "            lowfreq=0,\n",
    "            highfreq=8000,\n",
    "            text_tokenizer=text_tokenizer,\n",
    "            text_normalizer=text_normalizer,\n",
    "            text_normalizer_call_kwargs=text_normalizer_call_kwargs\n",
    "\n",
    "        ) \n",
    "        stage2dl[stage] = torch.utils.data.DataLoader(ds, batch_size=batch_size, collate_fn=ds._collate_fn, num_workers=12, pin_memory=True)\n",
    "    \n",
    "    # iteration over dataloaders\n",
    "    pitch_mean, pitch_std, pitch_min, pitch_max = None, None, None, None\n",
    "    for stage, dl in stage2dl.items():\n",
    "        pitch_list = []\n",
    "        for batch in tqdm(dl, total=len(dl)):\n",
    "            tokens, tokens_lengths, audios, audio_lengths, attn_prior, pitches, pitches_lengths = batch\n",
    "            pitch_list.append(pitches[pitches != 0])\n",
    "            \n",
    "        if stage == \"train\":\n",
    "            pitch_tensor = torch.cat(pitch_list)\n",
    "            pitch_mean, pitch_std = pitch_tensor.mean().item(), pitch_tensor.std().item()\n",
    "            pitch_min, pitch_max = pitch_tensor.min().item(), pitch_tensor.max().item()\n",
    "            \n",
    "    return pitch_mean, pitch_std, pitch_min, pitch_max"
   ]
  },
  {
   "cell_type": "code",
   "execution_count": 54,
   "id": "e340569b-3c4e-4386-9176-87f034274a37",
   "metadata": {},
   "outputs": [
    {
     "name": "stdout",
     "output_type": "stream",
     "text": [
      "[NeMo I 2022-09-03 16:08:03 data:186] Loading dataset from NeMoTTS_dataset/LibriTTS/dev-clean-manifest/train_manifest.json.\n"
     ]
    },
    {
     "name": "stderr",
     "output_type": "stream",
     "text": [
      "5224it [02:08, 40.67it/s]"
     ]
    },
    {
     "name": "stdout",
     "output_type": "stream",
     "text": [
      "[NeMo I 2022-09-03 16:10:12 data:221] Loaded dataset with 5224 files.\n",
      "[NeMo I 2022-09-03 16:10:12 data:223] Dataset contains 8.17 hours.\n",
      "[NeMo I 2022-09-03 16:10:12 data:321] Pruned 0 files. Final dataset contains 5224 files\n",
      "[NeMo I 2022-09-03 16:10:12 data:323] Pruned 0.00 hours. Final dataset contains 8.17 hours.\n"
     ]
    },
    {
     "name": "stderr",
     "output_type": "stream",
     "text": [
      "\n"
     ]
    },
    {
     "name": "stdout",
     "output_type": "stream",
     "text": [
      "[NeMo I 2022-09-03 16:10:12 data:186] Loading dataset from NeMoTTS_dataset/LibriTTS/dev-clean-manifest/val_manifest.json.\n"
     ]
    },
    {
     "name": "stderr",
     "output_type": "stream",
     "text": [
      "512it [00:12, 39.59it/s]"
     ]
    },
    {
     "name": "stdout",
     "output_type": "stream",
     "text": [
      "[NeMo I 2022-09-03 16:10:25 data:221] Loaded dataset with 512 files.\n",
      "[NeMo I 2022-09-03 16:10:25 data:223] Dataset contains 0.80 hours.\n",
      "[NeMo I 2022-09-03 16:10:25 data:321] Pruned 0 files. Final dataset contains 512 files\n",
      "[NeMo I 2022-09-03 16:10:25 data:323] Pruned 0.00 hours. Final dataset contains 0.80 hours.\n"
     ]
    },
    {
     "name": "stderr",
     "output_type": "stream",
     "text": [
      "\n"
     ]
    },
    {
     "data": {
      "application/vnd.jupyter.widget-view+json": {
       "model_id": "10b85419fcdd4a9281a7f8dc56d1e3fa",
       "version_major": 2,
       "version_minor": 0
      },
      "text/plain": [
       "  0%|          | 0/164 [00:00<?, ?it/s]"
      ]
     },
     "metadata": {},
     "output_type": "display_data"
    },
    {
     "data": {
      "application/vnd.jupyter.widget-view+json": {
       "model_id": "76b96fa6bdb2486983b6587511a376d6",
       "version_major": 2,
       "version_minor": 0
      },
      "text/plain": [
       "  0%|          | 0/16 [00:00<?, ?it/s]"
      ]
     },
     "metadata": {},
     "output_type": "display_data"
    }
   ],
   "source": [
    "sup_data_types = [\"align_prior_matrix\", \"pitch\"]\n",
    "manifest_dir = f'{datadir}/LibriTTS/dev-clean-manifest'\n",
    "pitch_mean, pitch_std, pitch_min, pitch_max = pre_calculate_supplementary_data(\n",
    "    manifest_dir, suppdir, sup_data_types, text_tokenizer, text_normalizer, text_normalizer_call_kwargs\n",
    ")"
   ]
  },
  {
   "cell_type": "code",
   "execution_count": 56,
   "id": "14a6ed88-3e93-4247-9dce-94f9389eb90c",
   "metadata": {},
   "outputs": [],
   "source": [
    "with open(os.path.join(manifest_dir, 'pitch_stats.json'), 'w') as f:\n",
    "    json.dump({'pitch':[pitch_mean, pitch_std, pitch_min, pitch_max]}, f)"
   ]
  },
  {
   "cell_type": "markdown",
   "id": "c8d4f717-a3ec-46b7-b638-cc310a8eb40d",
   "metadata": {},
   "source": [
    "## c. Training"
   ]
  },
  {
   "cell_type": "code",
   "execution_count": 59,
   "id": "9991b91a-5ac8-41bb-8046-2cc54d2f411f",
   "metadata": {},
   "outputs": [
    {
     "name": "stdout",
     "output_type": "stream",
     "text": [
      "--2022-09-03 17:15:29--  https://raw.githubusercontent.com/NVIDIA/NeMo/main/examples/tts/conf/fastpitch_align_v1.05.yaml\n",
      "Resolving raw.githubusercontent.com (raw.githubusercontent.com)... 185.199.110.133, 185.199.111.133, 185.199.108.133, ...\n",
      "Connecting to raw.githubusercontent.com (raw.githubusercontent.com)|185.199.110.133|:443... connected.\n",
      "HTTP request sent, awaiting response... 200 OK\n",
      "Length: 6716 (6.6K) [text/plain]\n",
      "Saving to: ‘fastpitch_align_v1.05.yaml’\n",
      "\n",
      "fastpitch_align_v1. 100%[===================>]   6.56K  --.-KB/s    in 0s      \n",
      "\n",
      "2022-09-03 17:15:29 (60.0 MB/s) - ‘fastpitch_align_v1.05.yaml’ saved [6716/6716]\n",
      "\n"
     ]
    }
   ],
   "source": [
    "!mkdir -p {confdir} && cd {confdir} \\\n",
    "&& wget https://raw.githubusercontent.com/NVIDIA/NeMo/$BRANCH/examples/tts/conf/fastpitch_align_v1.05.yaml"
   ]
  },
  {
   "cell_type": "code",
   "execution_count": 60,
   "id": "7192a1e1-f2de-4ac5-a90f-7d95acc99e14",
   "metadata": {},
   "outputs": [
    {
     "name": "stdout",
     "output_type": "stream",
     "text": [
      "--2022-09-03 17:16:09--  https://raw.githubusercontent.com/NVIDIA/NeMo/main/examples/tts/fastpitch.py\n",
      "Resolving raw.githubusercontent.com (raw.githubusercontent.com)... 185.199.110.133, 185.199.111.133, 185.199.108.133, ...\n",
      "Connecting to raw.githubusercontent.com (raw.githubusercontent.com)|185.199.110.133|:443... connected.\n",
      "HTTP request sent, awaiting response... 200 OK\n",
      "Length: 1365 (1.3K) [text/plain]\n",
      "Saving to: ‘fastpitch.py’\n",
      "\n",
      "fastpitch.py        100%[===================>]   1.33K  --.-KB/s    in 0s      \n",
      "\n",
      "2022-09-03 17:16:09 (62.1 MB/s) - ‘fastpitch.py’ saved [1365/1365]\n",
      "\n"
     ]
    }
   ],
   "source": [
    "!cd {codedir} \\\n",
    "&& wget https://raw.githubusercontent.com/NVIDIA/NeMo/$BRANCH/examples/tts/fastpitch.py"
   ]
  },
  {
   "cell_type": "code",
   "execution_count": 302,
   "id": "999ed1cc-6053-4054-9f2b-d3c9c339d2cf",
   "metadata": {},
   "outputs": [
    {
     "name": "stdout",
     "output_type": "stream",
     "text": [
      "[NeMo W 2022-09-05 18:25:47 optimizers:55] Apex was not found. Using the lamb or fused_adam optimizer will error out.\n",
      "[NeMo W 2022-09-05 18:25:49 experimental:27] Module <class 'nemo.collections.tts.torch.tts_tokenizers.IPATokenizer'> is experimental, not ready for production and is not fully supported. Use at your own risk.\n",
      "GPU available: True, used: True\n",
      "TPU available: False, using: 0 TPU cores\n",
      "IPU available: False, using: 0 IPUs\n",
      "HPU available: False, using: 0 HPUs\n",
      "[NeMo I 2022-09-05 18:25:49 exp_manager:287] Experiments will be logged at NeMoTTS_logs/FastPitch/2022-09-05_18-25-49\n",
      "[NeMo I 2022-09-05 18:25:49 exp_manager:661] TensorboardLogger has been set up\n",
      "\u001b[34m\u001b[1mwandb\u001b[0m: Currently logged in as: \u001b[33mchengping\u001b[0m. Use \u001b[1m`wandb login --relogin`\u001b[0m to force relogin\n",
      "\u001b[34m\u001b[1mwandb\u001b[0m: wandb version 0.13.2 is available!  To upgrade, please run:\n",
      "\u001b[34m\u001b[1mwandb\u001b[0m:  $ pip install wandb --upgrade\n",
      "\u001b[34m\u001b[1mwandb\u001b[0m: Tracking run with wandb version 0.12.19\n",
      "\u001b[34m\u001b[1mwandb\u001b[0m: Run data is saved locally in \u001b[35m\u001b[1mNeMoTTS_logs/wandb/run-20220905_182550-2022-09-05_18-25-49\u001b[0m\n",
      "\u001b[34m\u001b[1mwandb\u001b[0m: Run \u001b[1m`wandb offline`\u001b[0m to turn off syncing.\n",
      "\u001b[34m\u001b[1mwandb\u001b[0m: Syncing run \u001b[33mtutorial\u001b[0m\n",
      "\u001b[34m\u001b[1mwandb\u001b[0m: ⭐️ View project at \u001b[34m\u001b[4mhttps://wandb.ai/chengping/NeMo\u001b[0m\n",
      "\u001b[34m\u001b[1mwandb\u001b[0m: 🚀 View run at \u001b[34m\u001b[4mhttps://wandb.ai/chengping/NeMo/runs/2022-09-05_18-25-49\u001b[0m\n",
      "[NeMo I 2022-09-05 18:25:53 exp_manager:676] WandBLogger has been set up\n",
      "[NeMo W 2022-09-05 18:25:53 nemo_logging:349] /home/chsieh/miniconda3/envs/nemo/lib/python3.8/site-packages/pytorch_lightning/loggers/base.py:235: LightningDeprecationWarning: `LoggerCollection` is deprecated in v1.6 and will be removed in v1.8. Directly pass a list of loggers to the Trainer and access the list via the `trainer.loggers` attribute.\n",
      "      rank_zero_deprecation(\n",
      "    \n",
      "[NeMo W 2022-09-05 18:25:53 nemo_logging:349] /home/chsieh/miniconda3/envs/nemo/lib/python3.8/site-packages/pytorch_lightning/trainer/trainer.py:2319: LightningDeprecationWarning: `Trainer.weights_save_path` has been deprecated in v1.6 and will be removed in v1.8.\n",
      "      rank_zero_deprecation(\"`Trainer.weights_save_path` has been deprecated in v1.6 and will be removed in v1.8.\")\n",
      "    \n",
      "[NeMo I 2022-09-05 18:25:55 tokenize_and_classify:87] Creating ClassifyFst grammars.\n",
      "[NeMo W 2022-09-05 18:26:18 experimental:27] Module <class 'nemo.collections.tts.torch.g2ps.IPAG2P'> is experimental, not ready for production and is not fully supported. Use at your own risk.\n",
      "[NeMo W 2022-09-05 18:26:19 g2ps:86] apply_to_oov_word=None, This means that some of words will remain unchanged if they are not handled by any of the rules in self.parse_one_word(). This may be intended if phonemes and chars are both valid inputs, otherwise, you may see unexpected deletions in your input.\n",
      "Created a temporary directory at /tmp/tmpxz0ruw7k\n",
      "Writing /tmp/tmpxz0ruw7k/_remote_module_non_sriptable.py\n",
      "[NeMo I 2022-09-05 18:26:19 data:196] Loading dataset from NeMoTTS_dataset/LibriTTS/test-clean-manifest/237/train_manifest.json.\n",
      "104it [00:03, 27.08it/s]\n",
      "[NeMo I 2022-09-05 18:26:22 data:231] Loaded dataset with 104 files.\n",
      "[NeMo I 2022-09-05 18:26:22 data:233] Dataset contains 0.25 hours.\n",
      "[NeMo I 2022-09-05 18:26:22 data:340] Pruned 1 files. Final dataset contains 103 files\n",
      "[NeMo I 2022-09-05 18:26:22 data:342] Pruned 0.01 hours. Final dataset contains 0.24 hours.\n",
      "[NeMo I 2022-09-05 18:26:23 data:196] Loading dataset from NeMoTTS_dataset/LibriTTS/test-clean-manifest/237/val_manifest.json.\n",
      "20it [00:00, 54.30it/s]\n",
      "[NeMo I 2022-09-05 18:26:23 data:231] Loaded dataset with 20 files.\n",
      "[NeMo I 2022-09-05 18:26:23 data:233] Dataset contains 0.02 hours.\n",
      "[NeMo I 2022-09-05 18:26:23 data:340] Pruned 0 files. Final dataset contains 20 files\n",
      "[NeMo I 2022-09-05 18:26:23 data:342] Pruned 0.00 hours. Final dataset contains 0.02 hours.\n",
      "[NeMo I 2022-09-05 18:26:23 features:216] PADDING: 1\n",
      "Initializing distributed: GLOBAL_RANK: 0, MEMBER: 1/1\n",
      "Added key: store_based_barrier_key:1 to store for rank: 0\n",
      "Rank 0: Completed store-based barrier for key:store_based_barrier_key:1 with 1 nodes.\n",
      "----------------------------------------------------------------------------------------------------\n",
      "distributed_backend=nccl\n",
      "All distributed processes registered. Starting with 1 processes\n",
      "----------------------------------------------------------------------------------------------------\n",
      "\n",
      "LOCAL_RANK: 0 - CUDA_VISIBLE_DEVICES: [0,1]\n",
      "[NeMo I 2022-09-05 18:26:27 modelPT:585] Optimizer config = AdamW (\n",
      "    Parameter Group 0\n",
      "        amsgrad: False\n",
      "        betas: [0.9, 0.999]\n",
      "        eps: 1e-08\n",
      "        lr: 0.001\n",
      "        maximize: False\n",
      "        weight_decay: 1e-06\n",
      "    )\n",
      "[NeMo I 2022-09-05 18:26:27 lr_scheduler:836] Scheduler \"<nemo.core.optim.lr_scheduler.NoamAnnealing object at 0x7f6ac2259b80>\" \n",
      "    will be used during training (effective maximum steps = 6500) - \n",
      "    Parameters : \n",
      "    (warmup_steps: 1000\n",
      "    last_epoch: -1\n",
      "    d_model: 1\n",
      "    max_steps: 6500\n",
      "    )\n",
      "\n",
      "  | Name             | Type                              | Params\n",
      "-----------------------------------------------------------------------\n",
      "0 | mel_loss         | MelLoss                           | 0     \n",
      "1 | pitch_loss       | PitchLoss                         | 0     \n",
      "2 | duration_loss    | DurationLoss                      | 0     \n",
      "3 | aligner          | AlignmentEncoder                  | 1.9 M \n",
      "4 | forward_sum_loss | ForwardSumLoss                    | 0     \n",
      "5 | bin_loss         | BinLoss                           | 0     \n",
      "6 | preprocessor     | AudioToMelSpectrogramPreprocessor | 0     \n",
      "7 | fastpitch        | FastPitchModule                   | 57.0 M\n",
      "-----------------------------------------------------------------------\n",
      "57.0 M    Trainable params\n",
      "0         Non-trainable params\n",
      "57.0 M    Total params\n",
      "227.908   Total estimated model params size (MB)\n",
      "Epoch 0:   0%|                                           | 0/16 [00:00<?, ?it/s][W reducer.cpp:1289] Warning: find_unused_parameters=True was specified in DDP constructor, but did not find any unused parameters in the forward pass. This flag results in an extra traversal of the autograd graph every iteration,  which can adversely affect performance. If your model indeed never has any unused parameters in the forward pass, consider turning this flag off. Note that this warning may be a false positive if your model has flow control causing later iterations to have unused parameters. (function operator())\n",
      "Epoch 0:  81%|████████▉  | 13/16 [00:08<00:01,  1.62it/s, loss=37.3, v_num=5-49]\n",
      "Validation: 0it [00:00, ?it/s]\u001b[A\n",
      "Validation:   0%|                                         | 0/3 [00:00<?, ?it/s]\u001b[A\n",
      "Validation DataLoader 0:   0%|                            | 0/3 [00:00<?, ?it/s]\u001b[A\n",
      "Epoch 0:  88%|█████████▋ | 14/16 [00:10<00:01,  1.30it/s, loss=37.3, v_num=5-49]\u001b[A\n",
      "Validation DataLoader 0:  67%|█████████████▎      | 2/3 [00:00<00:00, 18.03it/s]\u001b[A\n",
      "Epoch 0:  94%|██████████▎| 15/16 [00:10<00:00,  1.39it/s, loss=37.3, v_num=5-49]\u001b[A\n",
      "Epoch 0: 100%|███████████| 16/16 [00:11<00:00,  1.43it/s, loss=37.3, v_num=5-49]\u001b[A\n",
      "Epoch 0: 100%|███████████| 16/16 [00:11<00:00,  1.36it/s, loss=37.3, v_num=5-49]Epoch 0, global step 13: 'v_loss' reached 28.02225 (best 28.02225), saving model to '/home/chsieh/NeMo_new/NeMo/tutorials/tts/NeMoTTS_logs/FastPitch/2022-09-05_18-25-49/checkpoints/FastPitch--v_loss=28.0222-epoch=0.ckpt' as top 3\n",
      "Epoch 1:  81%|████████▉  | 13/16 [00:08<00:01,  1.59it/s, loss=36.6, v_num=5-49]\n",
      "Validation: 0it [00:00, ?it/s]\u001b[A\n",
      "Validation:   0%|                                         | 0/3 [00:00<?, ?it/s]\u001b[A\n",
      "Validation DataLoader 0:   0%|                            | 0/3 [00:00<?, ?it/s]\u001b[A\n",
      "Epoch 1:  88%|█████████▋ | 14/16 [00:10<00:01,  1.30it/s, loss=36.6, v_num=5-49]\u001b[A\n",
      "Validation DataLoader 0:  67%|█████████████▎      | 2/3 [00:00<00:00, 16.58it/s]\u001b[A\n",
      "Epoch 1:  94%|██████████▎| 15/16 [00:10<00:00,  1.39it/s, loss=36.6, v_num=5-49]\u001b[A\n",
      "Epoch 1: 100%|███████████| 16/16 [00:11<00:00,  1.44it/s, loss=36.6, v_num=5-49]\u001b[A\n",
      "Epoch 1: 100%|███████████| 16/16 [00:11<00:00,  1.36it/s, loss=36.6, v_num=5-49]Epoch 1, global step 26: 'v_loss' reached 26.12080 (best 26.12080), saving model to '/home/chsieh/NeMo_new/NeMo/tutorials/tts/NeMoTTS_logs/FastPitch/2022-09-05_18-25-49/checkpoints/FastPitch--v_loss=26.1208-epoch=1.ckpt' as top 3\n",
      "^C\n",
      "[NeMo W 2022-09-05 18:27:00 nemo_logging:349] /home/chsieh/miniconda3/envs/nemo/lib/python3.8/site-packages/pytorch_lightning/trainer/trainer.py:726: UserWarning: Detected KeyboardInterrupt, attempting graceful shutdown...\n",
      "      rank_zero_warn(\"Detected KeyboardInterrupt, attempting graceful shutdown...\")\n",
      "    \n",
      "\u001b[34m\u001b[1mwandb\u001b[0m: Waiting for W&B process to finish... \u001b[32m(success).\u001b[0m\n",
      "\u001b[34m\u001b[1mwandb\u001b[0m: - 0.719 MB of 0.719 MB uploaded (0.000 MB deduped)\r"
     ]
    }
   ],
   "source": [
    "!(python {codedir}/fastpitch.py --config-path={os.path.abspath(confdir)} --config-name=fastpitch_align_v1.05.yaml \\\n",
    "  sample_rate=22050 \\\n",
    "  train_dataset={manifest_dir}/train_manifest.json \\\n",
    "  validation_datasets={manifest_dir}/val_manifest.json \\\n",
    "  sup_data_types=\"['align_prior_matrix', 'pitch', 'speaker_id']\" \\\n",
    "  sup_data_path={suppdir} \\\n",
    "  +init_from_pretrained_model=tts_en_fastpitch \\\n",
    "  pitch_mean={pitch_mean} \\\n",
    "  pitch_std={pitch_std} \\\n",
    "  pitch_fmin={pitch_min} \\\n",
    "  pitch_fmax={pitch_max} \\\n",
    "  model.n_speakers=100 \\\n",
    "  model.use_lookup_speaker=True \\\n",
    "  model.use_gst_speaker=True \\\n",
    "  model.input_fft.use_cat_speaker=True \\\n",
    "  model.output_fft.use_cat_speaker=True \\\n",
    "  model.duration_predictor.use_cat_speaker=True \\\n",
    "  model.pitch_predictor.use_cat_speaker=True \\\n",
    "  model.alignment_module.use_cat_speaker=True \\\n",
    "  model.input_fft.use_cln_speaker=True \\\n",
    "  model.output_fft.use_cln_speaker=True \\\n",
    "  model.duration_predictor.use_cln_speaker=True \\\n",
    "  model.pitch_predictor.use_cln_speaker=True \\\n",
    "  phoneme_dict_path={normdir}/cmudict-0.7b_nv22.08 \\\n",
    "  heteronyms_path={normdir}/heteronyms-052722 \\\n",
    "  whitelist_path={normdir}/lj_speech.tsv \\\n",
    "  model.train_ds.dataloader_params.batch_size=8 \\\n",
    "  model.validation_ds.dataloader_params.batch_size=8 \\\n",
    "  model.train_ds.dataloader_params.num_workers=8 \\\n",
    "  model.validation_ds.dataloader_params.num_workers=8 \\\n",
    "  model.train_ds.dataset.max_duration=20 \\\n",
    "  model.validation_ds.dataset.max_duration=20 \\\n",
    "  model.validation_ds.dataset.min_duration=0.1 \\\n",
    "  ~model.train_ds.dataset.use_beta_binomial_interpolator \\\n",
    "  ~model.validation_ds.dataset.use_beta_binomial_interpolator \\\n",
    "  +model.text_tokenizer.add_blank_at=True \\\n",
    "  exp_manager.exp_dir={logsdir} \\\n",
    "  +exp_manager.create_wandb_logger=True \\\n",
    "  +exp_manager.wandb_logger_kwargs.name=\"tutorial\" \\\n",
    "  +exp_manager.wandb_logger_kwargs.project=\"NeMo\" \\\n",
    "  trainer.check_val_every_n_epoch=1 \\\n",
    "  trainer.log_every_n_steps=1 \\\n",
    "  trainer.max_epochs=500 \\\n",
    "  trainer.devices=1 \\\n",
    "  trainer.strategy=ddp \\\n",
    "  trainer.precision=32 \\\n",
    ")"
   ]
  },
  {
   "cell_type": "markdown",
   "id": "fbb173e8-68fd-40bc-8eb3-bd750749cb7f",
   "metadata": {},
   "source": [
    "# 2. Fine-tune HiFiGAN"
   ]
  },
  {
   "cell_type": "markdown",
   "id": "fc854558-b529-4f16-803c-1a79883a4702",
   "metadata": {},
   "source": [
    "## a. Dataset Preparation"
   ]
  },
  {
   "cell_type": "code",
   "execution_count": 309,
   "id": "01466729-cfdf-41e0-8d31-2066a49da771",
   "metadata": {},
   "outputs": [],
   "source": [
    "from nemo.collections.asr.parts.preprocessing.features import WaveformFeaturizer\n",
    "from nemo.collections.tts.models import FastPitchModel\n",
    "from nemo.collections.tts.torch.helpers import get_base_dir\n",
    "from matplotlib import pyplot as plt\n",
    "import random"
   ]
  },
  {
   "cell_type": "code",
   "execution_count": 304,
   "id": "6e68725d-ae94-4ce7-97fa-705ec6f013ba",
   "metadata": {},
   "outputs": [],
   "source": [
    "def json_reader(filename):\n",
    "    with open(filename) as f:\n",
    "        for line in f:\n",
    "            yield json.loads(line)\n",
    "            \n",
    "def plot_spectrogram(spectrogram):\n",
    "    plt.imshow(spectrogram, origin=\"lower\", aspect=\"auto\")\n",
    "    plt.show()\n",
    "    \n",
    "def gen_spectrogram(record):\n",
    "    audio_file = record[\"audio_filepath\"]\n",
    "    save_path = save_dir / audio_file.split(\"/\")[-1].replace(\".wav\", \".npy\")\n",
    "    if os.path.exists(save_path):\n",
    "        return save_path\n",
    "    \n",
    "    if \"normalized_text\" in record:\n",
    "        text = spec_model.parse(record[\"normalized_text\"], normalize=False)\n",
    "    else:\n",
    "        text = spec_model.parse(record['text'])\n",
    "        \n",
    "    text_id = str(Path(record['audio_filepath']).relative_to(base_data_dir).with_suffix(\"\")).replace(\"/\", \"_\")\n",
    "    speaker = torch.tensor([record['speaker']]).to(spec_model.device)\n",
    "    \n",
    "    audio = wave_model.process(audio_file, trim=False)\n",
    "    audio_len = torch.tensor(audio.shape[0]).long()\n",
    "    audio = audio.unsqueeze(0).to(device=spec_model.device)\n",
    "    audio_len = audio_len.unsqueeze(0).to(device=spec_model.device)\n",
    "    \n",
    "    \n",
    "    ref_pool = speaker_to_index[record[\"speaker\"]] - set([i]) if len(speaker_to_index[record[\"speaker\"]]) > 1 else speaker_to_index[record[\"speaker\"]]\n",
    "    ref_sample = train_manifest[random.sample(ref_pool, 1)[0]]\n",
    "    ref_audio = wave_model.process(ref_sample[\"audio_filepath\"], trim=False)\n",
    "    ref_audio_len = torch.tensor(ref_audio.shape[0]).long()\n",
    "    ref_audio = ref_audio.unsqueeze(0).to(device=spec_model.device)\n",
    "    ref_audio_len = ref_audio_len.unsqueeze(0).to(device=spec_model.device)\n",
    "    \n",
    "    \n",
    "    text_len = torch.tensor(text.shape[-1], dtype=torch.long, device=spec_model.device).unsqueeze(0)\n",
    "    spect, spect_len = spec_model.preprocessor(input_signal=audio, length=audio_len) \n",
    "    ref_spect, ref_spect_len = spec_model.preprocessor(input_signal=ref_audio, length=ref_audio_len)\n",
    "    attn_prior = torch.load(os.path.join(f\"{suppdir}/align_prior_matrix\", f\"{text_id}.pt\")).unsqueeze(0).to(spec_model.device)     \n",
    "    \n",
    "    with torch.no_grad():\n",
    "        spectrogram = spec_model.forward(\n",
    "          text=text, \n",
    "          input_lens=text_len, \n",
    "          spec=spect, \n",
    "          mel_lens=spect_len, \n",
    "          attn_prior=attn_prior,\n",
    "          speaker=speaker,\n",
    "          ref_spec=ref_spect, \n",
    "          ref_spec_lens=ref_spect_len,\n",
    "        )[0]\n",
    "        \n",
    "    np.save(save_path, spectrogram[0].to('cpu').numpy())\n",
    "    return save_path"
   ]
  },
  {
   "cell_type": "code",
   "execution_count": 305,
   "id": "48747737-cac4-4928-97c3-3463e9295582",
   "metadata": {},
   "outputs": [],
   "source": [
    "manifest_dir = f'{datadir}/LibriTTS/dev-clean-manifest'\n",
    "train_manifest = list(json_reader(os.path.join(manifest_dir, 'train_manifest.json')))\n",
    "val_manifest = list(json_reader(os.path.join(manifest_dir, 'val_manifest.json')))\n",
    "\n",
    "base_data_dir = get_base_dir([item[\"audio_filepath\"] for item in train_manifest])\n",
    "save_dir = Path(melsdir)\n",
    "save_dir.mkdir(exist_ok=True, parents=True)"
   ]
  },
  {
   "cell_type": "code",
   "execution_count": 306,
   "id": "f13ba07d-fc4d-4137-bad5-5e19167d4cea",
   "metadata": {},
   "outputs": [],
   "source": [
    "speaker_to_index = defaultdict(list)\n",
    "for i, d in enumerate(train_manifest): speaker_to_index[d.get('speaker', None)].append(i)\n",
    "speaker_to_index = {k: set(v) for k, v in speaker_to_index.items()}"
   ]
  },
  {
   "cell_type": "code",
   "execution_count": 307,
   "id": "498f383d-9ff6-43bd-aedd-3640cf68329f",
   "metadata": {},
   "outputs": [],
   "source": [
    "last_ckpt = 'NeMoTTS_logs/FastPitch/2022-09-05_18-25-49/checkpoints/FastPitch--v_loss=28.0222-epoch=0.ckpt'"
   ]
  },
  {
   "cell_type": "code",
   "execution_count": null,
   "id": "5d2768f8-7546-4c1b-96cf-4657a73fdf19",
   "metadata": {},
   "outputs": [],
   "source": [
    "spec_model = FastPitchModel.load_from_checkpoint(last_ckpt)\n",
    "spec_model.eval().cuda()\n",
    "wave_model = WaveformFeaturizer(sample_rate=22050)"
   ]
  },
  {
   "cell_type": "code",
   "execution_count": 118,
   "id": "3792641a-ec6b-464d-a3fe-ef9245e29c3b",
   "metadata": {},
   "outputs": [
    {
     "data": {
      "image/png": "[encoded data removed]",
      "text/plain": [
       "<Figure size 432x288 with 1 Axes>"
      ]
     },
     "metadata": {
      "needs_background": "light"
     },
     "output_type": "display_data"
    }
   ],
   "source": [
    "plot_spectrogram(np.load(gen_spectrogram(train_manifest[0])))"
   ]
  },
  {
   "cell_type": "code",
   "execution_count": 122,
   "id": "a86042a2-ff36-47a9-a6bd-bb57eb7477ae",
   "metadata": {},
   "outputs": [
    {
     "data": {
      "application/vnd.jupyter.widget-view+json": {
       "model_id": "a3b31ccf95924c7697c5d594c17b7015",
       "version_major": 2,
       "version_minor": 0
      },
      "text/plain": [
       "  0%|          | 0/5224 [00:00<?, ?it/s]"
      ]
     },
     "metadata": {},
     "output_type": "display_data"
    }
   ],
   "source": [
    "for record in tqdm(train_manifest):\n",
    "    record['mel_filepath'] = str(gen_spectrogram(record))"
   ]
  },
  {
   "cell_type": "code",
   "execution_count": 123,
   "id": "5eedf3e8-3d18-489e-82ba-49eac7c87144",
   "metadata": {},
   "outputs": [
    {
     "data": {
      "application/vnd.jupyter.widget-view+json": {
       "model_id": "dc133aefd32c4beb89225831ff9270a1",
       "version_major": 2,
       "version_minor": 0
      },
      "text/plain": [
       "  0%|          | 0/512 [00:00<?, ?it/s]"
      ]
     },
     "metadata": {},
     "output_type": "display_data"
    }
   ],
   "source": [
    "for record in tqdm(val_manifest):\n",
    "    record['mel_filepath'] = str(gen_spectrogram(record))"
   ]
  },
  {
   "cell_type": "code",
   "execution_count": 128,
   "id": "0a5a62cd-764a-4f07-ba5a-bbf8002d702b",
   "metadata": {},
   "outputs": [],
   "source": [
    "with open(os.path.join(manifest_dir, 'train_manifest_hifigan.json'), \"w\") as f:\n",
    "    for r in train_manifest:\n",
    "        f.write(json.dumps(r) + '\\n')\n",
    "with open(os.path.join(manifest_dir, 'val_manifest_hifigan.json'), \"w\") as f:\n",
    "    for r in val_manifest:\n",
    "        f.write(json.dumps(r) + '\\n')"
   ]
  },
  {
   "cell_type": "markdown",
   "id": "14e13396-3a65-4370-947f-bb9ba426775c",
   "metadata": {},
   "source": [
    "## b. Training"
   ]
  },
  {
   "cell_type": "code",
   "execution_count": 142,
   "id": "ecf79394-f154-4467-9324-255bf730692e",
   "metadata": {},
   "outputs": [
    {
     "name": "stdout",
     "output_type": "stream",
     "text": [
      "--2022-09-03 18:16:54--  https://raw.githubusercontent.com/NVIDIA/NeMo/main/examples/tts/conf/hifigan/hifigan.yaml\n",
      "Resolving raw.githubusercontent.com (raw.githubusercontent.com)... 185.199.108.133, 185.199.111.133, 185.199.110.133, ...\n",
      "Connecting to raw.githubusercontent.com (raw.githubusercontent.com)|185.199.108.133|:443... connected.\n",
      "HTTP request sent, awaiting response... 200 OK\n",
      "Length: 2244 (2.2K) [text/plain]\n",
      "Saving to: ‘hifigan.yaml.1’\n",
      "\n",
      "hifigan.yaml.1      100%[===================>]   2.19K  --.-KB/s    in 0s      \n",
      "\n",
      "2022-09-03 18:16:54 (63.9 MB/s) - ‘hifigan.yaml.1’ saved [2244/2244]\n",
      "\n",
      "--2022-09-03 18:16:54--  https://raw.githubusercontent.com/nvidia/NeMo/main/examples/tts/conf/hifigan/model/train_ds/train_ds_finetune.yaml\n",
      "Resolving raw.githubusercontent.com (raw.githubusercontent.com)... 185.199.108.133, 185.199.111.133, 185.199.110.133, ...\n",
      "Connecting to raw.githubusercontent.com (raw.githubusercontent.com)|185.199.108.133|:443... connected.\n",
      "HTTP request sent, awaiting response... 200 OK\n",
      "Length: 417 [text/plain]\n",
      "Saving to: ‘train_ds_finetune.yaml’\n",
      "\n",
      "train_ds_finetune.y 100%[===================>]     417  --.-KB/s    in 0s      \n",
      "\n",
      "2022-09-03 18:16:54 (28.5 MB/s) - ‘train_ds_finetune.yaml’ saved [417/417]\n",
      "\n",
      "--2022-09-03 18:16:54--  https://raw.githubusercontent.com/nvidia/NeMo/main/examples/tts/conf/hifigan/model/validation_ds/val_ds_finetune.yaml\n",
      "Resolving raw.githubusercontent.com (raw.githubusercontent.com)... 185.199.108.133, 185.199.111.133, 185.199.110.133, ...\n",
      "Connecting to raw.githubusercontent.com (raw.githubusercontent.com)|185.199.108.133|:443... connected.\n",
      "HTTP request sent, awaiting response... 200 OK\n",
      "Length: 418 [text/plain]\n",
      "Saving to: ‘val_ds_finetune.yaml’\n",
      "\n",
      "val_ds_finetune.yam 100%[===================>]     418  --.-KB/s    in 0s      \n",
      "\n",
      "2022-09-03 18:16:54 (29.6 MB/s) - ‘val_ds_finetune.yaml’ saved [418/418]\n",
      "\n",
      "--2022-09-03 18:16:55--  https://raw.githubusercontent.com/nvidia/NeMo/main/examples/tts/conf/hifigan/model/generator/v1.yaml\n",
      "Resolving raw.githubusercontent.com (raw.githubusercontent.com)... 185.199.108.133, 185.199.111.133, 185.199.110.133, ...\n",
      "Connecting to raw.githubusercontent.com (raw.githubusercontent.com)|185.199.108.133|:443... connected.\n",
      "HTTP request sent, awaiting response... 200 OK\n",
      "Length: 253 [text/plain]\n",
      "Saving to: ‘v1.yaml’\n",
      "\n",
      "v1.yaml             100%[===================>]     253  --.-KB/s    in 0s      \n",
      "\n",
      "2022-09-03 18:16:55 (12.0 MB/s) - ‘v1.yaml’ saved [253/253]\n",
      "\n",
      "--2022-09-03 18:16:55--  https://raw.githubusercontent.com/NVIDIA/NeMo/main/examples/tts/hifigan_finetune.py\n",
      "Resolving raw.githubusercontent.com (raw.githubusercontent.com)... 185.199.108.133, 185.199.111.133, 185.199.110.133, ...\n",
      "Connecting to raw.githubusercontent.com (raw.githubusercontent.com)|185.199.108.133|:443... connected.\n",
      "HTTP request sent, awaiting response... 200 OK\n",
      "Length: 1192 (1.2K) [text/plain]\n",
      "Saving to: ‘hifigan_finetune.py.1’\n",
      "\n",
      "hifigan_finetune.py 100%[===================>]   1.16K  --.-KB/s    in 0s      \n",
      "\n",
      "2022-09-03 18:16:56 (72.9 MB/s) - ‘hifigan_finetune.py.1’ saved [1192/1192]\n",
      "\n"
     ]
    }
   ],
   "source": [
    "!cd {confdir} \\\n",
    "&& wget https://raw.githubusercontent.com/NVIDIA/NeMo/$BRANCH/examples/tts/conf/hifigan/hifigan.yaml\n",
    "!cd {confdir} \\\n",
    "&& mkdir -p model/train_ds && cd model/train_ds && wget https://raw.githubusercontent.com/nvidia/NeMo/$BRANCH/examples/tts/conf/hifigan/model/train_ds/train_ds_finetune.yaml \n",
    "!cd {confdir} \\\n",
    "&& mkdir -p model/validation_ds && cd model/validation_ds && wget https://raw.githubusercontent.com/nvidia/NeMo/$BRANCH/examples/tts/conf/hifigan/model/validation_ds/val_ds_finetune.yaml\n",
    "!cd {confdir} \\\n",
    "&& mkdir -p model/generator && cd model/generator && wget https://raw.githubusercontent.com/nvidia/NeMo/$BRANCH/examples/tts/conf/hifigan/model/generator/v1.yaml\n",
    "!cd {codedir} \\\n",
    "&& wget https://raw.githubusercontent.com/NVIDIA/NeMo/$BRANCH/examples/tts/hifigan_finetune.py"
   ]
  },
  {
   "cell_type": "code",
   "execution_count": 143,
   "id": "1cdc397e-42f9-4894-addb-505cf0a3ed96",
   "metadata": {},
   "outputs": [
    {
     "name": "stdout",
     "output_type": "stream",
     "text": [
      "[NeMo W 2022-09-03 18:17:07 optimizers:55] Apex was not found. Using the lamb or fused_adam optimizer will error out.\n",
      "[NeMo W 2022-09-03 18:17:07 experimental:27] Module <class 'nemo.collections.tts.torch.tts_tokenizers.IPATokenizer'> is experimental, not ready for production and is not fully supported. Use at your own risk.\n",
      "[NeMo W 2022-09-03 18:17:07 nemo_logging:349] /home/chsieh/miniconda3/envs/nemo/lib/python3.8/site-packages/hydra/_internal/defaults_list.py:251: UserWarning: In 'hifigan.yaml': Defaults list is missing `_self_`. See https://hydra.cc/docs/upgrades/1.0_to_1.1/default_composition_order for more information\n",
      "      warnings.warn(msg, UserWarning)\n",
      "    \n",
      "Using 16bit native Automatic Mixed Precision (AMP)\n",
      "GPU available: True, used: True\n",
      "TPU available: False, using: 0 TPU cores\n",
      "IPU available: False, using: 0 IPUs\n",
      "HPU available: False, using: 0 HPUs\n",
      "[NeMo I 2022-09-03 18:17:07 exp_manager:287] Experiments will be logged at NeMoTTS_logs/HifiGan/2022-09-03_18-17-07\n",
      "[NeMo I 2022-09-03 18:17:07 exp_manager:661] TensorboardLogger has been set up\n",
      "\u001b[34m\u001b[1mwandb\u001b[0m: Currently logged in as: \u001b[33mchengping\u001b[0m. Use \u001b[1m`wandb login --relogin`\u001b[0m to force relogin\n",
      "\u001b[34m\u001b[1mwandb\u001b[0m: wandb version 0.13.2 is available!  To upgrade, please run:\n",
      "\u001b[34m\u001b[1mwandb\u001b[0m:  $ pip install wandb --upgrade\n",
      "\u001b[34m\u001b[1mwandb\u001b[0m: Tracking run with wandb version 0.12.19\n",
      "\u001b[34m\u001b[1mwandb\u001b[0m: Run data is saved locally in \u001b[35m\u001b[1mNeMoTTS_logs/wandb/run-20220903_181709-2022-09-03_18-17-07\u001b[0m\n",
      "\u001b[34m\u001b[1mwandb\u001b[0m: Run \u001b[1m`wandb offline`\u001b[0m to turn off syncing.\n",
      "\u001b[34m\u001b[1mwandb\u001b[0m: Syncing run \u001b[33mtutorial-HiFiGAN\u001b[0m\n",
      "\u001b[34m\u001b[1mwandb\u001b[0m: ⭐️ View project at \u001b[34m\u001b[4mhttps://wandb.ai/chengping/NeMo\u001b[0m\n",
      "\u001b[34m\u001b[1mwandb\u001b[0m: 🚀 View run at \u001b[34m\u001b[4mhttps://wandb.ai/chengping/NeMo/runs/2022-09-03_18-17-07\u001b[0m\n",
      "[NeMo I 2022-09-03 18:17:12 exp_manager:676] WandBLogger has been set up\n",
      "[NeMo W 2022-09-03 18:17:12 nemo_logging:349] /home/chsieh/miniconda3/envs/nemo/lib/python3.8/site-packages/pytorch_lightning/loggers/base.py:235: LightningDeprecationWarning: `LoggerCollection` is deprecated in v1.6 and will be removed in v1.8. Directly pass a list of loggers to the Trainer and access the list via the `trainer.loggers` attribute.\n",
      "      rank_zero_deprecation(\n",
      "    \n",
      "[NeMo W 2022-09-03 18:17:12 nemo_logging:349] /home/chsieh/miniconda3/envs/nemo/lib/python3.8/site-packages/pytorch_lightning/trainer/trainer.py:2319: LightningDeprecationWarning: `Trainer.weights_save_path` has been deprecated in v1.6 and will be removed in v1.8.\n",
      "      rank_zero_deprecation(\"`Trainer.weights_save_path` has been deprecated in v1.6 and will be removed in v1.8.\")\n",
      "    \n",
      "[NeMo W 2022-09-03 18:17:12 exp_manager:900] The checkpoint callback was told to monitor a validation value and trainer's max_steps was set to 312500. Please ensure that max_steps will run for at least 20 epochs to ensure that checkpointing will not error out.\n",
      "Created a temporary directory at /tmp/tmp7fpn4d_t\n",
      "Writing /tmp/tmp7fpn4d_t/_remote_module_non_sriptable.py\n",
      "[NeMo I 2022-09-03 18:17:12 data:863] Loading dataset from NeMoTTS_dataset/LibriTTS/dev-clean-manifest/train_manifest_hifigan.json.\n",
      "5224it [00:00, 262876.80it/s]\n",
      "[NeMo I 2022-09-03 18:17:12 data:887] Loaded dataset with 5224 files.\n",
      "[NeMo I 2022-09-03 18:17:12 data:889] Dataset contains 8.17 hours.\n",
      "[NeMo I 2022-09-03 18:17:12 data:321] Pruned 72 files. Final dataset contains 5152 files\n",
      "[NeMo I 2022-09-03 18:17:12 data:323] Pruned 0.01 hours. Final dataset contains 8.15 hours.\n",
      "[NeMo I 2022-09-03 18:17:12 data:863] Loading dataset from NeMoTTS_dataset/LibriTTS/dev-clean-manifest/val_manifest_hifigan.json.\n",
      "512it [00:00, 258951.36it/s]\n",
      "[NeMo I 2022-09-03 18:17:12 data:887] Loaded dataset with 512 files.\n",
      "[NeMo I 2022-09-03 18:17:12 data:889] Dataset contains 0.80 hours.\n",
      "[NeMo I 2022-09-03 18:17:12 data:321] Pruned 177 files. Final dataset contains 335 files\n",
      "[NeMo I 2022-09-03 18:17:12 data:323] Pruned 0.09 hours. Final dataset contains 0.71 hours.\n",
      "[NeMo I 2022-09-03 18:17:12 features:200] PADDING: 0\n",
      "[NeMo I 2022-09-03 18:17:12 features:208] STFT using exact pad\n",
      "[NeMo I 2022-09-03 18:17:12 features:200] PADDING: 0\n",
      "[NeMo I 2022-09-03 18:17:12 features:208] STFT using exact pad\n",
      "[NeMo I 2022-09-03 18:17:13 cloud:56] Found existing object /home/chsieh/.cache/torch/NeMo/NeMo_1.11.0rc0/tts_hifigan/e6da322f0f7e7dcf3f1900a9229a7e69/tts_hifigan.nemo.\n",
      "[NeMo I 2022-09-03 18:17:13 cloud:62] Re-using file from: /home/chsieh/.cache/torch/NeMo/NeMo_1.11.0rc0/tts_hifigan/e6da322f0f7e7dcf3f1900a9229a7e69/tts_hifigan.nemo\n",
      "[NeMo I 2022-09-03 18:17:13 common:789] Instantiating model from pre-trained checkpoint\n",
      "[NeMo W 2022-09-03 18:17:15 modelPT:149] If you intend to do training or fine-tuning, please call the ModelPT.setup_training_data() method and provide a valid configuration file to setup the train data loader.\n",
      "    Train config : \n",
      "    dataset:\n",
      "      _target_: nemo.collections.tts.data.datalayers.MelAudioDataset\n",
      "      manifest_filepath: /home/fkreuk/data/train_finetune.txt\n",
      "      min_duration: 0.75\n",
      "      n_segments: 8192\n",
      "    dataloader_params:\n",
      "      drop_last: false\n",
      "      shuffle: true\n",
      "      batch_size: 64\n",
      "      num_workers: 4\n",
      "    \n",
      "[NeMo W 2022-09-03 18:17:15 modelPT:156] If you intend to do validation, please call the ModelPT.setup_validation_data() or ModelPT.setup_multiple_validation_data() method and provide a valid configuration file to setup the validation data loader(s). \n",
      "    Validation config : \n",
      "    dataset:\n",
      "      _target_: nemo.collections.tts.data.datalayers.MelAudioDataset\n",
      "      manifest_filepath: /home/fkreuk/data/val_finetune.txt\n",
      "      min_duration: 3\n",
      "      n_segments: 66150\n",
      "    dataloader_params:\n",
      "      drop_last: false\n",
      "      shuffle: false\n",
      "      batch_size: 5\n",
      "      num_workers: 4\n",
      "    \n",
      "[NeMo W 2022-09-03 18:17:15 features:177] Using torch_stft is deprecated and has been removed. The values have been forcibly set to False for FilterbankFeatures and AudioToMelSpectrogramPreprocessor. Please set exact_pad to True as needed.\n",
      "[NeMo I 2022-09-03 18:17:15 features:200] PADDING: 0\n",
      "[NeMo W 2022-09-03 18:17:15 features:177] Using torch_stft is deprecated and has been removed. The values have been forcibly set to False for FilterbankFeatures and AudioToMelSpectrogramPreprocessor. Please set exact_pad to True as needed.\n",
      "[NeMo I 2022-09-03 18:17:15 features:200] PADDING: 0\n",
      "[NeMo I 2022-09-03 18:17:15 save_restore_connector:243] Model HifiGanModel was successfully restored from /home/chsieh/.cache/torch/NeMo/NeMo_1.11.0rc0/tts_hifigan/e6da322f0f7e7dcf3f1900a9229a7e69/tts_hifigan.nemo.\n",
      "[NeMo I 2022-09-03 18:17:15 modelPT:1045] Model checkpoint restored from pretrained chackpoint with name : `tts_hifigan`\n",
      "Initializing distributed: GLOBAL_RANK: 0, MEMBER: 1/1\n",
      "Added key: store_based_barrier_key:1 to store for rank: 0\n",
      "Rank 0: Completed store-based barrier for key:store_based_barrier_key:1 with 1 nodes.\n",
      "----------------------------------------------------------------------------------------------------\n",
      "distributed_backend=nccl\n",
      "All distributed processes registered. Starting with 1 processes\n",
      "----------------------------------------------------------------------------------------------------\n",
      "\n",
      "LOCAL_RANK: 0 - CUDA_VISIBLE_DEVICES: [0,1]\n",
      "[NeMo W 2022-09-03 18:17:19 nemo_logging:349] /home/chsieh/miniconda3/envs/nemo/lib/python3.8/site-packages/pytorch_lightning/core/optimizer.py:327: RuntimeWarning: The lr scheduler dict contains the key(s) ['interval'], but the keys will be ignored. You need to call `lr_scheduler.step()` manually in manual optimization.\n",
      "      rank_zero_warn(\n",
      "    \n",
      "\n",
      "  | Name                       | Type                     | Params\n",
      "------------------------------------------------------------------------\n",
      "0 | audio_to_melspec_precessor | FilterbankFeatures       | 0     \n",
      "1 | trg_melspec_fn             | FilterbankFeatures       | 0     \n",
      "2 | generator                  | Generator                | 13.9 M\n",
      "3 | mpd                        | MultiPeriodDiscriminator | 41.1 M\n",
      "4 | msd                        | MultiScaleDiscriminator  | 29.6 M\n",
      "5 | feature_loss               | FeatureMatchingLoss      | 0     \n",
      "6 | discriminator_loss         | DiscriminatorLoss        | 0     \n",
      "7 | generator_loss             | GeneratorLoss            | 0     \n",
      "------------------------------------------------------------------------\n",
      "84.7 M    Trainable params\n",
      "0         Non-trainable params\n",
      "84.7 M    Total params\n",
      "169.321   Total estimated model params size (MB)\n",
      "Sanity Checking DataLoader 0:   0%|                       | 0/2 [00:00<?, ?it/s][NeMo W 2022-09-03 18:17:22 nemo_logging:349] /home/chsieh/miniconda3/envs/nemo/lib/python3.8/site-packages/torch/functional.py:695: UserWarning: stft will soon require the return_complex parameter be given for real inputs, and will further require that return_complex=True in a future PyTorch release. (Triggered internally at  ../aten/src/ATen/native/SpectralOps.cpp:798.)\n",
      "      return _VF.stft(input, n_fft, hop_length, win_length, window,  # type: ignore[attr-defined]\n",
      "    \n",
      "[NeMo W 2022-09-03 18:17:22 nemo_logging:349] /home/chsieh/miniconda3/envs/nemo/lib/python3.8/site-packages/torch/functional.py:770: UserWarning: istft will require a complex-valued input tensor in a future PyTorch release. Matching the output from stft with return_complex=True.  (Triggered internally at  ../aten/src/ATen/native/SpectralOps.cpp:950.)\n",
      "      return _VF.istft(input, n_fft, hop_length, win_length, window, center,  # type: ignore[attr-defined]\n",
      "    \n",
      "[NeMo W 2022-09-03 18:17:22 nemo_logging:349] /home/chsieh/miniconda3/envs/nemo/lib/python3.8/site-packages/pytorch_lightning/trainer/trainer.py:1933: PossibleUserWarning: The number of training batches (81) is smaller than the logging interval Trainer(log_every_n_steps=100). Set a lower value for log_every_n_steps if you want to see logs for the training epoch.\n",
      "      rank_zero_warn(\n",
      "    \n",
      "Epoch 0:   0%|                                           | 0/81 [00:00<?, ?it/s][W reducer.cpp:1289] Warning: find_unused_parameters=True was specified in DDP constructor, but did not find any unused parameters in the forward pass. This flag results in an extra traversal of the autograd graph every iteration,  which can adversely affect performance. If your model indeed never has any unused parameters in the forward pass, consider turning this flag off. Note that this warning may be a false positive if your model has flow control causing later iterations to have unused parameters. (function operator())\n",
      "[NeMo W 2022-09-03 18:17:30 nemo_logging:349] /home/chsieh/miniconda3/envs/nemo/lib/python3.8/site-packages/torch/optim/lr_scheduler.py:131: UserWarning: Detected call of `lr_scheduler.step()` before `optimizer.step()`. In PyTorch 1.1.0 and later, you should call them in the opposite order: `optimizer.step()` before `lr_scheduler.step()`.  Failure to do this will result in PyTorch skipping the first value of the learning rate schedule. See more details at https://pytorch.org/docs/stable/optim.html#how-to-adjust-learning-rate\n",
      "      warnings.warn(\"Detected call of `lr_scheduler.step()` before `optimizer.step()`. \"\n",
      "    \n",
      "[NeMo W 2022-09-03 18:17:30 nemo_logging:349] /home/chsieh/miniconda3/envs/nemo/lib/python3.8/site-packages/pytorch_lightning/trainer/connectors/logger_connector/result.py:229: UserWarning: You called `self.log('global_step', ...)` in your `training_step` but the value needs to be floating point. Converting it to torch.float32.\n",
      "      warning_cache.warn(\n",
      "    \n",
      "Epoch 1:   1%|      | 1/81 [00:07<09:30,  7.13s/it, v_num=7-07, g_l1_loss=1.760]^C\n",
      "[NeMo W 2022-09-03 18:20:35 nemo_logging:349] /home/chsieh/miniconda3/envs/nemo/lib/python3.8/site-packages/pytorch_lightning/trainer/trainer.py:726: UserWarning: Detected KeyboardInterrupt, attempting graceful shutdown...\n",
      "      rank_zero_warn(\"Detected KeyboardInterrupt, attempting graceful shutdown...\")\n",
      "    \n",
      "\u001b[34m\u001b[1mwandb\u001b[0m: Waiting for W&B process to finish... \u001b[32m(success).\u001b[0m\n",
      "\u001b[34m\u001b[1mwandb\u001b[0m: - 0.002 MB of 0.002 MB uploaded (0.000 MB deduped)\r"
     ]
    }
   ],
   "source": [
    "!(python {codedir}/hifigan_finetune.py --config-path={os.path.abspath(confdir)} --config-name=hifigan.yaml \\\n",
    "train_dataset={manifest_dir}/train_manifest_hifigan.json \\\n",
    "validation_datasets={manifest_dir}/val_manifest_hifigan.json \\\n",
    "+init_from_pretrained_model='tts_hifigan' \\\n",
    "model.train_ds.dataloader_params.batch_size=64 \\\n",
    "model.max_steps=312500 \\\n",
    "model.optim.lr=0.0001 \\\n",
    "trainer.check_val_every_n_epoch=20 \\\n",
    "model/train_ds=train_ds_finetune \\\n",
    "model/validation_ds=val_ds_finetune \\\n",
    "trainer.devices=1 \\\n",
    "trainer.strategy='ddp' \\\n",
    "trainer.precision=16 \\\n",
    "exp_manager.exp_dir={logsdir} \\\n",
    "exp_manager.create_wandb_logger=True \\\n",
    "exp_manager.wandb_logger_kwargs.name=\"tutorial-HiFiGAN\" \\\n",
    "exp_manager.wandb_logger_kwargs.project=\"NeMo\" \\\n",
    ")"
   ]
  },
  {
   "cell_type": "markdown",
   "id": "4c854eb7-a4ef-4c64-88dd-67f3c301a450",
   "metadata": {},
   "source": [
    "# 3. Fine-tune FastPitch"
   ]
  },
  {
   "cell_type": "markdown",
   "id": "7d2c24b6-38fd-4b64-a826-1f97954d95a8",
   "metadata": {},
   "source": [
    "## a. Data Preparation"
   ]
  },
  {
   "cell_type": "code",
   "execution_count": 153,
   "id": "cd4ccf29-fb1b-44ac-a482-652f70b7c52f",
   "metadata": {},
   "outputs": [
    {
     "name": "stdout",
     "output_type": "stream",
     "text": [
      "100%|██████████████████████████████████████| 4837/4837 [00:11<00:00, 419.63it/s]\n",
      "get_data.py:114: ParserWarning: Length of header or names does not match length of data. This leads to a loss of data with index_col=False.\n",
      "  df = pd.read_csv(str(args.data_root / 'LibriTTS'/ 'speakers.tsv'), sep='\\t', index_col=False)\n"
     ]
    }
   ],
   "source": [
    "!(cd {codedir} && python get_data.py \\\n",
    "        --data-root ../{datadir}/ \\\n",
    "        --data-sets 'test_clean' \\\n",
    "        --train-min-size 15 \\\n",
    "        --val-size 20 \\\n",
    "        --spk-size 10 \\\n",
    "        --balance-gender \\\n",
    "        --separate-speaker \\\n",
    ")"
   ]
  },
  {
   "cell_type": "code",
   "execution_count": 154,
   "id": "80df4eac-4a9d-419c-a86f-6dc236bf33bb",
   "metadata": {},
   "outputs": [
    {
     "name": "stdout",
     "output_type": "stream",
     "text": [
      "1089  2300  237  260  3570  4446  5683\t7127  8230  8555\n"
     ]
    }
   ],
   "source": [
    "!ls {manifest_dir}"
   ]
  },
  {
   "cell_type": "code",
   "execution_count": 194,
   "id": "e9323964-031a-4659-8f21-14322b01ddf5",
   "metadata": {},
   "outputs": [],
   "source": [
    "speaker_ids = [1089, 2300, 237, 260, 3570, 4446, 5683, 7127, 8230, 8555]"
   ]
  },
  {
   "cell_type": "markdown",
   "id": "1bf6148b-dc26-4331-b35c-b100fecd00a2",
   "metadata": {},
   "source": [
    "## b. Preprocessing"
   ]
  },
  {
   "cell_type": "code",
   "execution_count": 192,
   "id": "da18b7dc-b6e1-45cd-91ad-09219baf8895",
   "metadata": {},
   "outputs": [
    {
     "name": "stdout",
     "output_type": "stream",
     "text": [
      "[NeMo I 2022-09-05 15:24:27 data:186] Loading dataset from NeMoTTS_dataset/LibriTTS/test-clean-manifest/1089/train_manifest.json.\n"
     ]
    },
    {
     "name": "stderr",
     "output_type": "stream",
     "text": [
      "74it [00:04, 15.21it/s]"
     ]
    },
    {
     "name": "stdout",
     "output_type": "stream",
     "text": [
      "[NeMo I 2022-09-05 15:24:32 data:221] Loaded dataset with 74 files.\n",
      "[NeMo I 2022-09-05 15:24:32 data:223] Dataset contains 0.25 hours.\n",
      "[NeMo I 2022-09-05 15:24:32 data:321] Pruned 0 files. Final dataset contains 74 files\n",
      "[NeMo I 2022-09-05 15:24:32 data:323] Pruned 0.00 hours. Final dataset contains 0.25 hours.\n",
      "[NeMo I 2022-09-05 15:24:32 data:186] Loading dataset from NeMoTTS_dataset/LibriTTS/test-clean-manifest/1089/val_manifest.json.\n"
     ]
    },
    {
     "name": "stderr",
     "output_type": "stream",
     "text": [
      "\n",
      "20it [00:00, 20.90it/s]"
     ]
    },
    {
     "name": "stdout",
     "output_type": "stream",
     "text": [
      "[NeMo I 2022-09-05 15:24:33 data:221] Loaded dataset with 20 files.\n",
      "[NeMo I 2022-09-05 15:24:33 data:223] Dataset contains 0.05 hours.\n",
      "[NeMo I 2022-09-05 15:24:33 data:321] Pruned 0 files. Final dataset contains 20 files\n",
      "[NeMo I 2022-09-05 15:24:33 data:323] Pruned 0.00 hours. Final dataset contains 0.05 hours.\n"
     ]
    },
    {
     "name": "stderr",
     "output_type": "stream",
     "text": [
      "\n",
      "100%|██████████████████████████████████████████████████████████████████████████████████████████████████████████████████████████████████████████████████████████████████████████████████████████████████████████████████████████████████████████████████████████████████████████████████| 3/3 [05:21<00:00, 107.28s/it]\n",
      "100%|███████████████████████████████████████████████████████████████████████████████████████████████████████████████████████████████████████████████████████████████████████████████████████████████████████████████████████████████████████████████████████████████████████████████████| 1/1 [01:35<00:00, 95.09s/it]"
     ]
    },
    {
     "name": "stdout",
     "output_type": "stream",
     "text": [
      "[NeMo I 2022-09-05 15:31:30 data:186] Loading dataset from NeMoTTS_dataset/LibriTTS/test-clean-manifest/2300/train_manifest.json.\n"
     ]
    },
    {
     "name": "stderr",
     "output_type": "stream",
     "text": [
      "\n",
      "59it [00:04, 11.96it/s]"
     ]
    },
    {
     "name": "stdout",
     "output_type": "stream",
     "text": [
      "[NeMo I 2022-09-05 15:31:35 data:221] Loaded dataset with 59 files.\n",
      "[NeMo I 2022-09-05 15:31:35 data:223] Dataset contains 0.25 hours.\n",
      "[NeMo I 2022-09-05 15:31:35 data:321] Pruned 0 files. Final dataset contains 59 files\n",
      "[NeMo I 2022-09-05 15:31:35 data:323] Pruned 0.00 hours. Final dataset contains 0.25 hours.\n",
      "[NeMo I 2022-09-05 15:31:35 data:186] Loading dataset from NeMoTTS_dataset/LibriTTS/test-clean-manifest/2300/val_manifest.json.\n"
     ]
    },
    {
     "name": "stderr",
     "output_type": "stream",
     "text": [
      "\n",
      "20it [00:01, 17.04it/s]"
     ]
    },
    {
     "name": "stdout",
     "output_type": "stream",
     "text": [
      "[NeMo I 2022-09-05 15:31:36 data:221] Loaded dataset with 20 files.\n",
      "[NeMo I 2022-09-05 15:31:36 data:223] Dataset contains 0.06 hours.\n",
      "[NeMo I 2022-09-05 15:31:36 data:321] Pruned 0 files. Final dataset contains 20 files\n",
      "[NeMo I 2022-09-05 15:31:36 data:323] Pruned 0.00 hours. Final dataset contains 0.06 hours.\n"
     ]
    },
    {
     "name": "stderr",
     "output_type": "stream",
     "text": [
      "\n",
      "100%|██████████████████████████████████████████████████████████████████████████████████████████████████████████████████████████████████████████████████████████████████████████████████████████████████████████████████████████████████████████████████████████████████████████████████| 2/2 [05:44<00:00, 172.27s/it]\n",
      "100%|██████████████████████████████████████████████████████████████████████████████████████████████████████████████████████████████████████████████████████████████████████████████████████████████████████████████████████████████████████████████████████████████████████████████████| 1/1 [01:50<00:00, 110.48s/it]"
     ]
    },
    {
     "name": "stdout",
     "output_type": "stream",
     "text": [
      "[NeMo I 2022-09-05 15:39:11 data:186] Loading dataset from NeMoTTS_dataset/LibriTTS/test-clean-manifest/237/train_manifest.json.\n"
     ]
    },
    {
     "name": "stderr",
     "output_type": "stream",
     "text": [
      "\n",
      "104it [00:05, 18.96it/s]"
     ]
    },
    {
     "name": "stdout",
     "output_type": "stream",
     "text": [
      "[NeMo I 2022-09-05 15:39:17 data:221] Loaded dataset with 104 files.\n",
      "[NeMo I 2022-09-05 15:39:17 data:223] Dataset contains 0.25 hours.\n",
      "[NeMo I 2022-09-05 15:39:17 data:321] Pruned 0 files. Final dataset contains 104 files\n",
      "[NeMo I 2022-09-05 15:39:17 data:323] Pruned 0.00 hours. Final dataset contains 0.25 hours.\n",
      "[NeMo I 2022-09-05 15:39:17 data:186] Loading dataset from NeMoTTS_dataset/LibriTTS/test-clean-manifest/237/val_manifest.json.\n"
     ]
    },
    {
     "name": "stderr",
     "output_type": "stream",
     "text": [
      "\n",
      "20it [00:00, 37.16it/s]"
     ]
    },
    {
     "name": "stdout",
     "output_type": "stream",
     "text": [
      "[NeMo I 2022-09-05 15:39:17 data:221] Loaded dataset with 20 files.\n",
      "[NeMo I 2022-09-05 15:39:17 data:223] Dataset contains 0.02 hours.\n",
      "[NeMo I 2022-09-05 15:39:17 data:321] Pruned 0 files. Final dataset contains 20 files\n",
      "[NeMo I 2022-09-05 15:39:17 data:323] Pruned 0.00 hours. Final dataset contains 0.02 hours.\n"
     ]
    },
    {
     "name": "stderr",
     "output_type": "stream",
     "text": [
      "\n",
      "  0%|                                                                                                                                                                                                                                                                                           | 0/4 [00:44<?, ?it/s]\n"
     ]
    },
    {
     "ename": "KeyboardInterrupt",
     "evalue": "",
     "output_type": "error",
     "traceback": [
      "\u001b[0;31m---------------------------------------------------------------------------\u001b[0m",
      "\u001b[0;31mKeyboardInterrupt\u001b[0m                         Traceback (most recent call last)",
      "Input \u001b[0;32mIn [192]\u001b[0m, in \u001b[0;36m<cell line: 1>\u001b[0;34m()\u001b[0m\n\u001b[1;32m      2\u001b[0m manifest_dir \u001b[38;5;241m=\u001b[39m \u001b[38;5;124mf\u001b[39m\u001b[38;5;124m'\u001b[39m\u001b[38;5;132;01m{\u001b[39;00mdatadir\u001b[38;5;132;01m}\u001b[39;00m\u001b[38;5;124m/LibriTTS/test-clean-manifest/\u001b[39m\u001b[38;5;132;01m{\u001b[39;00mspeaker_id\u001b[38;5;132;01m}\u001b[39;00m\u001b[38;5;124m'\u001b[39m\n\u001b[1;32m      3\u001b[0m sup_data_types \u001b[38;5;241m=\u001b[39m [\u001b[38;5;124m\"\u001b[39m\u001b[38;5;124malign_prior_matrix\u001b[39m\u001b[38;5;124m\"\u001b[39m, \u001b[38;5;124m\"\u001b[39m\u001b[38;5;124mpitch\u001b[39m\u001b[38;5;124m\"\u001b[39m]\n\u001b[0;32m----> 4\u001b[0m pitch_mean, pitch_std, pitch_min, pitch_max \u001b[38;5;241m=\u001b[39m \u001b[43mpre_calculate_supplementary_data\u001b[49m\u001b[43m(\u001b[49m\n\u001b[1;32m      5\u001b[0m \u001b[43m    \u001b[49m\u001b[43mmanifest_dir\u001b[49m\u001b[43m,\u001b[49m\u001b[43m \u001b[49m\u001b[43msuppdir\u001b[49m\u001b[43m,\u001b[49m\u001b[43m \u001b[49m\u001b[43msup_data_types\u001b[49m\u001b[43m,\u001b[49m\u001b[43m \u001b[49m\u001b[43mtext_tokenizer\u001b[49m\u001b[43m,\u001b[49m\u001b[43m \u001b[49m\u001b[43mtext_normalizer\u001b[49m\u001b[43m,\u001b[49m\u001b[43m \u001b[49m\u001b[43mtext_normalizer_call_kwargs\u001b[49m\n\u001b[1;32m      6\u001b[0m \u001b[43m\u001b[49m\u001b[43m)\u001b[49m\n\u001b[1;32m      7\u001b[0m \u001b[38;5;28;01mwith\u001b[39;00m \u001b[38;5;28mopen\u001b[39m(os\u001b[38;5;241m.\u001b[39mpath\u001b[38;5;241m.\u001b[39mjoin(manifest_dir, \u001b[38;5;124m'\u001b[39m\u001b[38;5;124mpitch_stats.json\u001b[39m\u001b[38;5;124m'\u001b[39m), \u001b[38;5;124m'\u001b[39m\u001b[38;5;124mw\u001b[39m\u001b[38;5;124m'\u001b[39m) \u001b[38;5;28;01mas\u001b[39;00m f:\n\u001b[1;32m      8\u001b[0m     json\u001b[38;5;241m.\u001b[39mdump({\u001b[38;5;124m'\u001b[39m\u001b[38;5;124mpitch\u001b[39m\u001b[38;5;124m'\u001b[39m:[pitch_mean, pitch_std, pitch_min, pitch_max]}, f)\n",
      "Input \u001b[0;32mIn [51]\u001b[0m, in \u001b[0;36mpre_calculate_supplementary_data\u001b[0;34m(manifest_dir, sup_data_path, sup_data_types, text_tokenizer, text_normalizer, text_normalizer_call_kwargs, batch_size, sample_rate)\u001b[0m\n\u001b[1;32m     28\u001b[0m \u001b[38;5;28;01mfor\u001b[39;00m stage, dl \u001b[38;5;129;01min\u001b[39;00m stage2dl\u001b[38;5;241m.\u001b[39mitems():\n\u001b[1;32m     29\u001b[0m     pitch_list \u001b[38;5;241m=\u001b[39m []\n\u001b[0;32m---> 30\u001b[0m     \u001b[38;5;28;01mfor\u001b[39;00m batch \u001b[38;5;129;01min\u001b[39;00m tqdm(dl, total\u001b[38;5;241m=\u001b[39m\u001b[38;5;28mlen\u001b[39m(dl)):\n\u001b[1;32m     31\u001b[0m         tokens, tokens_lengths, audios, audio_lengths, attn_prior, pitches, pitches_lengths \u001b[38;5;241m=\u001b[39m batch\n\u001b[1;32m     32\u001b[0m         pitch_list\u001b[38;5;241m.\u001b[39mappend(pitches[pitches \u001b[38;5;241m!=\u001b[39m \u001b[38;5;241m0\u001b[39m])\n",
      "File \u001b[0;32m~/miniconda3/envs/nemo/lib/python3.8/site-packages/tqdm/std.py:1195\u001b[0m, in \u001b[0;36mtqdm.__iter__\u001b[0;34m(self)\u001b[0m\n\u001b[1;32m   1192\u001b[0m time \u001b[38;5;241m=\u001b[39m \u001b[38;5;28mself\u001b[39m\u001b[38;5;241m.\u001b[39m_time\n\u001b[1;32m   1194\u001b[0m \u001b[38;5;28;01mtry\u001b[39;00m:\n\u001b[0;32m-> 1195\u001b[0m     \u001b[38;5;28;01mfor\u001b[39;00m obj \u001b[38;5;129;01min\u001b[39;00m iterable:\n\u001b[1;32m   1196\u001b[0m         \u001b[38;5;28;01myield\u001b[39;00m obj\n\u001b[1;32m   1197\u001b[0m         \u001b[38;5;66;03m# Update and possibly print the progressbar.\u001b[39;00m\n\u001b[1;32m   1198\u001b[0m         \u001b[38;5;66;03m# Note: does not call self.update(1) for speed optimisation.\u001b[39;00m\n",
      "File \u001b[0;32m~/miniconda3/envs/nemo/lib/python3.8/site-packages/torch/utils/data/dataloader.py:530\u001b[0m, in \u001b[0;36m_BaseDataLoaderIter.__next__\u001b[0;34m(self)\u001b[0m\n\u001b[1;32m    528\u001b[0m \u001b[38;5;28;01mif\u001b[39;00m \u001b[38;5;28mself\u001b[39m\u001b[38;5;241m.\u001b[39m_sampler_iter \u001b[38;5;129;01mis\u001b[39;00m \u001b[38;5;28;01mNone\u001b[39;00m:\n\u001b[1;32m    529\u001b[0m     \u001b[38;5;28mself\u001b[39m\u001b[38;5;241m.\u001b[39m_reset()\n\u001b[0;32m--> 530\u001b[0m data \u001b[38;5;241m=\u001b[39m \u001b[38;5;28;43mself\u001b[39;49m\u001b[38;5;241;43m.\u001b[39;49m\u001b[43m_next_data\u001b[49m\u001b[43m(\u001b[49m\u001b[43m)\u001b[49m\n\u001b[1;32m    531\u001b[0m \u001b[38;5;28mself\u001b[39m\u001b[38;5;241m.\u001b[39m_num_yielded \u001b[38;5;241m+\u001b[39m\u001b[38;5;241m=\u001b[39m \u001b[38;5;241m1\u001b[39m\n\u001b[1;32m    532\u001b[0m \u001b[38;5;28;01mif\u001b[39;00m \u001b[38;5;28mself\u001b[39m\u001b[38;5;241m.\u001b[39m_dataset_kind \u001b[38;5;241m==\u001b[39m _DatasetKind\u001b[38;5;241m.\u001b[39mIterable \u001b[38;5;129;01mand\u001b[39;00m \\\n\u001b[1;32m    533\u001b[0m         \u001b[38;5;28mself\u001b[39m\u001b[38;5;241m.\u001b[39m_IterableDataset_len_called \u001b[38;5;129;01mis\u001b[39;00m \u001b[38;5;129;01mnot\u001b[39;00m \u001b[38;5;28;01mNone\u001b[39;00m \u001b[38;5;129;01mand\u001b[39;00m \\\n\u001b[1;32m    534\u001b[0m         \u001b[38;5;28mself\u001b[39m\u001b[38;5;241m.\u001b[39m_num_yielded \u001b[38;5;241m>\u001b[39m \u001b[38;5;28mself\u001b[39m\u001b[38;5;241m.\u001b[39m_IterableDataset_len_called:\n",
      "File \u001b[0;32m~/miniconda3/envs/nemo/lib/python3.8/site-packages/torch/utils/data/dataloader.py:1207\u001b[0m, in \u001b[0;36m_MultiProcessingDataLoaderIter._next_data\u001b[0;34m(self)\u001b[0m\n\u001b[1;32m   1204\u001b[0m     \u001b[38;5;28;01mreturn\u001b[39;00m \u001b[38;5;28mself\u001b[39m\u001b[38;5;241m.\u001b[39m_process_data(data)\n\u001b[1;32m   1206\u001b[0m \u001b[38;5;28;01massert\u001b[39;00m \u001b[38;5;129;01mnot\u001b[39;00m \u001b[38;5;28mself\u001b[39m\u001b[38;5;241m.\u001b[39m_shutdown \u001b[38;5;129;01mand\u001b[39;00m \u001b[38;5;28mself\u001b[39m\u001b[38;5;241m.\u001b[39m_tasks_outstanding \u001b[38;5;241m>\u001b[39m \u001b[38;5;241m0\u001b[39m\n\u001b[0;32m-> 1207\u001b[0m idx, data \u001b[38;5;241m=\u001b[39m \u001b[38;5;28;43mself\u001b[39;49m\u001b[38;5;241;43m.\u001b[39;49m\u001b[43m_get_data\u001b[49m\u001b[43m(\u001b[49m\u001b[43m)\u001b[49m\n\u001b[1;32m   1208\u001b[0m \u001b[38;5;28mself\u001b[39m\u001b[38;5;241m.\u001b[39m_tasks_outstanding \u001b[38;5;241m-\u001b[39m\u001b[38;5;241m=\u001b[39m \u001b[38;5;241m1\u001b[39m\n\u001b[1;32m   1209\u001b[0m \u001b[38;5;28;01mif\u001b[39;00m \u001b[38;5;28mself\u001b[39m\u001b[38;5;241m.\u001b[39m_dataset_kind \u001b[38;5;241m==\u001b[39m _DatasetKind\u001b[38;5;241m.\u001b[39mIterable:\n\u001b[1;32m   1210\u001b[0m     \u001b[38;5;66;03m# Check for _IterableDatasetStopIteration\u001b[39;00m\n",
      "File \u001b[0;32m~/miniconda3/envs/nemo/lib/python3.8/site-packages/torch/utils/data/dataloader.py:1163\u001b[0m, in \u001b[0;36m_MultiProcessingDataLoaderIter._get_data\u001b[0;34m(self)\u001b[0m\n\u001b[1;32m   1161\u001b[0m \u001b[38;5;28;01melif\u001b[39;00m \u001b[38;5;28mself\u001b[39m\u001b[38;5;241m.\u001b[39m_pin_memory:\n\u001b[1;32m   1162\u001b[0m     \u001b[38;5;28;01mwhile\u001b[39;00m \u001b[38;5;28mself\u001b[39m\u001b[38;5;241m.\u001b[39m_pin_memory_thread\u001b[38;5;241m.\u001b[39mis_alive():\n\u001b[0;32m-> 1163\u001b[0m         success, data \u001b[38;5;241m=\u001b[39m \u001b[38;5;28;43mself\u001b[39;49m\u001b[38;5;241;43m.\u001b[39;49m\u001b[43m_try_get_data\u001b[49m\u001b[43m(\u001b[49m\u001b[43m)\u001b[49m\n\u001b[1;32m   1164\u001b[0m         \u001b[38;5;28;01mif\u001b[39;00m success:\n\u001b[1;32m   1165\u001b[0m             \u001b[38;5;28;01mreturn\u001b[39;00m data\n",
      "File \u001b[0;32m~/miniconda3/envs/nemo/lib/python3.8/site-packages/torch/utils/data/dataloader.py:1011\u001b[0m, in \u001b[0;36m_MultiProcessingDataLoaderIter._try_get_data\u001b[0;34m(self, timeout)\u001b[0m\n\u001b[1;32m    998\u001b[0m \u001b[38;5;28;01mdef\u001b[39;00m \u001b[38;5;21m_try_get_data\u001b[39m(\u001b[38;5;28mself\u001b[39m, timeout\u001b[38;5;241m=\u001b[39m_utils\u001b[38;5;241m.\u001b[39mMP_STATUS_CHECK_INTERVAL):\n\u001b[1;32m    999\u001b[0m     \u001b[38;5;66;03m# Tries to fetch data from `self._data_queue` once for a given timeout.\u001b[39;00m\n\u001b[1;32m   1000\u001b[0m     \u001b[38;5;66;03m# This can also be used as inner loop of fetching without timeout, with\u001b[39;00m\n\u001b[0;32m   (...)\u001b[0m\n\u001b[1;32m   1008\u001b[0m     \u001b[38;5;66;03m# Returns a 2-tuple:\u001b[39;00m\n\u001b[1;32m   1009\u001b[0m     \u001b[38;5;66;03m#   (bool: whether successfully get data, any: data if successful else None)\u001b[39;00m\n\u001b[1;32m   1010\u001b[0m     \u001b[38;5;28;01mtry\u001b[39;00m:\n\u001b[0;32m-> 1011\u001b[0m         data \u001b[38;5;241m=\u001b[39m \u001b[38;5;28;43mself\u001b[39;49m\u001b[38;5;241;43m.\u001b[39;49m\u001b[43m_data_queue\u001b[49m\u001b[38;5;241;43m.\u001b[39;49m\u001b[43mget\u001b[49m\u001b[43m(\u001b[49m\u001b[43mtimeout\u001b[49m\u001b[38;5;241;43m=\u001b[39;49m\u001b[43mtimeout\u001b[49m\u001b[43m)\u001b[49m\n\u001b[1;32m   1012\u001b[0m         \u001b[38;5;28;01mreturn\u001b[39;00m (\u001b[38;5;28;01mTrue\u001b[39;00m, data)\n\u001b[1;32m   1013\u001b[0m     \u001b[38;5;28;01mexcept\u001b[39;00m \u001b[38;5;167;01mException\u001b[39;00m \u001b[38;5;28;01mas\u001b[39;00m e:\n\u001b[1;32m   1014\u001b[0m         \u001b[38;5;66;03m# At timeout and error, we manually check whether any worker has\u001b[39;00m\n\u001b[1;32m   1015\u001b[0m         \u001b[38;5;66;03m# failed. Note that this is the only mechanism for Windows to detect\u001b[39;00m\n\u001b[1;32m   1016\u001b[0m         \u001b[38;5;66;03m# worker failures.\u001b[39;00m\n",
      "File \u001b[0;32m~/miniconda3/envs/nemo/lib/python3.8/queue.py:179\u001b[0m, in \u001b[0;36mQueue.get\u001b[0;34m(self, block, timeout)\u001b[0m\n\u001b[1;32m    177\u001b[0m         \u001b[38;5;28;01mif\u001b[39;00m remaining \u001b[38;5;241m<\u001b[39m\u001b[38;5;241m=\u001b[39m \u001b[38;5;241m0.0\u001b[39m:\n\u001b[1;32m    178\u001b[0m             \u001b[38;5;28;01mraise\u001b[39;00m Empty\n\u001b[0;32m--> 179\u001b[0m         \u001b[38;5;28;43mself\u001b[39;49m\u001b[38;5;241;43m.\u001b[39;49m\u001b[43mnot_empty\u001b[49m\u001b[38;5;241;43m.\u001b[39;49m\u001b[43mwait\u001b[49m\u001b[43m(\u001b[49m\u001b[43mremaining\u001b[49m\u001b[43m)\u001b[49m\n\u001b[1;32m    180\u001b[0m item \u001b[38;5;241m=\u001b[39m \u001b[38;5;28mself\u001b[39m\u001b[38;5;241m.\u001b[39m_get()\n\u001b[1;32m    181\u001b[0m \u001b[38;5;28mself\u001b[39m\u001b[38;5;241m.\u001b[39mnot_full\u001b[38;5;241m.\u001b[39mnotify()\n",
      "File \u001b[0;32m~/miniconda3/envs/nemo/lib/python3.8/threading.py:306\u001b[0m, in \u001b[0;36mCondition.wait\u001b[0;34m(self, timeout)\u001b[0m\n\u001b[1;32m    304\u001b[0m \u001b[38;5;28;01melse\u001b[39;00m:\n\u001b[1;32m    305\u001b[0m     \u001b[38;5;28;01mif\u001b[39;00m timeout \u001b[38;5;241m>\u001b[39m \u001b[38;5;241m0\u001b[39m:\n\u001b[0;32m--> 306\u001b[0m         gotit \u001b[38;5;241m=\u001b[39m \u001b[43mwaiter\u001b[49m\u001b[38;5;241;43m.\u001b[39;49m\u001b[43macquire\u001b[49m\u001b[43m(\u001b[49m\u001b[38;5;28;43;01mTrue\u001b[39;49;00m\u001b[43m,\u001b[49m\u001b[43m \u001b[49m\u001b[43mtimeout\u001b[49m\u001b[43m)\u001b[49m\n\u001b[1;32m    307\u001b[0m     \u001b[38;5;28;01melse\u001b[39;00m:\n\u001b[1;32m    308\u001b[0m         gotit \u001b[38;5;241m=\u001b[39m waiter\u001b[38;5;241m.\u001b[39macquire(\u001b[38;5;28;01mFalse\u001b[39;00m)\n",
      "\u001b[0;31mKeyboardInterrupt\u001b[0m: "
     ]
    }
   ],
   "source": [
    "for speaker_id in speaker_ids:\n",
    "    manifest_dir = f'{datadir}/LibriTTS/test-clean-manifest/{speaker_id}'\n",
    "    sup_data_types = [\"align_prior_matrix\", \"pitch\"]\n",
    "    pitch_mean, pitch_std, pitch_min, pitch_max = pre_calculate_supplementary_data(\n",
    "        manifest_dir, suppdir, sup_data_types, text_tokenizer, text_normalizer, text_normalizer_call_kwargs\n",
    "    )\n",
    "    with open(os.path.join(manifest_dir, 'pitch_stats.json'), 'w') as f:\n",
    "        json.dump({'pitch':[pitch_mean, pitch_std, pitch_min, pitch_max]}, f)"
   ]
  },
  {
   "cell_type": "markdown",
   "id": "4a88c772-2da8-4bbd-b912-02f6fe46f2a1",
   "metadata": {},
   "source": [
    "## c. Training"
   ]
  },
  {
   "cell_type": "code",
   "execution_count": null,
   "id": "3bdfe666-ce0d-4cbd-b9b7-c9507b315b4d",
   "metadata": {},
   "outputs": [],
   "source": [
    "!cd {codedir} \\\n",
    "&& wget https://raw.githubusercontent.com/NVIDIA/NeMo/$BRANCH/examples/tts/fastpitch_finetune_multispeaker.py"
   ]
  },
  {
   "cell_type": "code",
   "execution_count": 313,
   "id": "557fed76-b539-4914-a276-ba477004d5aa",
   "metadata": {},
   "outputs": [
    {
     "name": "stdout",
     "output_type": "stream",
     "text": [
      "[NeMo W 2022-09-05 19:35:46 optimizers:55] Apex was not found. Using the lamb or fused_adam optimizer will error out.\n",
      "[NeMo W 2022-09-05 19:35:47 experimental:27] Module <class 'nemo.collections.tts.torch.tts_tokenizers.IPATokenizer'> is experimental, not ready for production and is not fully supported. Use at your own risk.\n",
      "GPU available: True, used: True\n",
      "TPU available: False, using: 0 TPU cores\n",
      "IPU available: False, using: 0 IPUs\n",
      "HPU available: False, using: 0 HPUs\n",
      "[NeMo I 2022-09-05 19:35:48 exp_manager:287] Experiments will be logged at NeMoTTS_logs/FastPitch/LibriTTS-speaker-1089-test\n",
      "[NeMo I 2022-09-05 19:35:48 exp_manager:661] TensorboardLogger has been set up\n",
      "\u001b[34m\u001b[1mwandb\u001b[0m: Currently logged in as: \u001b[33mchengping\u001b[0m. Use \u001b[1m`wandb login --relogin`\u001b[0m to force relogin\n",
      "\u001b[34m\u001b[1mwandb\u001b[0m: wandb version 0.13.2 is available!  To upgrade, please run:\n",
      "\u001b[34m\u001b[1mwandb\u001b[0m:  $ pip install wandb --upgrade\n",
      "\u001b[34m\u001b[1mwandb\u001b[0m: Tracking run with wandb version 0.12.19\n",
      "\u001b[34m\u001b[1mwandb\u001b[0m: Run data is saved locally in \u001b[35m\u001b[1mNeMoTTS_logs/wandb/run-20220905_193549-LibriTTS-speaker-1089-test\u001b[0m\n",
      "\u001b[34m\u001b[1mwandb\u001b[0m: Run \u001b[1m`wandb offline`\u001b[0m to turn off syncing.\n",
      "\u001b[34m\u001b[1mwandb\u001b[0m: Resuming run \u001b[33mtutorial-finetune\u001b[0m\n",
      "\u001b[34m\u001b[1mwandb\u001b[0m: ⭐️ View project at \u001b[34m\u001b[4mhttps://wandb.ai/chengping/NeMo\u001b[0m\n",
      "\u001b[34m\u001b[1mwandb\u001b[0m: 🚀 View run at \u001b[34m\u001b[4mhttps://wandb.ai/chengping/NeMo/runs/LibriTTS-speaker-1089-test\u001b[0m\n",
      "[NeMo I 2022-09-05 19:35:49 exp_manager:676] WandBLogger has been set up\n",
      "[NeMo W 2022-09-05 19:35:49 nemo_logging:349] /home/chsieh/miniconda3/envs/nemo/lib/python3.8/site-packages/pytorch_lightning/loggers/base.py:235: LightningDeprecationWarning: `LoggerCollection` is deprecated in v1.6 and will be removed in v1.8. Directly pass a list of loggers to the Trainer and access the list via the `trainer.loggers` attribute.\n",
      "      rank_zero_deprecation(\n",
      "    \n",
      "[NeMo W 2022-09-05 19:35:49 nemo_logging:349] /home/chsieh/miniconda3/envs/nemo/lib/python3.8/site-packages/pytorch_lightning/trainer/trainer.py:2319: LightningDeprecationWarning: `Trainer.weights_save_path` has been deprecated in v1.6 and will be removed in v1.8.\n",
      "      rank_zero_deprecation(\"`Trainer.weights_save_path` has been deprecated in v1.6 and will be removed in v1.8.\")\n",
      "    \n",
      "[NeMo I 2022-09-05 19:35:51 tokenize_and_classify:87] Creating ClassifyFst grammars.\n",
      "[NeMo W 2022-09-05 19:36:14 experimental:27] Module <class 'nemo.collections.tts.torch.g2ps.IPAG2P'> is experimental, not ready for production and is not fully supported. Use at your own risk.\n",
      "[NeMo W 2022-09-05 19:36:15 g2ps:86] apply_to_oov_word=None, This means that some of words will remain unchanged if they are not handled by any of the rules in self.parse_one_word(). This may be intended if phonemes and chars are both valid inputs, otherwise, you may see unexpected deletions in your input.\n",
      "Created a temporary directory at /tmp/tmppjzu3sdm\n",
      "Writing /tmp/tmppjzu3sdm/_remote_module_non_sriptable.py\n",
      "[NeMo I 2022-09-05 19:36:15 data:196] Loading dataset from NeMoTTS_dataset/LibriTTS/test-clean-manifest/1089/train_manifest.json.\n",
      "74it [00:03, 20.83it/s]\n",
      "[NeMo I 2022-09-05 19:36:18 data:231] Loaded dataset with 74 files.\n",
      "[NeMo I 2022-09-05 19:36:18 data:233] Dataset contains 0.25 hours.\n",
      "[NeMo I 2022-09-05 19:36:18 data:340] Pruned 0 files. Final dataset contains 74 files\n",
      "[NeMo I 2022-09-05 19:36:18 data:342] Pruned 0.00 hours. Final dataset contains 0.25 hours.\n",
      "[NeMo I 2022-09-05 19:36:18 data:196] Loading dataset from NeMoTTS_dataset/LibriTTS/test-clean-manifest/1089/val_manifest.json.\n",
      "20it [00:00, 28.57it/s]\n",
      "[NeMo I 2022-09-05 19:36:19 data:231] Loaded dataset with 20 files.\n",
      "[NeMo I 2022-09-05 19:36:19 data:233] Dataset contains 0.05 hours.\n",
      "[NeMo I 2022-09-05 19:36:19 data:340] Pruned 0 files. Final dataset contains 20 files\n",
      "[NeMo I 2022-09-05 19:36:19 data:342] Pruned 0.00 hours. Final dataset contains 0.05 hours.\n",
      "[NeMo I 2022-09-05 19:36:19 features:216] PADDING: 1\n",
      "[NeMo I 2022-09-05 19:36:20 modelPT:1080] Model checkpoint restored from pytorch lightning chackpoint with path : `/home/chsieh/chengping-ws/fastpitch/completed/emb-all-cat-cln2-gst-5-1151/FastPitch/2022-08-25_04-24-31/checkpoints/FastPitch--v_loss=0.7343-epoch=239.ckpt`\n",
      "[NeMo I 2022-09-05 19:36:20 adapter_utils:52] Updating TemporalPredictorAdapter Adapter input dim from 384 to 256\n",
      "[NeMo I 2022-09-05 19:36:20 adapter_utils:52] Updating TemporalPredictorAdapter Adapter input dim from 384 to 256\n",
      "[NeMo I 2022-09-05 19:36:20 adapter_utils:52] Updating AlignmentEncoderAdapter Adapter input dim from 384 to 768\n",
      "[NeMo I 2022-09-05 19:36:20 adapter_utils:52] Updating AlignmentEncoderAdapter Adapter input dim from 768 to 80\n",
      "[NeMo I 2022-09-05 19:36:20 adapter_utils:52] Updating AlignmentEncoderAdapter Adapter input dim from 80 to 160\n",
      "[NeMo I 2022-09-05 19:36:20 adapter_utils:52] Updating AlignmentEncoderAdapter Adapter input dim from 160 to 80\n",
      "[NeMo I 2022-09-05 19:36:20 adapter_mixins:627] Setting adapter 'adapter' status : Enabled = False\n",
      "[NeMo I 2022-09-05 19:36:20 adapter_mixins:642] Setting adapter 'adapter' status : Enabled = True\n",
      "[NeMo I 2022-09-05 19:36:20 adapter_mixins:343] Unfrozen adapter : adapter\n",
      "Initializing distributed: GLOBAL_RANK: 0, MEMBER: 1/1\n",
      "Added key: store_based_barrier_key:1 to store for rank: 0\n",
      "Rank 0: Completed store-based barrier for key:store_based_barrier_key:1 with 1 nodes.\n",
      "----------------------------------------------------------------------------------------------------\n",
      "distributed_backend=nccl\n",
      "All distributed processes registered. Starting with 1 processes\n",
      "----------------------------------------------------------------------------------------------------\n",
      "\n",
      "LOCAL_RANK: 0 - CUDA_VISIBLE_DEVICES: [0,1]\n",
      "[NeMo I 2022-09-05 19:36:24 modelPT:585] Optimizer config = Adam (\n",
      "    Parameter Group 0\n",
      "        amsgrad: False\n",
      "        betas: [0.9, 0.999]\n",
      "        eps: 1e-08\n",
      "        lr: 0.0002\n",
      "        maximize: False\n",
      "        weight_decay: 0.0\n",
      "    )\n",
      "[NeMo I 2022-09-05 19:36:24 lr_scheduler:698] Scheduler not initialized as no `sched` config supplied to setup_optimizer()\n",
      "\n",
      "  | Name             | Type                              | Params\n",
      "-----------------------------------------------------------------------\n",
      "0 | mel_loss         | MelLoss                           | 0     \n",
      "1 | pitch_loss       | PitchLoss                         | 0     \n",
      "2 | duration_loss    | DurationLoss                      | 0     \n",
      "3 | aligner          | AlignmentEncoderAdapter           | 2.5 M \n",
      "4 | forward_sum_loss | ForwardSumLoss                    | 0     \n",
      "5 | bin_loss         | BinLoss                           | 0     \n",
      "6 | preprocessor     | AudioToMelSpectrogramPreprocessor | 0     \n",
      "7 | fastpitch        | FastPitchModule                   | 60.5 M\n",
      "-----------------------------------------------------------------------\n",
      "3.5 M     Trainable params\n",
      "57.0 M    Non-trainable params\n",
      "60.5 M    Total params\n",
      "241.889   Total estimated model params size (MB)\n",
      "Epoch 0:   0%|                                           | 0/10 [00:00<?, ?it/s][W reducer.cpp:1289] Warning: find_unused_parameters=True was specified in DDP constructor, but did not find any unused parameters in the forward pass. This flag results in an extra traversal of the autograd graph every iteration,  which can adversely affect performance. If your model indeed never has any unused parameters in the forward pass, consider turning this flag off. Note that this warning may be a false positive if your model has flow control causing later iterations to have unused parameters. (function operator())\n",
      "Epoch 1:  80%|█████████▌  | 8/10 [00:07<00:01,  1.05it/s, loss=5.08, v_num=test]^C\n",
      "[NeMo W 2022-09-05 19:36:49 nemo_logging:349] /home/chsieh/miniconda3/envs/nemo/lib/python3.8/site-packages/pytorch_lightning/trainer/trainer.py:726: UserWarning: Detected KeyboardInterrupt, attempting graceful shutdown...\n",
      "      rank_zero_warn(\"Detected KeyboardInterrupt, attempting graceful shutdown...\")\n",
      "    \n",
      "\u001b[34m\u001b[1mwandb\u001b[0m: Waiting for W&B process to finish... \u001b[32m(success).\u001b[0m\n",
      "^C34m\u001b[1mwandb\u001b[0m: - 0.426 MB of 0.426 MB uploaded (0.000 MB deduped)\n",
      "Traceback (most recent call last):\n",
      "  File \"NeMoTTS/fastpitch_finetune_multispeaker.py\", line 14, in <module>\n",
      "    import torch\n",
      "  File \"/home/chsieh/miniconda3/envs/nemo/lib/python3.8/site-packages/torch/__init__.py\", line 199, in <module>\n",
      "    from torch._C import *  # noqa: F403\n",
      "RuntimeError: KeyboardInterrupt: \n",
      "[NeMo W 2022-09-05 19:36:55 optimizers:55] Apex was not found. Using the lamb or fused_adam optimizer will error out.\n",
      "[NeMo W 2022-09-05 19:36:57 experimental:27] Module <class 'nemo.collections.tts.torch.tts_tokenizers.IPATokenizer'> is experimental, not ready for production and is not fully supported. Use at your own risk.\n",
      "GPU available: True, used: True\n",
      "TPU available: False, using: 0 TPU cores\n",
      "IPU available: False, using: 0 IPUs\n",
      "HPU available: False, using: 0 HPUs\n",
      "[NeMo I 2022-09-05 19:36:57 exp_manager:287] Experiments will be logged at NeMoTTS_logs/FastPitch/LibriTTS-speaker-260-test\n",
      "[NeMo I 2022-09-05 19:36:57 exp_manager:661] TensorboardLogger has been set up\n",
      "\u001b[34m\u001b[1mwandb\u001b[0m: Currently logged in as: \u001b[33mchengping\u001b[0m. Use \u001b[1m`wandb login --relogin`\u001b[0m to force relogin\n",
      "\u001b[34m\u001b[1mwandb\u001b[0m: wandb version 0.13.2 is available!  To upgrade, please run:\n",
      "\u001b[34m\u001b[1mwandb\u001b[0m:  $ pip install wandb --upgrade\n",
      "\u001b[34m\u001b[1mwandb\u001b[0m: Tracking run with wandb version 0.12.19\n",
      "\u001b[34m\u001b[1mwandb\u001b[0m: Run data is saved locally in \u001b[35m\u001b[1mNeMoTTS_logs/wandb/run-20220905_193658-LibriTTS-speaker-260-test\u001b[0m\n",
      "\u001b[34m\u001b[1mwandb\u001b[0m: Run \u001b[1m`wandb offline`\u001b[0m to turn off syncing.\n",
      "\u001b[34m\u001b[1mwandb\u001b[0m: Resuming run \u001b[33mtutorial-finetune\u001b[0m\n",
      "\u001b[34m\u001b[1mwandb\u001b[0m: ⭐️ View project at \u001b[34m\u001b[4mhttps://wandb.ai/chengping/NeMo\u001b[0m\n",
      "\u001b[34m\u001b[1mwandb\u001b[0m: 🚀 View run at \u001b[34m\u001b[4mhttps://wandb.ai/chengping/NeMo/runs/LibriTTS-speaker-260-test\u001b[0m\n",
      "[NeMo I 2022-09-05 19:36:58 exp_manager:676] WandBLogger has been set up\n",
      "[NeMo W 2022-09-05 19:36:58 nemo_logging:349] /home/chsieh/miniconda3/envs/nemo/lib/python3.8/site-packages/pytorch_lightning/loggers/base.py:235: LightningDeprecationWarning: `LoggerCollection` is deprecated in v1.6 and will be removed in v1.8. Directly pass a list of loggers to the Trainer and access the list via the `trainer.loggers` attribute.\n",
      "      rank_zero_deprecation(\n",
      "    \n",
      "[NeMo W 2022-09-05 19:36:58 nemo_logging:349] /home/chsieh/miniconda3/envs/nemo/lib/python3.8/site-packages/pytorch_lightning/trainer/trainer.py:2319: LightningDeprecationWarning: `Trainer.weights_save_path` has been deprecated in v1.6 and will be removed in v1.8.\n",
      "      rank_zero_deprecation(\"`Trainer.weights_save_path` has been deprecated in v1.6 and will be removed in v1.8.\")\n",
      "    \n"
     ]
    },
    {
     "name": "stderr",
     "output_type": "stream",
     "text": [
      "Exception ignored in: <function _releaseLock at 0x7fd7cd429040>\n",
      "Traceback (most recent call last):\n",
      "  File \"/home/chsieh/miniconda3/envs/nemo/lib/python3.8/logging/__init__.py\", line 223, in _releaseLock\n",
      "    def _releaseLock():\n",
      "KeyboardInterrupt: \n",
      "\n",
      "KeyboardInterrupt\n",
      "\n"
     ]
    }
   ],
   "source": [
    "for speaker_id in speaker_ids:\n",
    "    manifest_dir = f'{datadir}/LibriTTS/test-clean-manifest/{speaker_id}'\n",
    "    save_version = f'LibriTTS-speaker-{speaker_id}-test'\n",
    "    \n",
    "    !(python {codedir}/fastpitch_finetune_multispeaker.py --config-path={os.path.abspath(confdir)} --config-name=fastpitch_align_v1.05.yaml \\\n",
    "    sample_rate=22050 \\\n",
    "    train_dataset={manifest_dir}/train_manifest.json \\\n",
    "    validation_datasets={manifest_dir}/val_manifest.json \\\n",
    "    sup_data_types=\"['align_prior_matrix', 'pitch', 'speaker_id']\" \\\n",
    "    sup_data_path={suppdir} \\\n",
    "    +init_from_ptl_ckpt=\"/home/chsieh/chengping-ws/fastpitch/completed/emb-all-cat-cln2-gst-5-1151/FastPitch/2022-08-25_04-24-31/checkpoints/FastPitch--v_loss\\=0.7343-epoch\\=239.ckpt\" \\\n",
    "    pitch_mean={pitch_mean} \\\n",
    "    pitch_std={pitch_std} \\\n",
    "    pitch_fmin={pitch_min} \\\n",
    "    pitch_fmax={pitch_max} \\\n",
    "    finetune_multispeaker.freeze_all=True \\\n",
    "    finetune_multispeaker.add_random_speaker=False \\\n",
    "    finetune_multispeaker.add_weight_speaker=True \\\n",
    "    finetune_multispeaker.add_cln=False \\\n",
    "    finetune_multispeaker.add_adapter=True \\\n",
    "    finetune_multispeaker.add_lora=False \\\n",
    "    finetune_multispeaker.add_prefix=False \\\n",
    "    finetune_multispeaker.add_bitfit=False \\\n",
    "    model.n_speakers=100 \\\n",
    "    model.use_lookup_speaker=True \\\n",
    "    model.use_gst_speaker=True \\\n",
    "    model.input_fft.use_cat_speaker=True \\\n",
    "    model.output_fft.use_cat_speaker=True \\\n",
    "    model.duration_predictor.use_cat_speaker=True \\\n",
    "    model.pitch_predictor.use_cat_speaker=True \\\n",
    "    model.alignment_module.use_cat_speaker=True \\\n",
    "    model.input_fft.use_cln_speaker=True \\\n",
    "    model.output_fft.use_cln_speaker=True \\\n",
    "    model.duration_predictor.use_cln_speaker=True \\\n",
    "    model.pitch_predictor.use_cln_speaker=True \\\n",
    "    phoneme_dict_path={normdir}/cmudict-0.7b_nv22.08 \\\n",
    "    heteronyms_path={normdir}/heteronyms-052722 \\\n",
    "    whitelist_path={normdir}/lj_speech.tsv \\\n",
    "    model.train_ds.dataloader_params.batch_size=8 \\\n",
    "    model.validation_ds.dataloader_params.batch_size=8 \\\n",
    "    model.train_ds.dataloader_params.num_workers=8 \\\n",
    "    model.validation_ds.dataloader_params.num_workers=8 \\\n",
    "    ~model.train_ds.dataset.use_beta_binomial_interpolator \\\n",
    "    ~model.validation_ds.dataset.use_beta_binomial_interpolator \\\n",
    "    model.optim.lr=2e-4 \\\n",
    "    ~model.optim.sched \\\n",
    "    model.optim.name=adam \\\n",
    "    model.optim.weight_decay=0.0 \\\n",
    "    +model.text_tokenizer.add_blank_at=True \\\n",
    "    trainer.check_val_every_n_epoch=100 \\\n",
    "    trainer.max_epochs=100 \\\n",
    "    trainer.log_every_n_steps=1 \\\n",
    "    trainer.devices=1 \\\n",
    "    trainer.strategy=ddp \\\n",
    "    trainer.precision=32 \\\n",
    "    exp_manager.exp_dir={logsdir} \\\n",
    "    +exp_manager.create_wandb_logger=True \\\n",
    "    +exp_manager.version={save_version} \\\n",
    "    +exp_manager.wandb_logger_kwargs.name=\"tutorial-finetune\" \\\n",
    "    +exp_manager.wandb_logger_kwargs.project=\"NeMo\" \\\n",
    "    +exp_manager.checkpoint_callback_params.save_top_k=-1 \\\n",
    "    )"
   ]
  },
  {
   "cell_type": "markdown",
   "id": "a2585faa-396c-43aa-8115-8513b434a031",
   "metadata": {},
   "source": [
    "# 4. Inference"
   ]
  },
  {
   "cell_type": "code",
   "execution_count": 225,
   "id": "10fdc4c0-a02c-401a-89fe-aa4c97808e0e",
   "metadata": {},
   "outputs": [],
   "source": [
    "import os\n",
    "import json\n",
    "import torch\n",
    "import numpy as np\n",
    "from tqdm import tqdm\n",
    "from pathlib import Path\n",
    "from collections import defaultdict\n",
    "from nemo.collections.tts.models import HifiGanModel\n",
    "from nemo.collections.tts.models import FastPitchModel\n",
    "from nemo.collections.tts.torch.helpers import get_base_dir\n",
    "from nemo.collections.tts.modules.speaker_modules import Weighted_SpeakerEmbedding\n",
    "from nemo.collections.asr.parts.preprocessing.features import WaveformFeaturizer\n",
    "from nemo.collections.common.parts import adapter_modules\n",
    "import IPython.display as ipd\n",
    "import pickle\n",
    "import fnmatch"
   ]
  },
  {
   "cell_type": "code",
   "execution_count": 218,
   "id": "5ed2f2cf-24be-467d-b87a-efcdaae40427",
   "metadata": {},
   "outputs": [],
   "source": [
    "def gt_spectrogram(wave_model, spec_gen_model, audio_path):\n",
    "    features = wave_model.process(audio_path, trim=False)\n",
    "    audio, audio_length = features, torch.tensor(features.shape[0]).long()\n",
    "    audio = audio.unsqueeze(0).to(device=spec_gen_model.device)\n",
    "    audio_length = audio_length.unsqueeze(0).to(device=spec_gen_model.device)\n",
    "    with torch.no_grad():\n",
    "        spectrogram, spec_len = spec_gen_model.preprocessor(input_signal=audio, length=audio_length)\n",
    "    return spectrogram, spec_len\n",
    "\n",
    "def gen_spectrogram(spec_gen_model, str_input, speaker, ref_spec, ref_spec_len):\n",
    "    parsed = spec_gen_model.parse(str_input)\n",
    "    speaker = torch.tensor([speaker]).long().to(device=spec_gen_model.device)\n",
    "    with torch.no_grad():    \n",
    "        spectrogram = spec_gen_model.generate_spectrogram(tokens=parsed, speaker=speaker, ref_spec=ref_spec, ref_spec_lens=ref_spec_len)\n",
    "    return spectrogram\n",
    "  \n",
    "    \n",
    "def sync_audio(vocoder_model, spectrogram):    \n",
    "    with torch.no_grad():  \n",
    "        audio = vocoder_model.convert_spectrogram_to_audio(spec=spectrogram)\n",
    "    if isinstance(audio, torch.Tensor):\n",
    "        audio = audio.to('cpu').numpy()\n",
    "    return audio\n",
    "\n",
    "\n",
    "def mse_metrics(spec_gen_model, file_id, str_input, speaker, spec_tgt, spec_tgt_lens, pitch_mean, pitch_std):\n",
    "    text = spec_gen_model.parse(str_input)\n",
    "    text_lens = torch.tensor(text.shape[1]).long().unsqueeze(0).to(device=spec_gen_model.device)\n",
    "    speaker = torch.tensor([speaker]).long().to(device=spec_gen_model.device)\n",
    "\n",
    "    pitch = torch.load(os.path.join(f\"{suppdir}/pitch\", f\"{file_id}.pt\")).to(spec_gen_model.device)\n",
    "\n",
    "    pitch -= pitch_mean\n",
    "    pitch[pitch == -pitch_mean] = 0.0\n",
    "    pitch /= pitch_std\n",
    "    pitch = pitch.unsqueeze(0)\n",
    "\n",
    "    attn_prior = torch.load(os.path.join(f\"{suppdir}/align_prior_matrix\", f\"{file_id}.pt\")).to(spec_gen_model.device) \n",
    "    attn_prior = attn_prior.unsqueeze(0)\n",
    "        \n",
    "    with torch.no_grad():    \n",
    "        _, _, _, log_durs_pred, pitch_pred, _, _, _, durs, pitch = spec_gen_model(\n",
    "            text=text,\n",
    "            durs=None,\n",
    "            pitch=pitch,\n",
    "            speaker=speaker,\n",
    "            pace=1.0,\n",
    "            spec=spec_tgt,\n",
    "            attn_prior=attn_prior,\n",
    "            mel_lens=spec_tgt_lens,\n",
    "            input_lens=text_lens\n",
    "        )\n",
    "        pitch_loss = spec_gen_model.pitch_loss(pitch_predicted=pitch_pred, pitch_tgt=pitch, len=text_lens)\n",
    "        dur_loss = spec_gen_model.duration_loss(log_durs_predicted=log_durs_pred, durs_tgt=durs, len=text_lens)\n",
    "\n",
    "        \n",
    "    return pitch_loss.item(), dur_loss.item()"
   ]
  },
  {
   "cell_type": "code",
   "execution_count": 202,
   "id": "3f92e2fa-0dbf-4f60-8e4c-b996a1780d08",
   "metadata": {},
   "outputs": [
    {
     "name": "stderr",
     "output_type": "stream",
     "text": [
      "[NeMo W 2022-09-05 16:06:22 modelPT:149] If you intend to do training or fine-tuning, please call the ModelPT.setup_training_data() method and provide a valid configuration file to setup the train data loader.\n",
      "    Train config : \n",
      "    dataset:\n",
      "      _target_: nemo.collections.tts.torch.data.VocoderDataset\n",
      "      manifest_filepath: /ws/mel-dataset/Libritts-FP-emb-catclngst-mels-22k/hifigan_train.json\n",
      "      sample_rate: 22050\n",
      "      n_segments: 8192\n",
      "      max_duration: null\n",
      "      min_duration: 0.75\n",
      "      load_precomputed_mel: true\n",
      "      hop_length: 256\n",
      "    dataloader_params:\n",
      "      drop_last: false\n",
      "      shuffle: true\n",
      "      batch_size: 64\n",
      "      num_workers: 4\n",
      "      pin_memory: true\n",
      "    \n",
      "[NeMo W 2022-09-05 16:06:22 modelPT:156] If you intend to do validation, please call the ModelPT.setup_validation_data() or ModelPT.setup_multiple_validation_data() method and provide a valid configuration file to setup the validation data loader(s). \n",
      "    Validation config : \n",
      "    dataset:\n",
      "      _target_: nemo.collections.tts.torch.data.VocoderDataset\n",
      "      manifest_filepath: /ws/mel-dataset/Libritts-FP-emb-catclngst-mels-22k/hifigan_val.json\n",
      "      sample_rate: 22050\n",
      "      n_segments: 66048\n",
      "      max_duration: null\n",
      "      min_duration: 3\n",
      "      load_precomputed_mel: true\n",
      "      hop_length: 256\n",
      "    dataloader_params:\n",
      "      drop_last: false\n",
      "      shuffle: false\n",
      "      batch_size: 16\n",
      "      num_workers: 4\n",
      "      pin_memory: true\n",
      "    \n"
     ]
    },
    {
     "name": "stdout",
     "output_type": "stream",
     "text": [
      "[NeMo I 2022-09-05 16:06:22 features:200] PADDING: 0\n",
      "[NeMo I 2022-09-05 16:06:22 features:208] STFT using exact pad\n",
      "[NeMo I 2022-09-05 16:06:22 features:200] PADDING: 0\n",
      "[NeMo I 2022-09-05 16:06:22 features:208] STFT using exact pad\n"
     ]
    }
   ],
   "source": [
    "os.makedirs(gensdir, exist_ok=True)\n",
    "sample_rate = 22050\n",
    "wave_model = WaveformFeaturizer(sample_rate=sample_rate)\n",
    "vocoder_model = HifiGanModel.load_from_checkpoint(checkpoint_path='/home/chsieh/chengping-ws/hifigan/inprogress/3184548_/HifiGan/2022-07-30_00-28-02/checkpoints/HifiGan--val_loss=0.4694-epoch=1799.ckpt')\n",
    "vocoder_model = vocoder_model.eval().cuda()"
   ]
  },
  {
   "cell_type": "code",
   "execution_count": 205,
   "id": "bb5f7ee4-f8bb-471b-b5b0-d4d43fa8b154",
   "metadata": {},
   "outputs": [],
   "source": [
    "ckpts = {}\n",
    "for speaker_id in [1089, 260]:\n",
    "    path = f'{logsdir}/FastPitch/LibriTTS-speaker-{speaker_id}/checkpoints'\n",
    "    ckpt = sorted(os.listdir(path))[0]\n",
    "    ckpts[f\"{speaker_id}\"] =  os.path.join(path, ckpt)"
   ]
  },
  {
   "cell_type": "code",
   "execution_count": 206,
   "id": "3128af5f-1d8d-4aaa-8f51-cd8c6c42aed9",
   "metadata": {},
   "outputs": [],
   "source": [
    "total_pitch_mse = []\n",
    "total_dur_mse   = []"
   ]
  },
  {
   "cell_type": "code",
   "execution_count": 251,
   "id": "57b36186-5887-4bf7-97f0-c3d35f61b4fa",
   "metadata": {},
   "outputs": [
    {
     "name": "stderr",
     "output_type": "stream",
     "text": [
      "  0%|                                                                                                                                                                                                                                                                                           | 0/2 [00:00<?, ?it/s]"
     ]
    },
    {
     "name": "stdout",
     "output_type": "stream",
     "text": [
      "[NeMo I 2022-09-05 17:15:45 tokenize_and_classify:87] Creating ClassifyFst grammars.\n"
     ]
    },
    {
     "name": "stderr",
     "output_type": "stream",
     "text": [
      "[NeMo W 2022-09-05 17:16:19 g2ps:86] apply_to_oov_word=None, This means that some of words will remain unchanged if they are not handled by any of the rules in self.parse_one_word(). This may be intended if phonemes and chars are both valid inputs, otherwise, you may see unexpected deletions in your input.\n",
      "[NeMo W 2022-09-05 17:16:19 modelPT:149] If you intend to do training or fine-tuning, please call the ModelPT.setup_training_data() method and provide a valid configuration file to setup the train data loader.\n",
      "    Train config : \n",
      "    dataset:\n",
      "      _target_: nemo.collections.tts.torch.data.TTSDataset\n",
      "      manifest_filepath: NeMoTTS_dataset/LibriTTS/test-clean-manifest/1089/train_manifest.json\n",
      "      sample_rate: 22050\n",
      "      sup_data_path: NeMoTTS_sup_data\n",
      "      sup_data_types:\n",
      "      - align_prior_matrix\n",
      "      - pitch\n",
      "      - speaker_id\n",
      "      n_fft: 1024\n",
      "      win_length: 1024\n",
      "      hop_length: 256\n",
      "      window: hann\n",
      "      n_mels: 80\n",
      "      lowfreq: 0\n",
      "      highfreq: 8000\n",
      "      max_duration: null\n",
      "      min_duration: 0.1\n",
      "      ignore_file: null\n",
      "      trim: false\n",
      "      pitch_fmin: 65.4063949584961\n",
      "      pitch_fmax: 2033.4207763671875\n",
      "      pitch_norm: true\n",
      "      pitch_mean: 126.26545715332031\n",
      "      pitch_std: 54.91073226928711\n",
      "    dataloader_params:\n",
      "      drop_last: false\n",
      "      shuffle: true\n",
      "      batch_size: 8\n",
      "      num_workers: 8\n",
      "      pin_memory: true\n",
      "    \n",
      "[NeMo W 2022-09-05 17:16:19 modelPT:156] If you intend to do validation, please call the ModelPT.setup_validation_data() or ModelPT.setup_multiple_validation_data() method and provide a valid configuration file to setup the validation data loader(s). \n",
      "    Validation config : \n",
      "    dataset:\n",
      "      _target_: nemo.collections.tts.torch.data.TTSDataset\n",
      "      manifest_filepath: NeMoTTS_dataset/LibriTTS/test-clean-manifest/1089/val_manifest.json\n",
      "      sample_rate: 22050\n",
      "      sup_data_path: NeMoTTS_sup_data\n",
      "      sup_data_types:\n",
      "      - align_prior_matrix\n",
      "      - pitch\n",
      "      - speaker_id\n",
      "      n_fft: 1024\n",
      "      win_length: 1024\n",
      "      hop_length: 256\n",
      "      window: hann\n",
      "      n_mels: 80\n",
      "      lowfreq: 0\n",
      "      highfreq: 8000\n",
      "      max_duration: null\n",
      "      min_duration: null\n",
      "      ignore_file: null\n",
      "      trim: false\n",
      "      pitch_fmin: 65.4063949584961\n",
      "      pitch_fmax: 2033.4207763671875\n",
      "      pitch_norm: true\n",
      "      pitch_mean: 126.26545715332031\n",
      "      pitch_std: 54.91073226928711\n",
      "    dataloader_params:\n",
      "      drop_last: false\n",
      "      shuffle: false\n",
      "      batch_size: 8\n",
      "      num_workers: 8\n",
      "      pin_memory: true\n",
      "    \n"
     ]
    },
    {
     "name": "stdout",
     "output_type": "stream",
     "text": [
      "[NeMo I 2022-09-05 17:16:19 features:200] PADDING: 1\n",
      "[NeMo I 2022-09-05 17:16:20 adapter_utils:52] Updating TemporalPredictorAdapter Adapter input dim from 384 to 256\n",
      "[NeMo I 2022-09-05 17:16:20 adapter_utils:52] Updating TemporalPredictorAdapter Adapter input dim from 384 to 256\n",
      "[NeMo I 2022-09-05 17:16:20 adapter_utils:52] Updating AlignmentEncoderAdapter Adapter input dim from 384 to 768\n",
      "[NeMo I 2022-09-05 17:16:20 adapter_utils:52] Updating AlignmentEncoderAdapter Adapter input dim from 768 to 80\n",
      "[NeMo I 2022-09-05 17:16:20 adapter_utils:52] Updating AlignmentEncoderAdapter Adapter input dim from 80 to 160\n",
      "[NeMo I 2022-09-05 17:16:20 adapter_utils:52] Updating AlignmentEncoderAdapter Adapter input dim from 160 to 80\n",
      "[NeMo I 2022-09-05 17:16:20 adapter_mixins:627] Setting adapter 'adapter' status : Enabled = False\n",
      "[NeMo I 2022-09-05 17:16:20 adapter_mixins:642] Setting adapter 'adapter' status : Enabled = True\n",
      "[NeMo I 2022-09-05 17:16:20 adapter_mixins:343] Unfrozen adapter : adapter\n",
      "Speaker: 1089 | Text: Was it a quaint device opening a page of some medieval book of prophecies and symbols, a hawk like man flying sunward above the sea, a prophecy of the end he had been born to serve and had been following through the mists of childhood and boyhood, a symbol of the artist forging anew in his workshop out of the sluggish matter of the earth a new soaring impalpable imperishable being?\n",
      "Speaker: 1089 | Text: If ever his soul, re entering her dwelling shyly after the frenzy of his body's lust had spent itself, was turned towards her whose emblem is the morning star, BRIGHT AND MUSICAL, TELLING OF HEAVEN AND INFUSING PEACE, it was when her names were murmured softly by lips whereon there still lingered foul and shameful words, the savour itself of a lewd kiss.\n",
      "Speaker: 1089 | Text: Yet as he prowled in quest of that call, his senses, stultified only by his desire, would note keenly all that wounded or shamed them; his eyes, a ring of porter froth on a clothless table or a photograph of two soldiers standing to attention or a gaudy playbill; his ears, the drawling jargon of greeting:\n",
      "Speaker: 1089 | Text: Their bodies, corpse white or suffused with a pallid golden light or rawly tanned by the sun, gleamed with the wet of the sea. Their diving stone, poised on its rude supports and rocking under their plunges, and the rough hewn stones of the sloping breakwater over which they scrambled in their horseplay gleamed with cold wet lustre.\n",
      "Speaker: 1089 | Text: On Sunday mornings as he passed the church door he glanced coldly at the worshippers who stood bareheaded, four deep, outside the church, morally present at the mass which they could neither see nor hear. Their dull piety and the sickly smell of the cheap hair oil with which they had anointed their heads repelled him from the altar they prayed at.\n",
      "Speaker: 1089 | Text: The equation on the page of his scribbler began to spread out a widening tail, eyed and starred like a peacock's; and, when the eyes and stars of its indices had been eliminated, began slowly to fold itself together again.\n",
      "Speaker: 1089 | Text: For a full hour he had paced up and down, waiting: but he could wait no longer.\n",
      "Speaker: 1089 | Text: If a layman in giving baptism pour the water before saying the words is the child baptized?\n",
      "Speaker: 1089 | Text: He was unheeded, happy and near to the wild heart of life.\n",
      "Speaker: 1089 | Text: Instead the vital wave had carried him on its bosom out of himself and back again when it receded: and no part of body or soul had been maimed but a dark peace had been established between them.\n",
      "Speaker: 1089 | Text: The rector did not ask for a catechism to hear the lesson from.\n",
      "Speaker: 1089 | Text: Her eyes had called him and his soul had leaped at the call.\n",
      "Speaker: 1089 | Text: A boy from his post at the window had seen the rector come from the house.\n",
      "Speaker: 1089 | Text: The dull light fell more faintly upon the page whereon another equation began to unfold itself slowly and to spread abroad its widening tail. It was his own soul going forth to experience, unfolding itself sin by sin, spreading abroad the bale fire of its burning stars and folding back upon itself, fading slowly, quenching its own lights and fires. They were quenched: and the cold darkness filled chaos.\n",
      "Speaker: 1089 | Text: What hour was it?\n",
      "Speaker: 1089 | Text: What did it avail to pray when he knew that his soul lusted after its own destruction?\n",
      "Speaker: 1089 | Text: Their feet passed in pattering tumult over his mind, the feet of hares and rabbits, the feet of harts and hinds and antelopes, until he heard them no more and remembered only a proud cadence from Newman:\n",
      "Speaker: 1089 | Text: It was strange too that he found an arid pleasure in following up to the end the rigid lines of the doctrines of the church and penetrating into obscure silences only to hear and feel the more deeply his own condemnation.\n",
      "Speaker: 1089 | Text: His soul was swooning into some new world, fantastic, dim, uncertain as under sea, traversed by cloudy shapes and beings.\n",
      "Speaker: 1089 | Text: --He had the faith in him that moves mountains.\n",
      "Speaker: 1089 | Text: At his first violent sin he had felt a wave of vitality pass out of him and had feared to find his body or his soul maimed by the excess.\n",
      "Speaker: 1089 | Text: The Europe they had come from lay out there beyond the Irish Sea, Europe of strange tongues and valleyed and woodbegirt and citadelled and of entrenched and marshalled races.\n",
      "Speaker: 1089 | Text: The vast cycle of starry life bore his weary mind outward to its verge and inward to its centre, a distant music accompanying him outward and inward.\n",
      "Speaker: 1089 | Text: The imagery of the psalms of prophecy soothed his barren pride.\n",
      "Speaker: 1089 | Text: Why was the sacrament of the eucharist instituted under the two species of bread and wine if Jesus Christ be present body and blood, soul and divinity, in the bread alone and in the wine alone?\n"
     ]
    },
    {
     "name": "stderr",
     "output_type": "stream",
     "text": [
      " 50%|█████████████████████████████████████████████████████████████████████████████████████████████████████████████████████████████████████████▌                                                                                                                                         | 1/2 [00:56<00:56, 56.79s/it]"
     ]
    },
    {
     "name": "stdout",
     "output_type": "stream",
     "text": [
      "[NeMo I 2022-09-05 17:16:42 tokenize_and_classify:87] Creating ClassifyFst grammars.\n"
     ]
    },
    {
     "name": "stderr",
     "output_type": "stream",
     "text": [
      "[NeMo W 2022-09-05 17:17:15 g2ps:86] apply_to_oov_word=None, This means that some of words will remain unchanged if they are not handled by any of the rules in self.parse_one_word(). This may be intended if phonemes and chars are both valid inputs, otherwise, you may see unexpected deletions in your input.\n",
      "[NeMo W 2022-09-05 17:17:15 modelPT:149] If you intend to do training or fine-tuning, please call the ModelPT.setup_training_data() method and provide a valid configuration file to setup the train data loader.\n",
      "    Train config : \n",
      "    dataset:\n",
      "      _target_: nemo.collections.tts.torch.data.TTSDataset\n",
      "      manifest_filepath: NeMoTTS_dataset/LibriTTS/test-clean-manifest/260/train_manifest.json\n",
      "      sample_rate: 22050\n",
      "      sup_data_path: NeMoTTS_sup_data\n",
      "      sup_data_types:\n",
      "      - align_prior_matrix\n",
      "      - pitch\n",
      "      - speaker_id\n",
      "      n_fft: 1024\n",
      "      win_length: 1024\n",
      "      hop_length: 256\n",
      "      window: hann\n",
      "      n_mels: 80\n",
      "      lowfreq: 0\n",
      "      highfreq: 8000\n",
      "      max_duration: null\n",
      "      min_duration: 0.1\n",
      "      ignore_file: null\n",
      "      trim: false\n",
      "      pitch_fmin: 65.4063949584961\n",
      "      pitch_fmax: 499.6219482421875\n",
      "      pitch_norm: true\n",
      "      pitch_mean: 147.02818298339844\n",
      "      pitch_std: 42.88420104980469\n",
      "    dataloader_params:\n",
      "      drop_last: false\n",
      "      shuffle: true\n",
      "      batch_size: 8\n",
      "      num_workers: 8\n",
      "      pin_memory: true\n",
      "    \n",
      "[NeMo W 2022-09-05 17:17:15 modelPT:156] If you intend to do validation, please call the ModelPT.setup_validation_data() or ModelPT.setup_multiple_validation_data() method and provide a valid configuration file to setup the validation data loader(s). \n",
      "    Validation config : \n",
      "    dataset:\n",
      "      _target_: nemo.collections.tts.torch.data.TTSDataset\n",
      "      manifest_filepath: NeMoTTS_dataset/LibriTTS/test-clean-manifest/260/val_manifest.json\n",
      "      sample_rate: 22050\n",
      "      sup_data_path: NeMoTTS_sup_data\n",
      "      sup_data_types:\n",
      "      - align_prior_matrix\n",
      "      - pitch\n",
      "      - speaker_id\n",
      "      n_fft: 1024\n",
      "      win_length: 1024\n",
      "      hop_length: 256\n",
      "      window: hann\n",
      "      n_mels: 80\n",
      "      lowfreq: 0\n",
      "      highfreq: 8000\n",
      "      max_duration: null\n",
      "      min_duration: null\n",
      "      ignore_file: null\n",
      "      trim: false\n",
      "      pitch_fmin: 65.4063949584961\n",
      "      pitch_fmax: 499.6219482421875\n",
      "      pitch_norm: true\n",
      "      pitch_mean: 147.02818298339844\n",
      "      pitch_std: 42.88420104980469\n",
      "    dataloader_params:\n",
      "      drop_last: false\n",
      "      shuffle: false\n",
      "      batch_size: 8\n",
      "      num_workers: 8\n",
      "      pin_memory: true\n",
      "    \n"
     ]
    },
    {
     "name": "stdout",
     "output_type": "stream",
     "text": [
      "[NeMo I 2022-09-05 17:17:15 features:200] PADDING: 1\n",
      "[NeMo I 2022-09-05 17:17:16 adapter_utils:52] Updating TemporalPredictorAdapter Adapter input dim from 384 to 256\n",
      "[NeMo I 2022-09-05 17:17:16 adapter_utils:52] Updating TemporalPredictorAdapter Adapter input dim from 384 to 256\n",
      "[NeMo I 2022-09-05 17:17:16 adapter_utils:52] Updating AlignmentEncoderAdapter Adapter input dim from 384 to 768\n",
      "[NeMo I 2022-09-05 17:17:16 adapter_utils:52] Updating AlignmentEncoderAdapter Adapter input dim from 768 to 80\n",
      "[NeMo I 2022-09-05 17:17:16 adapter_utils:52] Updating AlignmentEncoderAdapter Adapter input dim from 80 to 160\n",
      "[NeMo I 2022-09-05 17:17:16 adapter_utils:52] Updating AlignmentEncoderAdapter Adapter input dim from 160 to 80\n",
      "[NeMo I 2022-09-05 17:17:16 adapter_mixins:627] Setting adapter 'adapter' status : Enabled = False\n",
      "[NeMo I 2022-09-05 17:17:16 adapter_mixins:642] Setting adapter 'adapter' status : Enabled = True\n",
      "[NeMo I 2022-09-05 17:17:16 adapter_mixins:343] Unfrozen adapter : adapter\n",
      "Speaker: 260 | Text: Other flashes with incessant play cross their vivid fires, while others again roll themselves into balls of living fire which explode like bombshells, but the music of which scarcely adds to the din of the battle strife that almost deprives us of our senses of hearing and sight; the limit of intense loudness has been passed within which the human ear can distinguish one sound from another.\n",
      "Speaker: 260 | Text: From the under surface of the clouds there are continual emissions of lurid light; electric matter is in continual evolution from their component molecules; the gaseous elements of the air need to be slaked with moisture; for innumerable columns of water rush upwards into the air and fall back again in white foam.\n",
      "Speaker: 260 | Text: Just then she heard something splashing about in the pool a little way off, and she swam nearer to make out what it was: at first she thought it must be a walrus or hippopotamus, but then she remembered how small she was now, and she soon made out that it was only a mouse that had slipped in like herself.\n",
      "Speaker: 260 | Text: 'Would it be of any use, now,' thought Alice, 'to speak to this mouse? Everything is so out of the way down here, that I should think very likely it can talk: at any rate, there's no harm in trying.' So she began: 'O Mouse, do you know the way out of this pool?\n",
      "Speaker: 260 | Text: 'I'm sure those are not the right words,' said poor Alice, and her eyes filled with tears again as she went on, 'I must be Mabel after all, and I shall have to go and live in that poky little house, and have next to no toys to play with, and oh! ever so many lessons to learn!\n",
      "Speaker: 260 | Text: The night was fearful; no abatement of the storm.\n",
      "Speaker: 260 | Text: The danger is approaching.\n",
      "Speaker: 260 | Text: The clouds are sinking lower, and assume an olive hue.\n",
      "Speaker: 260 | Text: No, I've made up my mind about it; if I'm Mabel, I'll stay down here!\n",
      "Speaker: 260 | Text: \"What does that signify?\n",
      "Speaker: 260 | Text: \"-You seem anxious, my uncle,\" I said, seeing him continually with his glass to his eye.\n",
      "Speaker: 260 | Text: He examines the horizon all round with his glass, and folds his arms with the air of an injured man.\n",
      "Speaker: 260 | Text: From time to time a fleecy tuft of mist, with yet some gleaming light left upon it, drops down upon the dense floor of grey, and loses itself in the opaque and impenetrable mass.\n",
      "Speaker: 260 | Text: Good bye, feet!' (for when she looked down at her feet, they seemed to be almost out of sight, they were getting so far off). 'Oh, my poor little feet, I wonder who will put on your shoes and stockings for you now, dears?\n",
      "Speaker: 260 | Text: He nods his consent.\n",
      "Speaker: 260 | Text: \"But,\" I remarked, \"since we have followed the road that Saknussemm has shown us-\"\n",
      "Speaker: 260 | Text: What a very bad notion that was of his, I thought to myself, to take soundings just here!\n",
      "Speaker: 260 | Text: My eyes fail under the dazzling light, my ears are stunned with the incessant crash of thunder.\n",
      "Speaker: 260 | Text: His temper is awful, to judge from the working of his features, as he sees this vast length of ocean unrolling before him to an indefinite extent.\n",
      "Speaker: 260 | Text: Is it riveted to the planks?\n",
      "Speaker: 260 | Text: Several minutes pass by while the fight goes on under water.\n",
      "Speaker: 260 | Text: Let me see: I'll give them a new pair of boots every Christmas.'\n",
      "Speaker: 260 | Text: The struggle continues with unabated ferocity.\n",
      "Speaker: 260 | Text: \"There's a heavy storm coming on,\" I cried, pointing towards the horizon.\n",
      "Speaker: 260 | Text: How queer everything is to day!\n"
     ]
    },
    {
     "name": "stderr",
     "output_type": "stream",
     "text": [
      "100%|███████████████████████████████████████████████████████████████████████████████████████████████████████████████████████████████████████████████████████████████████████████████████████████████████████████████████████████████████████████████████████████████████████████████████| 2/2 [02:05<00:00, 62.79s/it]\n"
     ]
    },
    {
     "data": {
      "image/png": "[encoded data removed]",
      "text/plain": [
       "<Figure size 432x288 with 1 Axes>"
      ]
     },
     "metadata": {
      "needs_background": "light"
     },
     "output_type": "display_data"
    }
   ],
   "source": [
    "for speaker_id, spec_model_ckpt in tqdm(ckpts.items()):\n",
    "    \n",
    "    gensdir_user = os.path.join(gensdir, speaker_id)\n",
    "    os.makedirs(gensdir_user, exist_ok=True)\n",
    "    \n",
    "    spec_model = FastPitchModel.load_from_checkpoint(spec_model_ckpt, strict=False)\n",
    "    state_dict = torch.load(spec_model_ckpt)['state_dict']\n",
    "    has_adapter = any(['adapter' in k for k in state_dict.keys()])\n",
    "    has_lora = any(['lora' in k for k in state_dict.keys()])\n",
    "    has_prefix = any(['prefix' in k for k in state_dict.keys()])\n",
    "    \n",
    "    if has_adapter:\n",
    "        adapter_cfg = adapter_modules.LinearAdapterConfig(\n",
    "            in_features=spec_model.cfg.output_fft.d_model,  # conformer specific model dim. Every layer emits this dim at its output.\n",
    "            dim=256,  # the bottleneck dimension of the adapter\n",
    "            activation='swish',  # activation used in bottleneck block\n",
    "            norm_position='pre',  # whether to use LayerNorm at the beginning or the end of the adapter\n",
    "        )\n",
    "        spec_model.add_adapter(name='encoder+decoder+duration_predictor+pitch_predictor+aligner:adapter', cfg=adapter_cfg)\n",
    "        spec_model.set_enabled_adapters(enabled=False)\n",
    "        spec_model.set_enabled_adapters('adapter', enabled=True)\n",
    "        spec_model.unfreeze_enabled_adapters()\n",
    "        \n",
    "    if has_lora:\n",
    "        lora_cfg = adapter_modules.LoraConfig(\n",
    "            in_features=spec_model.cfg.output_fft.d_model, \n",
    "            out_features=spec_model.cfg.output_fft.n_head * spec_model.cfg.output_fft.d_head,\n",
    "            r=256, \n",
    "            alpha=8,\n",
    "            dropout=0.9,\n",
    "        )\n",
    "        spec_model.add_lora(name='encoder+decoder:lora', cfg=lora_cfg)\n",
    "        spec_model.set_enabled_loras(enabled=False)\n",
    "        spec_model.set_enabled_loras('lora', enabled=True)\n",
    "        spec_model.unfreeze_enabled_loras()\n",
    "    \n",
    "    if has_prefix:\n",
    "        prefix_cfg = adapter_modules.PrefixConfig(\n",
    "            in_features=spec_model.cfg.output_fft.n_head * spec_model.cfg.output_fft.d_head, \n",
    "            dim=256,\n",
    "            prefix_length=30,\n",
    "            dropout=0.9,\n",
    "        )\n",
    "        spec_model.add_prefix(name='encoder+decoder:prefix', cfg=prefix_cfg)\n",
    "        spec_model.set_enabled_prefixs(enabled=False)\n",
    "        spec_model.set_enabled_prefixs('prefix', enabled=True)\n",
    "        spec_model.unfreeze_enabled_prefixs()        \n",
    "\n",
    "    spec_model.fastpitch.speaker_emb = Weighted_SpeakerEmbedding(pretrained_embedding=spec_model.fastpitch.speaker_emb)\n",
    "    spec_model.load_state_dict(state_dict)\n",
    "    spec_model.eval().cuda()\n",
    "    \n",
    "    manifest_dir = f'{datadir}/LibriTTS/test-clean-manifest/{speaker_id}'\n",
    "    \n",
    "    num_ref = 5\n",
    "    ref_records = []\n",
    "    with open(f\"{manifest_dir}/train_manifest.json\", \"r\") as f:\n",
    "        for i, line in enumerate(f):\n",
    "            if len(ref_records) >= num_ref:\n",
    "                break\n",
    "            ref_records.append(json.loads(line))\n",
    "    \n",
    "    num_test = 20\n",
    "    test_records = []\n",
    "    with open(f\"{manifest_dir}/val_manifest.json\", \"r\") as f:\n",
    "        for i, line in enumerate(f):\n",
    "            test_records.append(json.loads(line))\n",
    "            if len(test_records) >= num_test:\n",
    "                break\n",
    "                \n",
    "    with open(f\"{manifest_dir}/pitch_stats.json\", \"r\") as f:\n",
    "        stats = json.load(f)\n",
    "        pitch_mean = stats['pitch'][0]\n",
    "        pitch_std  = stats['pitch'][1]\n",
    "        \n",
    "    base_data_dir = get_base_dir([item[\"audio_filepath\"] for item in test_records])  \n",
    "        \n",
    "    for i, ref_record in enumerate(ref_records):\n",
    "        print(f\"Speaker: {ref_record['ori_speaker']} | Text: {ref_record['text']}\")\n",
    "        # Write Reference Audio\n",
    "        audio = ipd.Audio(ref_record['audio_filepath'], rate=sample_rate)\n",
    "        with open(os.path.join(gensdir_user, f'Ref-{i}.wav'), 'wb') as f: \n",
    "            f.write(audio.data)   \n",
    "        \n",
    "    for i, test_record in enumerate(test_records):\n",
    "        print(f\"Speaker: {test_record['ori_speaker']} | Text: {test_record['text']}\")\n",
    "        \n",
    "        # Write Text\n",
    "        with open(os.path.join(gensdir_user, f'{i}-text.txt'), 'w') as f: \n",
    "            f.write(test_record['text'])\n",
    "            \n",
    "        # Write Ground Truth Audio\n",
    "        audio = ipd.Audio(test_record['audio_filepath'], rate=sample_rate)\n",
    "        with open(os.path.join(gensdir_user, f'{i}-GT.wav'), 'wb') as f: \n",
    "            f.write(audio.data)\n",
    "            \n",
    "        # Write Ground Truth Spectrogram Audio and Figure\n",
    "        spec_gt, spec_gt_len = gt_spectrogram(wave_model, spec_model, test_record['audio_filepath'])\n",
    "        audio = sync_audio(vocoder_model, spec_gt)\n",
    "        audio = ipd.Audio(audio, rate=sample_rate)\n",
    "        with open(os.path.join(gensdir_user, f'{i}-GTmel.wav'), 'wb') as f: \n",
    "            f.write(audio.data)\n",
    "            \n",
    "            \n",
    "        plt.imshow(spec_gt.to('cpu').numpy()[0], origin=\"lower\", aspect=\"auto\")\n",
    "        plt.savefig(os.path.join(gensdir_user, f'{i}-GTmel.png'))\n",
    "        \n",
    "            \n",
    "        # Write Generate Audio and Figure\n",
    "        spec_ref, spec_ref_len = gt_spectrogram(wave_model, spec_model, ref_records[0]['audio_filepath'])\n",
    "        spec_gen = gen_spectrogram(spec_model, test_record['text'], test_record['speaker'], spec_ref, spec_ref_len)\n",
    "        audio = sync_audio(vocoder_model, spec_gen)\n",
    "        audio = ipd.Audio(audio, rate=sample_rate)\n",
    "        with open(os.path.join(gensdir_user, f'{i}-Gen.wav'), 'wb') as f: \n",
    "            f.write(audio.data)\n",
    "            \n",
    "        plt.imshow(spec_gen.to('cpu').numpy()[0], origin=\"lower\", aspect=\"auto\")\n",
    "        plt.savefig(os.path.join(gensdir_user, f'{i}-Gen.png'))      \n",
    "        \n",
    "        # Pitch and Duration MSE\n",
    "        file_id = str(Path(test_record['audio_filepath']).relative_to(base_data_dir).with_suffix(\"\")).replace(\"/\", \"_\") \n",
    "        pitch_loss, dur_loss = mse_metrics(spec_model, file_id, test_record['text'], test_record['speaker'], spec_gt, spec_gt_len, pitch_mean, pitch_std)\n",
    "        total_pitch_mse.append(pitch_loss)\n",
    "        total_dur_mse.append(dur_loss)"
   ]
  },
  {
   "cell_type": "code",
   "execution_count": 252,
   "id": "fddef914-4318-4046-ba50-d9e7c86a70b1",
   "metadata": {},
   "outputs": [],
   "source": [
    "os.makedirs(evaldir, exist_ok=True)\n",
    "with open(os.path.join(evaldir,'pitch.pkl'), 'wb') as f:\n",
    "    pickle.dump(total_pitch_mse, f)\n",
    "with open(os.path.join(evaldir,'dur.pkl'), 'wb') as f:\n",
    "    pickle.dump(total_dur_mse, f)"
   ]
  },
  {
   "cell_type": "markdown",
   "id": "d8005646-5e48-4c82-a646-2a5f6e3ea973",
   "metadata": {},
   "source": [
    "# 5. Evaluation"
   ]
  },
  {
   "cell_type": "markdown",
   "id": "45dd8746-af0d-4f57-a1c7-52113233ca43",
   "metadata": {},
   "source": [
    "## a. Pitch and Duration MSE"
   ]
  },
  {
   "cell_type": "code",
   "execution_count": 253,
   "id": "902c2d1c-ba61-4fae-9285-37523829a506",
   "metadata": {},
   "outputs": [
    {
     "name": "stdout",
     "output_type": "stream",
     "text": [
      "Pitch MSE: 0.0877 ± 0.0886\n",
      "Duration MSE: 0.0643 ± 0.0168\n"
     ]
    }
   ],
   "source": [
    "with open(os.path.join(evaldir,'pitch.pkl'), 'rb') as f:\n",
    "    total_pitch_mse = pickle.load(f)\n",
    "with open(os.path.join(evaldir,'dur.pkl'), 'rb') as f:\n",
    "    total_dur_mse = pickle.load(f)\n",
    "    \n",
    "total_pitch_mse_mean = round(np.mean(total_pitch_mse), 4)\n",
    "total_pitch_mse_std = round(np.std(total_pitch_mse), 4)\n",
    "total_dur_mse_mean = round(np.mean(total_dur_mse), 4)\n",
    "total_dur_mse_std = round(np.std(total_dur_mse), 4)\n",
    "\n",
    "print(f'Pitch MSE: {total_pitch_mse_mean} ± {total_pitch_mse_std}')\n",
    "print(f'Duration MSE: {total_dur_mse_mean} ± {total_dur_mse_std}')"
   ]
  },
  {
   "cell_type": "markdown",
   "id": "454d6c4a-119d-47df-9f85-2fa7ecfd408b",
   "metadata": {},
   "source": [
    "## b. Speaker Embedding Cosine Similarity (SECS)"
   ]
  },
  {
   "cell_type": "code",
   "execution_count": 232,
   "id": "a483ea92-a5b6-4b49-bcc7-5bc9f68095ef",
   "metadata": {},
   "outputs": [
    {
     "name": "stdout",
     "output_type": "stream",
     "text": [
      "--2022-09-05 17:03:19--  https://raw.githubusercontent.com/NVIDIA/NeMo/main/scripts/speaker_tasks/filelist_to_manifest.py\n",
      "Resolving raw.githubusercontent.com (raw.githubusercontent.com)... 185.199.109.133, 185.199.108.133, 185.199.110.133, ...\n",
      "Connecting to raw.githubusercontent.com (raw.githubusercontent.com)|185.199.109.133|:443... connected.\n",
      "HTTP request sent, awaiting response... 200 OK\n",
      "Length: 8782 (8.6K) [text/plain]\n",
      "Saving to: ‘filelist_to_manifest.py’\n",
      "\n",
      "filelist_to_manifes 100%[===================>]   8.58K  --.-KB/s    in 0s      \n",
      "\n",
      "2022-09-05 17:03:19 (59.5 MB/s) - ‘filelist_to_manifest.py’ saved [8782/8782]\n",
      "\n",
      "--2022-09-05 17:03:19--  https://raw.githubusercontent.com/NVIDIA/NeMo/main/examples/speaker_tasks/recognition/extract_speaker_embeddings.py\n",
      "Resolving raw.githubusercontent.com (raw.githubusercontent.com)... 185.199.111.133, 185.199.110.133, 185.199.108.133, ...\n",
      "Connecting to raw.githubusercontent.com (raw.githubusercontent.com)|185.199.111.133|:443... connected.\n",
      "HTTP request sent, awaiting response... 200 OK\n",
      "Length: 5144 (5.0K) [text/plain]\n",
      "Saving to: ‘extract_speaker_embeddings.py’\n",
      "\n",
      "extract_speaker_emb 100%[===================>]   5.02K  --.-KB/s    in 0s      \n",
      "\n",
      "2022-09-05 17:03:19 (53.4 MB/s) - ‘extract_speaker_embeddings.py’ saved [5144/5144]\n",
      "\n"
     ]
    }
   ],
   "source": [
    "!cd {codedir} \\\n",
    "&& wget https://raw.githubusercontent.com/NVIDIA/NeMo/$BRANCH/scripts/speaker_tasks/filelist_to_manifest.py \\\n",
    "&& wget https://raw.githubusercontent.com/NVIDIA/NeMo/$BRANCH/examples/speaker_tasks/recognition/extract_speaker_embeddings.py"
   ]
  },
  {
   "cell_type": "code",
   "execution_count": 254,
   "id": "d73930b1-79b4-402d-afd2-af9a8951ebc4",
   "metadata": {},
   "outputs": [],
   "source": [
    "Audio_files = []\n",
    "for root, dirnames, filenames in os.walk(gensdir):\n",
    "    for filename in fnmatch.filter(filenames, '*.wav'):\n",
    "        Audio_files.append(os.path.abspath(os.path.join(root,filename)))"
   ]
  },
  {
   "cell_type": "code",
   "execution_count": 255,
   "id": "30b6e80f-1541-4b9f-80c5-c820782d1b38",
   "metadata": {},
   "outputs": [],
   "source": [
    "with open(f'{evaldir}/secs_evaluation.scp', 'w') as f:\n",
    "    for file in Audio_files:\n",
    "        f.write(file)\n",
    "        f.write('\\n')"
   ]
  },
  {
   "cell_type": "code",
   "execution_count": 256,
   "id": "4dd7b2fc-4445-4199-8c49-b6c41702f206",
   "metadata": {},
   "outputs": [
    {
     "name": "stdout",
     "output_type": "stream",
     "text": [
      "100%|████████████████████████████████████████| 130/130 [00:01<00:00, 124.70it/s]\n",
      "wrote NeMoTTS_eval/secs_evaluation_manifest.json\n",
      "100%|██████████████████████████████████████| 130/130 [00:00<00:00, 54125.42it/s]\n",
      "wrote NeMoTTS_eval/secs_evaluation.json\n",
      "[NeMo W 2022-09-05 17:18:56 optimizers:55] Apex was not found. Using the lamb or fused_adam optimizer will error out.\n",
      "[NeMo I 2022-09-05 17:18:57 cloud:56] Found existing object /home/chsieh/.cache/torch/NeMo/NeMo_1.11.0rc0/titanet-l/492c0ab8416139171dc18c21879a9e45/titanet-l.nemo.\n",
      "[NeMo I 2022-09-05 17:18:57 cloud:62] Re-using file from: /home/chsieh/.cache/torch/NeMo/NeMo_1.11.0rc0/titanet-l/492c0ab8416139171dc18c21879a9e45/titanet-l.nemo\n",
      "[NeMo I 2022-09-05 17:18:57 common:789] Instantiating model from pre-trained checkpoint\n",
      "[NeMo W 2022-09-05 17:18:58 modelPT:149] If you intend to do training or fine-tuning, please call the ModelPT.setup_training_data() method and provide a valid configuration file to setup the train data loader.\n",
      "    Train config : \n",
      "    manifest_filepath: /manifests/combined_fisher_swbd_voxceleb12_librispeech/train.json\n",
      "    sample_rate: 16000\n",
      "    labels: null\n",
      "    batch_size: 64\n",
      "    shuffle: true\n",
      "    time_length: 3\n",
      "    is_tarred: false\n",
      "    tarred_audio_filepaths: null\n",
      "    tarred_shard_strategy: scatter\n",
      "    augmentor:\n",
      "      noise:\n",
      "        manifest_path: /manifests/noise/rir_noise_manifest.json\n",
      "        prob: 0.5\n",
      "        min_snr_db: 0\n",
      "        max_snr_db: 15\n",
      "      speed:\n",
      "        prob: 0.5\n",
      "        sr: 16000\n",
      "        resample_type: kaiser_fast\n",
      "        min_speed_rate: 0.95\n",
      "        max_speed_rate: 1.05\n",
      "    num_workers: 15\n",
      "    pin_memory: true\n",
      "    \n",
      "[NeMo W 2022-09-05 17:18:58 modelPT:156] If you intend to do validation, please call the ModelPT.setup_validation_data() or ModelPT.setup_multiple_validation_data() method and provide a valid configuration file to setup the validation data loader(s). \n",
      "    Validation config : \n",
      "    manifest_filepath: /manifests/combined_fisher_swbd_voxceleb12_librispeech/dev.json\n",
      "    sample_rate: 16000\n",
      "    labels: null\n",
      "    batch_size: 128\n",
      "    shuffle: false\n",
      "    time_length: 3\n",
      "    num_workers: 15\n",
      "    pin_memory: true\n",
      "    \n",
      "[NeMo I 2022-09-05 17:18:58 features:200] PADDING: 16\n",
      "[NeMo I 2022-09-05 17:18:58 label_models:100] loss is Angular Softmax\n",
      "[NeMo W 2022-09-05 17:18:58 nemo_logging:349] /home/chsieh/miniconda3/envs/nemo/lib/python3.8/site-packages/torchmetrics/utilities/prints.py:36: UserWarning: Torchmetrics v0.9 introduced a new argument class property called `full_state_update` that has\n",
      "                    not been set for this class (TopKClassificationAccuracy). The property determines if `update` by\n",
      "                    default needs access to the full metric state. If this is not the case, significant speedups can be\n",
      "                    achieved and we recommend setting this to `False`.\n",
      "                    We provide an checking function\n",
      "                    `from torchmetrics.utilities import check_forward_no_full_state`\n",
      "                    that can be used to check if the `full_state_update=True` (old and potential slower behaviour,\n",
      "                    default for now) or if `full_state_update=False` can be used safely.\n",
      "                    \n",
      "      warnings.warn(*args, **kwargs)\n",
      "    \n",
      "[NeMo I 2022-09-05 17:19:02 save_restore_connector:243] Model EncDecSpeakerLabelModel was successfully restored from /home/chsieh/.cache/torch/NeMo/NeMo_1.11.0rc0/titanet-l/492c0ab8416139171dc18c21879a9e45/titanet-l.nemo.\n",
      "[NeMo I 2022-09-05 17:19:02 extract_speaker_embeddings:127] using pretrained titanet_large speaker model from NGC\n",
      "[NeMo I 2022-09-05 17:19:02 collections:290] Filtered duration for loading collection is 0.000000.\n",
      "[NeMo I 2022-09-05 17:19:02 collections:294] # 130 files loaded accounting to # 2 labels\n",
      "100%|█████████████████████████████████████████| 130/130 [00:14<00:00,  8.76it/s]\n",
      "[NeMo I 2022-09-05 17:19:17 extract_speaker_embeddings:95] Saved embedding files to NeMoTTS_eval/embeddings\n",
      "\u001b[0m"
     ]
    }
   ],
   "source": [
    "!(python {codedir}/filelist_to_manifest.py --filelist {evaldir}/secs_evaluation.scp --id -2 --out {evaldir}/secs_evaluation.json \\\n",
    "&& python {codedir}/extract_speaker_embeddings.py --manifest={evaldir}/secs_evaluation.json --model_path='titanet_large' --embedding_dir={evaldir} \\\n",
    ")"
   ]
  },
  {
   "cell_type": "code",
   "execution_count": 257,
   "id": "c8a63270-4050-4af4-840a-4b027eb99cb2",
   "metadata": {},
   "outputs": [],
   "source": [
    "with open(os.path.join(evaldir, 'embeddings/secs_evaluation_embeddings.pkl'), 'rb') as f:\n",
    "    file = pickle.load(f)"
   ]
  },
  {
   "cell_type": "code",
   "execution_count": 258,
   "id": "a3c59bb4-3e49-43e6-9a68-0a0fe88e4455",
   "metadata": {},
   "outputs": [],
   "source": [
    "speaker_embedding = defaultdict(lambda: defaultdict(list))\n",
    "for k, v in file.items():\n",
    "    spk = k.split('@')[1]\n",
    "    if 'Ref' in k:\n",
    "        speaker_embedding[spk]['Ref'].append(v)\n",
    "    if 'GT.wav' in k:\n",
    "        speaker_embedding[spk]['GT'].append(v)\n",
    "    if 'GTmel.wav' in k:\n",
    "        speaker_embedding[spk]['GTmel'].append(v)\n",
    "    if 'Gen.wav' in k:\n",
    "        speaker_embedding[spk]['Gen'].append(v)"
   ]
  },
  {
   "cell_type": "code",
   "execution_count": 268,
   "id": "d3e7a74f-93d6-4c6a-8fd7-bdf7b7467f07",
   "metadata": {},
   "outputs": [],
   "source": [
    "gt, gtmel, gen = [], [], []\n",
    "\n",
    "for spk, emb in speaker_embedding.items():\n",
    "    ref_emb = np.stack(emb['Ref'])\n",
    "    gt_emb = np.stack(emb['GT'])\n",
    "    gtmel_emb = np.stack(emb['GTmel'])\n",
    "    gen_emb = np.stack(emb['Gen'])\n",
    "    \n",
    "    gt.append((ref_emb @ gt_emb.transpose(1,0)).mean())\n",
    "    gtmel.append((ref_emb @ gtmel_emb.transpose(1,0)).mean())\n",
    "    gen.append((ref_emb @ gen_emb.transpose(1,0)).mean())"
   ]
  },
  {
   "cell_type": "code",
   "execution_count": 282,
   "id": "4ec1f7ca-f48d-4e23-a076-3fc6177a149d",
   "metadata": {},
   "outputs": [
    {
     "name": "stdout",
     "output_type": "stream",
     "text": [
      "GT SECS: 0.729 ± 0.081\n",
      "GTmel SECS: 0.44 ± 0.013\n",
      "Gen SECS: -0.317 ± 0.013\n"
     ]
    }
   ],
   "source": [
    "print(f'GT SECS: {round(np.mean(gt).item(), 3)} ± {round(np.std(gt).item(), 3)}')\n",
    "print(f'GTmel SECS: {round(np.mean(gtmel).item(), 3)} ± {round(np.std(gtmel).item(), 3)}')\n",
    "print(f'Gen SECS: {round(np.mean(gen).item(), 3)} ± {round(np.std(gen).item(), 3)}')"
   ]
  },
  {
   "cell_type": "markdown",
   "id": "21f26171-192d-48cd-8fc5-10db552250d2",
   "metadata": {},
   "source": [
    "## c. Conditional Frechet Speech Distance (CFSD)"
   ]
  },
  {
   "cell_type": "code",
   "execution_count": 283,
   "id": "88d02c83-d5f6-41bc-b1c1-d5be17ea8272",
   "metadata": {},
   "outputs": [],
   "source": [
    "from transformers import Wav2Vec2Processor, Wav2Vec2Model\n",
    "from scipy import linalg"
   ]
  },
  {
   "cell_type": "code",
   "execution_count": 287,
   "id": "85fcc0d5-1357-48a5-b5e6-8b6c1aadab7b",
   "metadata": {},
   "outputs": [],
   "source": [
    "device = torch.device(\"cuda\" if torch.cuda.is_available() else \"cpu\")"
   ]
  },
  {
   "cell_type": "code",
   "execution_count": 289,
   "id": "5d5bc08d-c033-4b97-938d-bff65dbec2cb",
   "metadata": {},
   "outputs": [
    {
     "name": "stderr",
     "output_type": "stream",
     "text": [
      "Some weights of the model checkpoint at facebook/wav2vec2-large-xlsr-53 were not used when initializing Wav2Vec2Model: ['project_hid.weight', 'project_q.weight', 'quantizer.codevectors', 'quantizer.weight_proj.bias', 'project_q.bias', 'project_hid.bias', 'quantizer.weight_proj.weight']\n",
      "- This IS expected if you are initializing Wav2Vec2Model from the checkpoint of a model trained on another task or with another architecture (e.g. initializing a BertForSequenceClassification model from a BertForPreTraining model).\n",
      "- This IS NOT expected if you are initializing Wav2Vec2Model from the checkpoint of a model that you expect to be exactly identical (initializing a BertForSequenceClassification model from a BertForSequenceClassification model).\n"
     ]
    }
   ],
   "source": [
    "wave_model = WaveformFeaturizer(sample_rate=16000)\n",
    "processor = Wav2Vec2Processor.from_pretrained(\"facebook/wav2vec2-base-960h\")\n",
    "model = Wav2Vec2Model.from_pretrained(\"facebook/wav2vec2-large-xlsr-53\").to(device)"
   ]
  },
  {
   "cell_type": "code",
   "execution_count": 294,
   "id": "867379ce-95f0-4a00-b463-bda0151e3f9e",
   "metadata": {},
   "outputs": [],
   "source": [
    "def get_activation(filename):\n",
    "    audio = wave_model.process(filename, trim=False)\n",
    "    inputs = processor(audio, sampling_rate=16000, return_tensors=\"pt\").to(device)\n",
    "    with torch.no_grad():\n",
    "        outputs = model(**inputs)\n",
    "    # activation = outputs.last_hidden_state.mean(axis=1)\n",
    "    activation = outputs.extract_features.mean(axis=1).cpu().numpy()\n",
    "    return activation\n",
    "\n",
    "def frechet_classifier_distance_from_activations(activations1, activations2):\n",
    "    mu1, sigma1 = calculate_activation_statistics(activations1)\n",
    "    mu2, sigma2 = calculate_activation_statistics(activations2)\n",
    "    fid = calculate_frechet_distance(mu1, sigma1, mu2, sigma2)\n",
    "    return fid\n",
    "\n",
    "def calculate_activation_statistics(act):\n",
    "    mu = np.mean(act, axis=0)\n",
    "    sigma = np.cov(act, rowvar=False)\n",
    "    return mu, sigma\n",
    "\n",
    "def calculate_frechet_distance(mu1, sigma1, mu2, sigma2, eps=1e-6):\n",
    "    mu1 = np.atleast_1d(mu1)\n",
    "    mu2 = np.atleast_1d(mu2)\n",
    "\n",
    "    sigma1 = np.atleast_2d(sigma1)\n",
    "    sigma2 = np.atleast_2d(sigma2)\n",
    "\n",
    "    assert mu1.shape == mu2.shape, \"Training and test mean vectors have different lengths\"\n",
    "    assert sigma1.shape == sigma2.shape, \"Training and test covariances have different dimensions\"\n",
    "\n",
    "    diff = mu1 - mu2\n",
    "    # product might be almost singular\n",
    "    covmean, _ = linalg.sqrtm(sigma1.dot(sigma2), disp=False)\n",
    "    if not np.isfinite(covmean).all():\n",
    "        msg = \"fid calculation produces singular product; adding %s to diagonal of cov estimates\" % eps\n",
    "        warnings.warn(msg)\n",
    "        offset = np.eye(sigma1.shape[0]) * eps\n",
    "        covmean = linalg.sqrtm((sigma1 + offset).dot(sigma2 + offset))\n",
    "\n",
    "    # numerical error might give slight imaginary component\n",
    "    if np.iscomplexobj(covmean):\n",
    "        if not np.allclose(np.diagonal(covmean).imag, 0, atol=1e-3):\n",
    "            m = np.max(np.abs(covmean.imag))\n",
    "            raise ValueError(\"Imaginary component {}\".format(m))\n",
    "        covmean = covmean.real\n",
    "\n",
    "    tr_covmean = np.trace(covmean)\n",
    "\n",
    "    return diff.dot(diff) + np.trace(sigma1) + np.trace(sigma2) - 2 * tr_covmean"
   ]
  },
  {
   "cell_type": "code",
   "execution_count": 264,
   "id": "824a1609-dd3d-47e0-a8d6-ccd50c13c56d",
   "metadata": {},
   "outputs": [],
   "source": [
    "gn_files = []\n",
    "gt_files = []\n",
    "for root, dirnames, filenames in os.walk(f'{gensdir}'):\n",
    "    for filename in fnmatch.filter(filenames, '*Gen.wav'):\n",
    "        gn_files.append(os.path.join(root,filename))\n",
    "        gt_files.append(gn_files[-1].replace(\"Gen\", \"GT\"))"
   ]
  },
  {
   "cell_type": "code",
   "execution_count": 297,
   "id": "796cda93-288b-41f0-bff4-deece84c2b4e",
   "metadata": {},
   "outputs": [
    {
     "name": "stderr",
     "output_type": "stream",
     "text": [
      "40it [00:10,  3.85it/s]\n"
     ]
    }
   ],
   "source": [
    "gns = []\n",
    "gts = []\n",
    "for gn, gt in tqdm(zip(gn_files, gt_files)):\n",
    "    gns.append(get_activation(gn))\n",
    "    gts.append(get_activation(gt))"
   ]
  },
  {
   "cell_type": "code",
   "execution_count": 298,
   "id": "69354dbe-02ae-4b9a-bc5f-8447d1f0598a",
   "metadata": {},
   "outputs": [
    {
     "name": "stdout",
     "output_type": "stream",
     "text": [
      "923.4989907730557\n"
     ]
    }
   ],
   "source": [
    "print(frechet_classifier_distance_from_activations(np.concatenate(gts), np.concatenate(gns)))"
   ]
  },
  {
   "cell_type": "code",
   "execution_count": null,
   "id": "a57cad9c-0539-43a9-8082-f81fa64c57ad",
   "metadata": {},
   "outputs": [],
   "source": []
  }
 ],
 "metadata": {
  "kernelspec": {
   "display_name": "nemo",
   "language": "python",
   "name": "nemo"
  },
  "language_info": {
   "codemirror_mode": {
    "name": "ipython",
    "version": 3
   },
   "file_extension": ".py",
   "mimetype": "text/x-python",
   "name": "python",
   "nbconvert_exporter": "python",
   "pygments_lexer": "ipython3",
   "version": "3.8.0"
  }
 },
 "nbformat": 4,
 "nbformat_minor": 5
}
